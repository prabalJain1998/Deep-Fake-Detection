{
 "cells": [
  {
   "cell_type": "code",
   "execution_count": 7,
   "metadata": {
    "id": "wc8QLf_MFD-P"
   },
   "outputs": [],
   "source": [
    "import numpy as np\n",
    "import os \n",
    "os.chdir('C:\\\\Users\\\\Pruthivi\\\\Desktop\\\\2_Avyakt\\\\Baselines')"
   ]
  },
  {
   "cell_type": "code",
   "execution_count": 8,
   "metadata": {
    "id": "zL3ihNOAFD-T",
    "outputId": "18ce6d7a-3a53-4c21-b038-081b0a255cbf"
   },
   "outputs": [
    {
     "data": {
      "text/plain": [
       "['.ipynb_checkpoints',\n",
       " '.jovianrc',\n",
       " 'Baseline_CNN.ipynb',\n",
       " 'Baseline_Mesonet.ipynb',\n",
       " 'CNN_Model_1_64',\n",
       " 'CNN_Model_1_64_Best',\n",
       " 'Mesonet_1_Model.h5',\n",
       " 'Mesonet_4_Model.h5',\n",
       " 'metadata',\n",
       " 'Predict.ipynb',\n",
       " 'Preprocessing.ipynb',\n",
       " 'Test']"
      ]
     },
     "execution_count": 8,
     "metadata": {},
     "output_type": "execute_result"
    }
   ],
   "source": [
    "os.listdir()"
   ]
  },
  {
   "cell_type": "code",
   "execution_count": 9,
   "metadata": {
    "id": "qNp8H1XzFD-V",
    "outputId": "b3dcfd22-2ba4-4a8d-fc1c-cd72d6542ed6"
   },
   "outputs": [
    {
     "name": "stderr",
     "output_type": "stream",
     "text": [
      "C:\\Users\\Pruthivi\\anaconda3\\lib\\site-packages\\IPython\\core\\interactiveshell.py:3146: DtypeWarning: Columns (14,18,19,20,21,22) have mixed types.Specify dtype option on import or set low_memory=False.\n",
      "  has_raised = await self.run_ast_nodes(code_ast.body, cell_name,\n"
     ]
    }
   ],
   "source": [
    "import pandas as pd\n",
    "file = pd.read_csv('metadata')"
   ]
  },
  {
   "cell_type": "code",
   "execution_count": 10,
   "metadata": {
    "id": "jrn5hLoKFD-W",
    "outputId": "899cf483-4b2e-44c4-b440-cdfff8309704"
   },
   "outputs": [
    {
     "data": {
      "text/html": [
       "<div>\n",
       "<style scoped>\n",
       "    .dataframe tbody tr th:only-of-type {\n",
       "        vertical-align: middle;\n",
       "    }\n",
       "\n",
       "    .dataframe tbody tr th {\n",
       "        vertical-align: top;\n",
       "    }\n",
       "\n",
       "    .dataframe thead th {\n",
       "        text-align: right;\n",
       "    }\n",
       "</style>\n",
       "<table border=\"1\" class=\"dataframe\">\n",
       "  <thead>\n",
       "    <tr style=\"text-align: right;\">\n",
       "      <th></th>\n",
       "      <th>filename</th>\n",
       "      <th>video.@index</th>\n",
       "      <th>video.@codec_time_base</th>\n",
       "      <th>video.@width</th>\n",
       "      <th>video.@height</th>\n",
       "      <th>video.@sample_aspect_ratio</th>\n",
       "      <th>video.@display_aspect_ratio</th>\n",
       "      <th>video.@level</th>\n",
       "      <th>video.@r_frame_rate</th>\n",
       "      <th>video.@time_base</th>\n",
       "      <th>...</th>\n",
       "      <th>original</th>\n",
       "      <th>folder</th>\n",
       "      <th>wav.hash.cnt</th>\n",
       "      <th>original.cnt</th>\n",
       "      <th>md5</th>\n",
       "      <th>md5.orig</th>\n",
       "      <th>wav.hash</th>\n",
       "      <th>wav.hash.orig</th>\n",
       "      <th>pxl.hash</th>\n",
       "      <th>pxl.hash.orig</th>\n",
       "    </tr>\n",
       "  </thead>\n",
       "  <tbody>\n",
       "    <tr>\n",
       "      <th>0</th>\n",
       "      <td>hrundztjfb.mp4</td>\n",
       "      <td>0</td>\n",
       "      <td>2500/150301</td>\n",
       "      <td>1920</td>\n",
       "      <td>1080</td>\n",
       "      <td>1:1</td>\n",
       "      <td>16:9</td>\n",
       "      <td>40</td>\n",
       "      <td>150301/5000</td>\n",
       "      <td>1/150301</td>\n",
       "      <td>...</td>\n",
       "      <td>vvrlglaepq.mp4</td>\n",
       "      <td>dfdc_train_part_12</td>\n",
       "      <td>3.0</td>\n",
       "      <td>2.0</td>\n",
       "      <td>7b1db59bdb78179aa3ed78a4270ed063</td>\n",
       "      <td>d98cd8af0ba7ce2a51acefb2c0502b71</td>\n",
       "      <td>6877743394119074431s</td>\n",
       "      <td>6877743394119074431s</td>\n",
       "      <td>4312499372455908935s</td>\n",
       "      <td>16061268809469102567s</td>\n",
       "    </tr>\n",
       "    <tr>\n",
       "      <th>1</th>\n",
       "      <td>uyfnfvsxez.mp4</td>\n",
       "      <td>0</td>\n",
       "      <td>50/2997</td>\n",
       "      <td>1920</td>\n",
       "      <td>1080</td>\n",
       "      <td>NAN</td>\n",
       "      <td>NAN</td>\n",
       "      <td>40</td>\n",
       "      <td>2997/100</td>\n",
       "      <td>1/11988</td>\n",
       "      <td>...</td>\n",
       "      <td>NAN</td>\n",
       "      <td>dfdc_train_part_12</td>\n",
       "      <td>2.0</td>\n",
       "      <td>NaN</td>\n",
       "      <td>62c47bd354599ce0fad65d28ef4b78b9</td>\n",
       "      <td>NaN</td>\n",
       "      <td>-4734951634879773329s</td>\n",
       "      <td>NaN</td>\n",
       "      <td>17835547769154037975s</td>\n",
       "      <td>NaN</td>\n",
       "    </tr>\n",
       "    <tr>\n",
       "      <th>2</th>\n",
       "      <td>yknlciphae.mp4</td>\n",
       "      <td>0</td>\n",
       "      <td>50/2997</td>\n",
       "      <td>1920</td>\n",
       "      <td>1080</td>\n",
       "      <td>1:1</td>\n",
       "      <td>16:9</td>\n",
       "      <td>40</td>\n",
       "      <td>2997/100</td>\n",
       "      <td>1/11988</td>\n",
       "      <td>...</td>\n",
       "      <td>ahesnzswur.mp4</td>\n",
       "      <td>dfdc_train_part_12</td>\n",
       "      <td>6.0</td>\n",
       "      <td>5.0</td>\n",
       "      <td>a0e4d1f8bf2636def22dc2f2b21187dd</td>\n",
       "      <td>3bb70580dbf21c4719f17c4e4617c398</td>\n",
       "      <td>-5599986156292069640s</td>\n",
       "      <td>-5599986156292069640s</td>\n",
       "      <td>16356267960363338360s</td>\n",
       "      <td>14219253130038039922s</td>\n",
       "    </tr>\n",
       "    <tr>\n",
       "      <th>3</th>\n",
       "      <td>zfyczzssiz.mp4</td>\n",
       "      <td>0</td>\n",
       "      <td>50/2997</td>\n",
       "      <td>1920</td>\n",
       "      <td>1080</td>\n",
       "      <td>1:1</td>\n",
       "      <td>16:9</td>\n",
       "      <td>40</td>\n",
       "      <td>2997/100</td>\n",
       "      <td>1/11988</td>\n",
       "      <td>...</td>\n",
       "      <td>jdvzqjihud.mp4</td>\n",
       "      <td>dfdc_train_part_12</td>\n",
       "      <td>7.0</td>\n",
       "      <td>6.0</td>\n",
       "      <td>d641ebd07badeb89c0d389019d9f7e72</td>\n",
       "      <td>c77170df2cc8b40ef1d39b6d79105321</td>\n",
       "      <td>-1564427678199738496s</td>\n",
       "      <td>-1564427678199738496s</td>\n",
       "      <td>12983824148373679782s</td>\n",
       "      <td>6108291220829004959s</td>\n",
       "    </tr>\n",
       "    <tr>\n",
       "      <th>4</th>\n",
       "      <td>kggbciadwj.mp4</td>\n",
       "      <td>0</td>\n",
       "      <td>125/7501</td>\n",
       "      <td>1080</td>\n",
       "      <td>1920</td>\n",
       "      <td>1:1</td>\n",
       "      <td>9:16</td>\n",
       "      <td>40</td>\n",
       "      <td>7501/250</td>\n",
       "      <td>1/15002</td>\n",
       "      <td>...</td>\n",
       "      <td>NAN</td>\n",
       "      <td>dfdc_train_part_12</td>\n",
       "      <td>9.0</td>\n",
       "      <td>NaN</td>\n",
       "      <td>7de3ddacab0c9109e2a985d2c03244ea</td>\n",
       "      <td>NaN</td>\n",
       "      <td>-1251615899500302547s</td>\n",
       "      <td>NaN</td>\n",
       "      <td>970391495631676767s</td>\n",
       "      <td>NaN</td>\n",
       "    </tr>\n",
       "  </tbody>\n",
       "</table>\n",
       "<p>5 rows × 35 columns</p>\n",
       "</div>"
      ],
      "text/plain": [
       "         filename  video.@index video.@codec_time_base  video.@width  \\\n",
       "0  hrundztjfb.mp4             0            2500/150301          1920   \n",
       "1  uyfnfvsxez.mp4             0                50/2997          1920   \n",
       "2  yknlciphae.mp4             0                50/2997          1920   \n",
       "3  zfyczzssiz.mp4             0                50/2997          1920   \n",
       "4  kggbciadwj.mp4             0               125/7501          1080   \n",
       "\n",
       "   video.@height video.@sample_aspect_ratio video.@display_aspect_ratio  \\\n",
       "0           1080                        1:1                        16:9   \n",
       "1           1080                        NAN                         NAN   \n",
       "2           1080                        1:1                        16:9   \n",
       "3           1080                        1:1                        16:9   \n",
       "4           1920                        1:1                        9:16   \n",
       "\n",
       "   video.@level video.@r_frame_rate video.@time_base  ...        original  \\\n",
       "0            40         150301/5000         1/150301  ...  vvrlglaepq.mp4   \n",
       "1            40            2997/100          1/11988  ...             NAN   \n",
       "2            40            2997/100          1/11988  ...  ahesnzswur.mp4   \n",
       "3            40            2997/100          1/11988  ...  jdvzqjihud.mp4   \n",
       "4            40            7501/250          1/15002  ...             NAN   \n",
       "\n",
       "               folder  wav.hash.cnt  original.cnt  \\\n",
       "0  dfdc_train_part_12           3.0           2.0   \n",
       "1  dfdc_train_part_12           2.0           NaN   \n",
       "2  dfdc_train_part_12           6.0           5.0   \n",
       "3  dfdc_train_part_12           7.0           6.0   \n",
       "4  dfdc_train_part_12           9.0           NaN   \n",
       "\n",
       "                                md5                          md5.orig  \\\n",
       "0  7b1db59bdb78179aa3ed78a4270ed063  d98cd8af0ba7ce2a51acefb2c0502b71   \n",
       "1  62c47bd354599ce0fad65d28ef4b78b9                               NaN   \n",
       "2  a0e4d1f8bf2636def22dc2f2b21187dd  3bb70580dbf21c4719f17c4e4617c398   \n",
       "3  d641ebd07badeb89c0d389019d9f7e72  c77170df2cc8b40ef1d39b6d79105321   \n",
       "4  7de3ddacab0c9109e2a985d2c03244ea                               NaN   \n",
       "\n",
       "                wav.hash          wav.hash.orig               pxl.hash  \\\n",
       "0   6877743394119074431s   6877743394119074431s   4312499372455908935s   \n",
       "1  -4734951634879773329s                    NaN  17835547769154037975s   \n",
       "2  -5599986156292069640s  -5599986156292069640s  16356267960363338360s   \n",
       "3  -1564427678199738496s  -1564427678199738496s  12983824148373679782s   \n",
       "4  -1251615899500302547s                    NaN    970391495631676767s   \n",
       "\n",
       "           pxl.hash.orig  \n",
       "0  16061268809469102567s  \n",
       "1                    NaN  \n",
       "2  14219253130038039922s  \n",
       "3   6108291220829004959s  \n",
       "4                    NaN  \n",
       "\n",
       "[5 rows x 35 columns]"
      ]
     },
     "execution_count": 10,
     "metadata": {},
     "output_type": "execute_result"
    }
   ],
   "source": [
    "file.head()"
   ]
  },
  {
   "cell_type": "code",
   "execution_count": 11,
   "metadata": {},
   "outputs": [],
   "source": [
    "s =set()\n",
    "temp = list()\n",
    "\n",
    "fol = np.unique(file['folder'])\n",
    "final_data = dict()\n",
    "for each_fol in fol:\n",
    "    temp = dict()\n",
    "    file_temp = file[file['folder'] == each_fol]\n",
    "    file_temp = file_temp[file_temp['original'] != 'NAN']\n",
    "    video_name = set()\n",
    "    r = set()\n",
    "    f = set()\n",
    "    c = 0\n",
    "    for i in range(len(file_temp)):\n",
    "        if file_temp['original'].values[i] not in r:\n",
    "            video_name.add(file_temp['filename'].values[i])\n",
    "            video_name.add(file_temp['original'].values[i])\n",
    "            r.add(file_temp['original'].values[i])\n",
    "            f.add((file_temp['filename'].values[i]))\n",
    "            c = c+2\n",
    "        if(c == 100):\n",
    "            break\n",
    "    temp['Real'] = r\n",
    "    temp['Fake'] = f\n",
    "    final_data[each_fol] = temp"
   ]
  },
  {
   "cell_type": "code",
   "execution_count": 16,
   "metadata": {},
   "outputs": [],
   "source": [
    "# len(final_data['dfdc_train_part_11']['Fake'])"
   ]
  },
  {
   "cell_type": "code",
   "execution_count": 18,
   "metadata": {},
   "outputs": [],
   "source": [
    "# final_data"
   ]
  },
  {
   "cell_type": "code",
   "execution_count": 112,
   "metadata": {},
   "outputs": [],
   "source": [
    "# import shutil\n",
    "# real_path = 'D:\\\\Delete\\\\Real'\n",
    "# fake_path = 'D:\\\\Delete\\\\Fake'\n",
    "# full_data_path = 'F:\\dfdc_train_all\\\\'\n",
    "# for folder, v in final_data.items():\n",
    "#         PATH = os.path.join(full_data_path, folder)\n",
    "#         my_dict = final_data[folder]\n",
    "#         #Real video shift\n",
    "#         temp = my_dict['Real']\n",
    "#         for i in temp:\n",
    "#             shutil.move(os.path.join(PATH,i), real_path)\n",
    "#         fake video shift\n",
    "#         temp2 = my_dict['Fake']\n",
    "#         for j in temp2:\n",
    "#             shutil.move(os.path.join(PATH,j), fake_path)"
   ]
  },
  {
   "cell_type": "code",
   "execution_count": 26,
   "metadata": {},
   "outputs": [],
   "source": [
    "#Creating Full dataframe \n",
    "full_data = []\n",
    "for keys in final_data.keys():\n",
    "    fol_name = final_data[keys]\n",
    "    re_ = fol_name['Real']\n",
    "    fa_  = fol_name['Fake']\n",
    "    for re_v in re_:\n",
    "        temp = []\n",
    "        temp.append(keys)\n",
    "        temp.append(re_v)\n",
    "        temp.append('Real')\n",
    "        full_data.append(temp)\n",
    "    for fa_v in fa_:\n",
    "        temp2 = []\n",
    "        temp2.append(keys)\n",
    "        temp2.append(fa_v)\n",
    "        temp2.append('Fake')\n",
    "        full_data.append(temp2)"
   ]
  },
  {
   "cell_type": "code",
   "execution_count": 30,
   "metadata": {},
   "outputs": [],
   "source": [
    "full_data_df = pd.DataFrame(full_data)\n",
    "full_data_df.columns = ['Folder','Video_name','Label']\n",
    "full_data_df = full_data_df.sample(frac = 1)\n",
    "full_data = full_data_df"
   ]
  },
  {
   "cell_type": "code",
   "execution_count": 31,
   "metadata": {},
   "outputs": [
    {
     "data": {
      "text/html": [
       "<div>\n",
       "<style scoped>\n",
       "    .dataframe tbody tr th:only-of-type {\n",
       "        vertical-align: middle;\n",
       "    }\n",
       "\n",
       "    .dataframe tbody tr th {\n",
       "        vertical-align: top;\n",
       "    }\n",
       "\n",
       "    .dataframe thead th {\n",
       "        text-align: right;\n",
       "    }\n",
       "</style>\n",
       "<table border=\"1\" class=\"dataframe\">\n",
       "  <thead>\n",
       "    <tr style=\"text-align: right;\">\n",
       "      <th></th>\n",
       "      <th>Folder</th>\n",
       "      <th>Video_name</th>\n",
       "      <th>Label</th>\n",
       "    </tr>\n",
       "  </thead>\n",
       "  <tbody>\n",
       "    <tr>\n",
       "      <th>98</th>\n",
       "      <td>dfdc_train_part_0</td>\n",
       "      <td>csqojsqtgn.mp4</td>\n",
       "      <td>Fake</td>\n",
       "    </tr>\n",
       "    <tr>\n",
       "      <th>685</th>\n",
       "      <td>dfdc_train_part_14</td>\n",
       "      <td>ieediducjd.mp4</td>\n",
       "      <td>Fake</td>\n",
       "    </tr>\n",
       "    <tr>\n",
       "      <th>4320</th>\n",
       "      <td>dfdc_train_part_48</td>\n",
       "      <td>alzbizkswy.mp4</td>\n",
       "      <td>Real</td>\n",
       "    </tr>\n",
       "    <tr>\n",
       "      <th>3794</th>\n",
       "      <td>dfdc_train_part_42</td>\n",
       "      <td>bowsazznoh.mp4</td>\n",
       "      <td>Fake</td>\n",
       "    </tr>\n",
       "    <tr>\n",
       "      <th>663</th>\n",
       "      <td>dfdc_train_part_14</td>\n",
       "      <td>ahxspfdyny.mp4</td>\n",
       "      <td>Fake</td>\n",
       "    </tr>\n",
       "    <tr>\n",
       "      <th>...</th>\n",
       "      <td>...</td>\n",
       "      <td>...</td>\n",
       "      <td>...</td>\n",
       "    </tr>\n",
       "    <tr>\n",
       "      <th>554</th>\n",
       "      <td>dfdc_train_part_13</td>\n",
       "      <td>bpisbvizga.mp4</td>\n",
       "      <td>Fake</td>\n",
       "    </tr>\n",
       "    <tr>\n",
       "      <th>4551</th>\n",
       "      <td>dfdc_train_part_5</td>\n",
       "      <td>vwcdgwdecc.mp4</td>\n",
       "      <td>Fake</td>\n",
       "    </tr>\n",
       "    <tr>\n",
       "      <th>4464</th>\n",
       "      <td>dfdc_train_part_49</td>\n",
       "      <td>bajfrpmupx.mp4</td>\n",
       "      <td>Fake</td>\n",
       "    </tr>\n",
       "    <tr>\n",
       "      <th>4101</th>\n",
       "      <td>dfdc_train_part_46</td>\n",
       "      <td>qmaehrupub.mp4</td>\n",
       "      <td>Real</td>\n",
       "    </tr>\n",
       "    <tr>\n",
       "      <th>398</th>\n",
       "      <td>dfdc_train_part_11</td>\n",
       "      <td>dvwhlcpaem.mp4</td>\n",
       "      <td>Fake</td>\n",
       "    </tr>\n",
       "  </tbody>\n",
       "</table>\n",
       "<p>5000 rows × 3 columns</p>\n",
       "</div>"
      ],
      "text/plain": [
       "                  Folder      Video_name Label\n",
       "98     dfdc_train_part_0  csqojsqtgn.mp4  Fake\n",
       "685   dfdc_train_part_14  ieediducjd.mp4  Fake\n",
       "4320  dfdc_train_part_48  alzbizkswy.mp4  Real\n",
       "3794  dfdc_train_part_42  bowsazznoh.mp4  Fake\n",
       "663   dfdc_train_part_14  ahxspfdyny.mp4  Fake\n",
       "...                  ...             ...   ...\n",
       "554   dfdc_train_part_13  bpisbvizga.mp4  Fake\n",
       "4551   dfdc_train_part_5  vwcdgwdecc.mp4  Fake\n",
       "4464  dfdc_train_part_49  bajfrpmupx.mp4  Fake\n",
       "4101  dfdc_train_part_46  qmaehrupub.mp4  Real\n",
       "398   dfdc_train_part_11  dvwhlcpaem.mp4  Fake\n",
       "\n",
       "[5000 rows x 3 columns]"
      ]
     },
     "execution_count": 31,
     "metadata": {},
     "output_type": "execute_result"
    }
   ],
   "source": [
    "full_data"
   ]
  },
  {
   "cell_type": "code",
   "execution_count": null,
   "metadata": {
    "id": "0pbVqAMDFD-X"
   },
   "outputs": [],
   "source": [
    "# labels = file[file['folder']=='dfdc_train_part_13']['label']\n",
    "# original_video =  file[file['folder']=='dfdc_train_part_13']['original']\n",
    "# video_name =  file[file['folder']=='dfdc_train_part_13']['filename']\n",
    "# final_data = pd.DataFrame({'video_name':video_name, 'original_video':original_video, 'Label':labels})\n",
    "# full_data = final_data.reset_index()\n",
    "# full_data = full_data.drop(['index'], axis = 1)"
   ]
  },
  {
   "cell_type": "code",
   "execution_count": 33,
   "metadata": {
    "id": "VNCQWWhnFD-X",
    "outputId": "759f228a-5950-4e5c-b5c2-8687a95d862f"
   },
   "outputs": [],
   "source": [
    "# full_data"
   ]
  },
  {
   "cell_type": "code",
   "execution_count": null,
   "metadata": {
    "id": "d3OoEYm6FD-Y"
   },
   "outputs": [],
   "source": [
    "# path = 'C:\\\\Users\\\\narayanan\\\\Desktop\\\\dataset'"
   ]
  },
  {
   "cell_type": "code",
   "execution_count": null,
   "metadata": {
    "id": "2I-iR9pTFD-Y"
   },
   "outputs": [],
   "source": [
    "# source_path = 'C:\\\\Users\\\\narayanan\\\\Desktop\\\\dataset'\n",
    "# Fake_path =  'C:\\\\Users\\\\narayanan\\\\Desktop\\\\fake'\n",
    "# Real_path =  'C:\\\\Users\\\\narayanan\\\\Desktop\\\\real'"
   ]
  },
  {
   "cell_type": "code",
   "execution_count": null,
   "metadata": {
    "id": "z-QXTav-FD-Z"
   },
   "outputs": [],
   "source": [
    "# import shutil\n",
    "# def doSomething(source_path, Fake_path, Real_path):\n",
    "#   for folders in os.listdir(source_path):\n",
    "#     if(folders == '13_0.zip'):\n",
    "#       print('A')\n",
    "#       continue\n",
    "#     elif(folders == 'part_1.zip'):\n",
    "#       print('B')\n",
    "#       continue\n",
    "#     elif(folders =='real'):\n",
    "#       print('C')\n",
    "#       continue\n",
    "#     elif(folders == 'Test'):\n",
    "#       print('D')\n",
    "#       continue\n",
    "#     elif(folders == 'fake'):\n",
    "#       print('E')\n",
    "#       continue\n",
    "#     else:\n",
    "#       video = folders+\".mp4\"\n",
    "#       if(full_data[full_data['video_name'] == video]['Label'].values[0] == 'FAKE'):\n",
    "#         shutil.move(os.path.join(source_path, folders), Fake_path)\n",
    "#       elif(full_data[full_data['video_name'] == video]['Label'].values[0] == 'REAL'):\n",
    "#         shutil.move(os.path.join(source_path, folders), Real_path)\n",
    "#       else:\n",
    "#         continue\n",
    "#     print('Video {}'.format(folders))"
   ]
  },
  {
   "cell_type": "code",
   "execution_count": null,
   "metadata": {
    "id": "ORtCa4F_FD-Z"
   },
   "outputs": [],
   "source": [
    "# doSomething(source_path,Fake_path,Real_path)"
   ]
  },
  {
   "cell_type": "code",
   "execution_count": 35,
   "metadata": {
    "id": "UmNchVIKFD-a"
   },
   "outputs": [],
   "source": [
    "print('FAKE',len(os.listdir(Fake_path)))\n",
    "print('REAL',len(os.listdir(Real_path)))"
   ]
  },
  {
   "cell_type": "code",
   "execution_count": null,
   "metadata": {
    "id": "aOmRfV8UFD-a"
   },
   "outputs": [],
   "source": [
    "import tqdm.notebook as tq\n",
    "import numpy as np\n",
    "import os\n",
    "from PIL import Image"
   ]
  },
  {
   "cell_type": "code",
   "execution_count": null,
   "metadata": {
    "id": "7snlYoW5FD-b"
   },
   "outputs": [],
   "source": [
    "import cv2\n",
    "real_data_X = list()\n",
    "real_data_y = list()\n",
    "num1 = 256\n",
    "num2 = 256\n",
    "for fold in tq.tqdm(os.listdir(Real_path)):\n",
    "  new_path = os.path.join(Real_path, fold)\n",
    "  c = 0\n",
    "  for frames in os.listdir(new_path):\n",
    "    if(c == 150):\n",
    "        break\n",
    "    c = c + 1\n",
    "    #print('Frame {}'.format(frames))\n",
    "    path_a = os.path.join(new_path,frames)\n",
    "    img = cv2.imread(path_a)\n",
    "    new_img = cv2.resize(img, (num2, num1))\n",
    "    real_data_X.append(new_img)\n",
    "    real_data_y.append(1)\n",
    "  #print(fold)"
   ]
  },
  {
   "cell_type": "code",
   "execution_count": null,
   "metadata": {
    "id": "jzM_KZXvFD-b"
   },
   "outputs": [],
   "source": [
    "import cv2\n",
    "fake_data_X = list()\n",
    "fake_data_y = list()\n",
    "num1 = 256\n",
    "num2 = 256\n",
    "for fold in tq.tqdm(os.listdir(Fake_path)):\n",
    "  new_path = os.path.join(Fake_path, fold)\n",
    "  c = 0\n",
    "  for frames in os.listdir(new_path):\n",
    "    if c == 20:\n",
    "        break\n",
    "    c = c + 1\n",
    "    #print('Frame {}'.format(frames))\n",
    "    path_a = os.path.join(new_path,frames)\n",
    "    img = cv2.imread(path_a)\n",
    "    new_img = cv2.resize(img, (num2, num1))\n",
    "    fake_data_X.append(new_img)\n",
    "    fake_data_y.append(0)\n",
    "  #print(fold)"
   ]
  },
  {
   "cell_type": "code",
   "execution_count": null,
   "metadata": {
    "id": "utU0NTfHFD-c"
   },
   "outputs": [],
   "source": [
    "np.array(real_data_X).shape, np.array(fake_data_X).shape"
   ]
  },
  {
   "cell_type": "code",
   "execution_count": null,
   "metadata": {
    "id": "yflHIt7JFD-c"
   },
   "outputs": [],
   "source": [
    "X = np.concatenate((real_data_X, fake_data_X))\n",
    "y = np.concatenate((real_data_y, fake_data_y))"
   ]
  },
  {
   "cell_type": "code",
   "execution_count": null,
   "metadata": {
    "id": "E7Z5oVL9FD-c"
   },
   "outputs": [],
   "source": [
    "np.save('X_256.npy',X)\n",
    "np.save('y_256.npy',y)"
   ]
  }
 ],
 "metadata": {
  "colab": {
   "collapsed_sections": [],
   "name": "Preprocessing",
   "provenance": []
  },
  "kernelspec": {
   "display_name": "Python 3",
   "language": "python",
   "name": "python3"
  },
  "language_info": {
   "codemirror_mode": {
    "name": "ipython",
    "version": 3
   },
   "file_extension": ".py",
   "mimetype": "text/x-python",
   "name": "python",
   "nbconvert_exporter": "python",
   "pygments_lexer": "ipython3",
   "version": "3.8.5"
  }
 },
 "nbformat": 4,
 "nbformat_minor": 1
}
