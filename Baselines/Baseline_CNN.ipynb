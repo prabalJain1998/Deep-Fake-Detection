{
 "cells": [
  {
   "cell_type": "code",
   "execution_count": 1,
   "metadata": {},
   "outputs": [],
   "source": [
    "import numpy as np\n",
    "import os \n",
    "os.chdir('C:\\\\Users\\\\Windows1998\\\\Desktop\\\\Deepfake')"
   ]
  },
  {
   "cell_type": "code",
   "execution_count": 1,
   "metadata": {},
   "outputs": [],
   "source": [
    "import tqdm.notebook as tq\n",
    "import numpy as np\n",
    "import os\n",
    "from PIL import Image"
   ]
  },
  {
   "cell_type": "code",
   "execution_count": 3,
   "metadata": {},
   "outputs": [],
   "source": [
    "X = np.load('X_64.npy')\n",
    "y = np.load('y_64.npy')"
   ]
  },
  {
   "cell_type": "code",
   "execution_count": 4,
   "metadata": {},
   "outputs": [
    {
     "data": {
      "text/plain": [
       "((78211, 64, 64, 3), (78211,))"
      ]
     },
     "execution_count": 4,
     "metadata": {},
     "output_type": "execute_result"
    }
   ],
   "source": [
    "X.shape, y.shape"
   ]
  },
  {
   "cell_type": "code",
   "execution_count": 5,
   "metadata": {},
   "outputs": [],
   "source": [
    "from sklearn.model_selection import train_test_split\n",
    "X_train, X_test, y_train, y_test = train_test_split(X, y, test_size=0.3)"
   ]
  },
  {
   "cell_type": "code",
   "execution_count": 6,
   "metadata": {},
   "outputs": [],
   "source": [
    "X_train, X_val, y_train, y_val = train_test_split(X_train, y_train, test_size=0.3)"
   ]
  },
  {
   "cell_type": "code",
   "execution_count": 7,
   "metadata": {},
   "outputs": [
    {
     "data": {
      "text/plain": [
       "((38322, 64, 64, 3),\n",
       " (23464, 64, 64, 3),\n",
       " (38322,),\n",
       " (23464,),\n",
       " (16425, 64, 64, 3),\n",
       " (16425,))"
      ]
     },
     "execution_count": 7,
     "metadata": {},
     "output_type": "execute_result"
    }
   ],
   "source": [
    "X_train.shape, X_test.shape, y_train.shape, y_test.shape,X_val.shape, y_val.shape"
   ]
  },
  {
   "cell_type": "code",
   "execution_count": 2,
   "metadata": {},
   "outputs": [
    {
     "name": "stderr",
     "output_type": "stream",
     "text": [
      "Matplotlib is building the font cache; this may take a moment.\n"
     ]
    },
    {
     "data": {
      "text/plain": [
       "device(type='cuda', index=0)"
      ]
     },
     "execution_count": 2,
     "metadata": {},
     "output_type": "execute_result"
    }
   ],
   "source": [
    "import os \n",
    "import numpy as np\n",
    "import pandas as pd\n",
    "import matplotlib.pyplot as plt\n",
    "from datetime import datetime, timedelta\n",
    "import time \n",
    "\n",
    "import torch\n",
    "import torch.nn as nn\n",
    "import torch.nn.functional as F\n",
    "from torch.utils.data import DataLoader\n",
    "from torchvision.utils import make_grid\n",
    "from torchvision import models, transforms, datasets\n",
    "from torch.utils.data import Dataset, DataLoader\n",
    "from PIL import Image\n",
    "device = torch.device('cuda:0' if torch.cuda.is_available() else 'cpu')\n",
    "device"
   ]
  },
  {
   "cell_type": "code",
   "execution_count": 9,
   "metadata": {},
   "outputs": [],
   "source": [
    "import joblib\n",
    "import pickle\n",
    "import pandas as pd \n",
    "import copy\n",
    "import skimage.transform\n",
    "from torch import topk\n",
    "from sklearn.metrics import confusion_matrix\n",
    "from torch.autograd import Variable\n",
    "from sklearn.metrics import classification_report"
   ]
  },
  {
   "cell_type": "code",
   "execution_count": 10,
   "metadata": {},
   "outputs": [],
   "source": [
    "# confusion matrix code \n",
    "import itertools\n",
    "from collections import defaultdict\n",
    "from tqdm import tqdm_notebook as tqdm\n",
    "def confusion_matrix2(cm, classes, title='Confusion matrix', cmap=plt.cm.Blues, figsize=(7,7), path=None, filename=None):\n",
    "        \"\"\"\n",
    "        cm: confusion matrix to be plotted.\n",
    "        classes: array of labels or class names.\n",
    "        title: title of the confusion matrix.\n",
    "        cmap: color of the plot matrix.\n",
    "        figsize: tupple (width, height) representiong size of the plot.\n",
    "        path: destination where the plot image will be saved.\n",
    "        filename: name to save the file with on the specified path. (if None, title is used)\n",
    "        \n",
    "        # Source: https://scikit-learn.org/stable/auto_examples/model_selection/plot_confusion_matrix.html\n",
    "        \"\"\"\n",
    "        cm = cm.astype(np.int64)\n",
    "        plt.figure(figsize=figsize)\n",
    "        plt.imshow(cm, interpolation='nearest', cmap=cmap)\n",
    "        plt.title(title)\n",
    "        plt.colorbar()\n",
    "        tick_marks = np.arange(len(classes))\n",
    "        plt.xticks(tick_marks, classes, rotation=45)\n",
    "        plt.yticks(tick_marks, classes)\n",
    "\n",
    "        fmt = 'd'\n",
    "        thresh = cm.max() / 2.\n",
    "        for i, j in itertools.product(range(cm.shape[0]), range(cm.shape[1])):\n",
    "            plt.text(j, i, format(cm[i, j], fmt),\n",
    "                     horizontalalignment=\"center\",\n",
    "                     color=\"white\" if cm[i, j] > thresh else \"black\")\n",
    "\n",
    "        plt.ylabel('True label')\n",
    "        plt.xlabel('Predicted label')\n",
    "        plt.tight_layout()\n",
    "        \n",
    "        if path:\n",
    "            if filename is None:\n",
    "                plt.savefig(os.path.join(path, title + '.png'))\n",
    "            else:\n",
    "                plt.savefig(os.path.join(path, filename + '.png'))\n",
    "        plt.show()"
   ]
  },
  {
   "cell_type": "code",
   "execution_count": 1,
   "metadata": {},
   "outputs": [
    {
     "name": "stdout",
     "output_type": "stream",
     "text": [
      "[name: \"/device:CPU:0\"\n",
      "device_type: \"CPU\"\n",
      "memory_limit: 268435456\n",
      "locality {\n",
      "}\n",
      "incarnation: 9370850944667547469\n",
      "]\n"
     ]
    }
   ],
   "source": [
    "from tensorflow.python.client import device_lib \n",
    "print(device_lib.list_local_devices())"
   ]
  },
  {
   "cell_type": "code",
   "execution_count": 12,
   "metadata": {},
   "outputs": [],
   "source": [
    "# data transform to size 64*64\n",
    "data_transforms2 = {\n",
    "    'train': transforms.Compose([\n",
    "        transforms.RandomHorizontalFlip(),\n",
    "        transforms.ToTensor(),\n",
    "        transforms.Normalize([0.485, 0.456, 0.406], [0.229, 0.224, 0.225])\n",
    "    ]),\n",
    "    'val': transforms.Compose([\n",
    "        \n",
    "        transforms.ToTensor(),\n",
    "        transforms.Normalize([0.485, 0.456, 0.406], [0.229, 0.224, 0.225])\n",
    "    ]),\n",
    "     'test': transforms.Compose([\n",
    "        transforms.ToTensor(),\n",
    "        transforms.Normalize([0.485, 0.456, 0.406], [0.229, 0.224, 0.225])\n",
    "    ]),\n",
    "}"
   ]
  },
  {
   "cell_type": "code",
   "execution_count": 13,
   "metadata": {},
   "outputs": [],
   "source": [
    "#Class MyDataset to generate the transformed dataset\n",
    "class MyDataset(Dataset):\n",
    "    def __init__(self, data, target, transform=None):\n",
    "        self.data = data\n",
    "        self.target = torch.from_numpy(target).long()\n",
    "        self.transform = transform\n",
    "        \n",
    "    def __getitem__(self, index):\n",
    "        x = self.data[index]\n",
    "        x = Image.fromarray(x).convert('RGB')\n",
    "        y = self.target[index]\n",
    "        \n",
    "        if self.transform:\n",
    "            x = self.transform(x)\n",
    "        \n",
    "        return x, y\n",
    "    \n",
    "    def __len__(self):\n",
    "        return len(self.data)\n",
    "\n",
    "    def get_transformed(self):\n",
    "      self.data2 = []\n",
    "      for x in self.data:\n",
    "        x = Image.fromarray(x)\n",
    "        self.data2.append(self.transform(x))\n",
    "      return torch.from_numpy(np.array(self.data2)).float()\n",
    "\n",
    "\n",
    "# dataset \n",
    "train_dataset2 = MyDataset(X_train, y_train, data_transforms2['train'])\n",
    "val_dataset2 = MyDataset(X_val,y_val,data_transforms2['val'])\n",
    "test_dataset2 = MyDataset(X_test,y_test,data_transforms2['test'])"
   ]
  },
  {
   "cell_type": "code",
   "execution_count": 14,
   "metadata": {},
   "outputs": [],
   "source": [
    "torch.manual_seed(42)\n",
    "\n",
    "# loaders for images of size 64*64\n",
    "train_loader2 = DataLoader(train_dataset2, batch_size=32, shuffle=True)\n",
    "valid_loader2 = DataLoader(val_dataset2, batch_size=32, shuffle=False)\n",
    "test_loader2 = DataLoader(test_dataset2, batch_size=32, shuffle=False)"
   ]
  },
  {
   "cell_type": "code",
   "execution_count": 15,
   "metadata": {},
   "outputs": [],
   "source": [
    "#for 64x64\n",
    "dataloaders_2 = {}\n",
    "dataloaders_2['train'] = train_loader2\n",
    "dataloaders_2['test'] = test_loader2"
   ]
  },
  {
   "cell_type": "code",
   "execution_count": 16,
   "metadata": {},
   "outputs": [],
   "source": [
    "def train_model(train_loader, test_loader, model, criterion, optimizer, epochs, save_path):\n",
    "    start_time = datetime.now()\n",
    "    valid_loss_min = np.Inf \n",
    "    train_losses = []\n",
    "    val_losses = []\n",
    "\n",
    "    for epoch in range(epochs):\n",
    "        train_loss = 0.0\n",
    "        valid_loss = 0.0\n",
    "        \n",
    "        ##########\n",
    "        #TRAINING \n",
    "        ##########\n",
    "        model.train()\n",
    "        for batch_idx, (inputs, labels) in enumerate(train_loader):\n",
    "            # steps += 1\n",
    "            inputs, labels = inputs.to(device), labels.to(device)\n",
    "\n",
    "            optimizer.zero_grad()\n",
    "            y_pred = model(inputs)\n",
    "            loss = criterion(y_pred, labels)\n",
    "\n",
    "            loss.backward()\n",
    "            optimizer.step()\n",
    "\n",
    "            train_loss += ((1 / (batch_idx + 1)) * (loss.data - train_loss))\n",
    "            # running_loss += loss.item()\n",
    "\n",
    "\n",
    "        ##########\n",
    "        #VALIDATION \n",
    "        ##########\n",
    "        model.eval()\n",
    "        for batch_idx, (inputs, labels)  in enumerate(test_loader):\n",
    "\n",
    "            inputs, labels = inputs.to(device), labels.to(device)\n",
    "\n",
    "            y_val = model(inputs)\n",
    "            loss =  criterion(y_val, labels)\n",
    "\n",
    "            valid_loss += ((1 / (batch_idx + 1)) * (loss.data - valid_loss))\n",
    "\n",
    "       # print training/validation statistics \n",
    "        print('Epoch: {} \\tTraining Loss: {:.6f} \\tValidation Loss: {:.6f}'.format(\n",
    "            epoch, \n",
    "            train_loss,\n",
    "            valid_loss\n",
    "            ))\n",
    "        \n",
    "        train_losses.append(train_loss)\n",
    "        val_losses.append(valid_loss)\n",
    "        \n",
    "        if valid_loss < valid_loss_min:\n",
    "            print('Saving model..')\n",
    "            valid_loss_min = valid_loss\n",
    "            torch.save(model.state_dict(), save_path)\n",
    "    \n",
    "    # return trained model\n",
    "    return model, train_losses, val_losses"
   ]
  },
  {
   "cell_type": "code",
   "execution_count": 33,
   "metadata": {},
   "outputs": [
    {
     "data": {
      "text/plain": [
       "CNN_model_1(\n",
       "  (conv1): Conv2d(3, 128, kernel_size=(3, 3), stride=(1, 1))\n",
       "  (conv2): Conv2d(128, 64, kernel_size=(3, 3), stride=(1, 1))\n",
       "  (conv3): Conv2d(64, 32, kernel_size=(3, 3), stride=(1, 1))\n",
       "  (fc1): Linear(in_features=1152, out_features=1024, bias=True)\n",
       "  (fc2): Linear(in_features=1024, out_features=256, bias=True)\n",
       "  (out): Linear(in_features=256, out_features=2, bias=True)\n",
       ")"
      ]
     },
     "execution_count": 33,
     "metadata": {},
     "output_type": "execute_result"
    }
   ],
   "source": [
    "# For 64x64 \n",
    "class CNN_model_1(nn.Module):\n",
    "    def __init__(self):\n",
    "        super().__init__()\n",
    "        self.conv1 = nn.Conv2d(in_channels=3, out_channels=128, kernel_size=3, stride=1)\n",
    "        self.conv2 = nn.Conv2d(in_channels=128, out_channels=64, kernel_size=3, stride=1)\n",
    "        self.conv3 = nn.Conv2d(in_channels=64, out_channels=32, kernel_size=3, stride=1)\n",
    "        self.fc1 = nn.Linear(in_features=6*6*32, out_features=1024)\n",
    "        self.fc2 = nn.Linear(in_features=1024, out_features=256)\n",
    "        self.out = nn.Linear(in_features=256, out_features=2)\n",
    "        \n",
    "    \n",
    "    def forward(self, x):\n",
    "        x = F.relu(self.conv1(x))\n",
    "        # print(x.size())\n",
    "        x = F.max_pool2d(x, kernel_size=2)\n",
    "        # print(x.size())\n",
    "        x = F.relu(self.conv2(x))\n",
    "        x = F.max_pool2d(x, kernel_size=2)\n",
    "        x = F.relu(self.conv3(x))\n",
    "        x = F.max_pool2d(x, kernel_size=2)\n",
    "        # print(x.size())\n",
    "        x = x.view(-1, 6*6*32)\n",
    "        x = F.relu(self.fc1(x))\n",
    "        x = F.relu(self.fc2(x))\n",
    "        x = F.dropout(x, p=0.2)\n",
    "        # x = F.sigmoid(x, p=0.2)\n",
    "        return self.out(x)\n",
    "\n",
    "torch.manual_seed(42)\n",
    "\n",
    "model_1 = CNN_model_1()\n",
    "model_1.to(device)\n",
    "model_1"
   ]
  },
  {
   "cell_type": "code",
   "execution_count": null,
   "metadata": {},
   "outputs": [],
   "source": [
    "#VARIATION 1"
   ]
  },
  {
   "cell_type": "code",
   "execution_count": 34,
   "metadata": {},
   "outputs": [],
   "source": [
    "from torch import nn, optim\n",
    "criterion= nn.CrossEntropyLoss()\n",
    "optimizer = optim.Adam(model_1.parameters(), lr=0.001)"
   ]
  },
  {
   "cell_type": "code",
   "execution_count": 35,
   "metadata": {},
   "outputs": [
    {
     "name": "stdout",
     "output_type": "stream",
     "text": [
      "Epoch: 0 \tTraining Loss: 0.453100 \tValidation Loss: 0.326159\n",
      "Saving model..\n",
      "Epoch: 1 \tTraining Loss: 0.289158 \tValidation Loss: 0.263686\n",
      "Saving model..\n",
      "Epoch: 2 \tTraining Loss: 0.237807 \tValidation Loss: 0.214193\n",
      "Saving model..\n",
      "Epoch: 3 \tTraining Loss: 0.200681 \tValidation Loss: 0.230750\n",
      "Epoch: 4 \tTraining Loss: 0.178064 \tValidation Loss: 0.183908\n",
      "Saving model..\n",
      "Epoch: 5 \tTraining Loss: 0.159887 \tValidation Loss: 0.173827\n",
      "Saving model..\n",
      "Epoch: 6 \tTraining Loss: 0.142947 \tValidation Loss: 0.199269\n",
      "Epoch: 7 \tTraining Loss: 0.131782 \tValidation Loss: 0.155647\n",
      "Saving model..\n",
      "Epoch: 8 \tTraining Loss: 0.122965 \tValidation Loss: 0.154764\n",
      "Saving model..\n",
      "Epoch: 9 \tTraining Loss: 0.111466 \tValidation Loss: 0.163343\n",
      "Epoch: 10 \tTraining Loss: 0.103320 \tValidation Loss: 0.149522\n",
      "Saving model..\n",
      "Epoch: 11 \tTraining Loss: 0.094842 \tValidation Loss: 0.165130\n",
      "Epoch: 12 \tTraining Loss: 0.093626 \tValidation Loss: 0.144256\n",
      "Saving model..\n",
      "Epoch: 13 \tTraining Loss: 0.085615 \tValidation Loss: 0.192394\n",
      "Epoch: 14 \tTraining Loss: 0.081526 \tValidation Loss: 0.142671\n",
      "Saving model..\n",
      "Epoch: 15 \tTraining Loss: 0.079546 \tValidation Loss: 0.152881\n",
      "Epoch: 16 \tTraining Loss: 0.071063 \tValidation Loss: 0.164410\n",
      "Epoch: 17 \tTraining Loss: 0.072145 \tValidation Loss: 0.144273\n",
      "Epoch: 18 \tTraining Loss: 0.068954 \tValidation Loss: 0.134929\n",
      "Saving model..\n",
      "Epoch: 19 \tTraining Loss: 0.065486 \tValidation Loss: 0.143283\n"
     ]
    }
   ],
   "source": [
    "CNN_model_1_64 , train_losses_cnn_1, val_losses_cnn_1 = train_model(\n",
    "    train_loader=train_loader2,\n",
    "    test_loader=valid_loader2,\n",
    "    model=model_1,\n",
    "    criterion=criterion,\n",
    "    optimizer=optimizer,\n",
    "    epochs=20, save_path = 'CNN_Model_1_64' \n",
    ")"
   ]
  },
  {
   "cell_type": "code",
   "execution_count": 36,
   "metadata": {},
   "outputs": [
    {
     "data": {
      "image/png": "[encoded data removed]",
      "text/plain": [
       "<Figure size 432x288 with 1 Axes>"
      ]
     },
     "metadata": {
      "needs_background": "light"
     },
     "output_type": "display_data"
    }
   ],
   "source": [
    "#Plotting for Loss\n",
    "plt.plot(train_losses_cnn_1, label='Training loss')\n",
    "plt.plot(val_losses_cnn_1, label='Validation loss')\n",
    "plt.xlabel('Iterations')\n",
    "plt.ylabel('Loss')\n",
    "plt.legend()\n",
    "plt.ylim()\n",
    "plt.title('Training and Validation Loss with CNN Model 64x64')\n",
    "# plt.savefig('plots/Training Validation Loss with CNN from scratch.png')\n",
    "plt.show()"
   ]
  },
  {
   "cell_type": "code",
   "execution_count": 22,
   "metadata": {},
   "outputs": [
    {
     "data": {
      "text/plain": [
       "<All keys matched successfully>"
      ]
     },
     "execution_count": 22,
     "metadata": {},
     "output_type": "execute_result"
    }
   ],
   "source": [
    "CNN_model_1_64 = CNN_model_1()\n",
    "CNN_model_1_64.to(device)\n",
    "CNN_model_1_64.load_state_dict(torch.load('CNN_Model_1_64'))"
   ]
  },
  {
   "cell_type": "code",
   "execution_count": 24,
   "metadata": {},
   "outputs": [],
   "source": [
    "#Function for Testing our Model \n",
    "def test(loaders, model, criterion, device):\n",
    "    sigmoid = lambda x: 1 / (1 + np.exp(-x))\n",
    "    \n",
    "    # monitor test loss and accuracy\n",
    "    test_loss = 0.\n",
    "    correct = 0.\n",
    "    total = 0.\n",
    "    y = None\n",
    "    y_hat = None\n",
    "    \n",
    "    model.eval()\n",
    "    for batch_idx, (data, target) in enumerate(loaders['test']):\n",
    "        # move to GPU or CPU\n",
    "        data, target = data.to(device), target.to(device)\n",
    "        \n",
    "        # forward pass: compute predicted outputs by passing inputs to the model\n",
    "        output = model(data)\n",
    "        # calculate the loss\n",
    "        loss = criterion(output, target)\n",
    "        # update average test loss \n",
    "        test_loss = test_loss + ((1 / (batch_idx + 1)) * (loss.data - test_loss))\n",
    "        # convert output probabilities to predicted class\n",
    "        pred = output.data.max(1, keepdim=True)[1]\n",
    "        \n",
    "        if y is None:\n",
    "            y = target.cpu().numpy()\n",
    "            y_hat = pred.data.cpu().view_as(target).numpy()\n",
    "        else:\n",
    "            y = np.append(y, target.cpu().numpy())\n",
    "            y_hat = np.append(y_hat, pred.data.cpu().view_as(target).numpy())\n",
    "            \n",
    "        # compare predictions to true label\n",
    "        correct += np.sum(np.squeeze(pred.eq(target.data.view_as(pred))).cpu().numpy())\n",
    "        total += data.size(0)\n",
    "            \n",
    "    print('Test Loss: {:.6f}\\n'.format(test_loss))\n",
    "\n",
    "    print('\\nTest Accuracy: ',(\n",
    "        100. * correct / total, correct, total))\n",
    "    \n",
    "    return y, y_hat"
   ]
  },
  {
   "cell_type": "code",
   "execution_count": 25,
   "metadata": {},
   "outputs": [],
   "source": [
    "#Function for obtaining training Accuracy\n",
    "def test_for_trainacc(loaders, model, criterion, device):\n",
    "    sigmoid = lambda x: 1 / (1 + np.exp(-x))\n",
    "    \n",
    "    # monitor test loss and accuracy\n",
    "    test_loss = 0.\n",
    "    correct = 0.\n",
    "    total = 0.\n",
    "    y = None\n",
    "    y_hat = None\n",
    "    \n",
    "    model.eval()\n",
    "    for batch_idx, (data, target) in enumerate(loaders['train']):\n",
    "        # move to GPU or CPU\n",
    "        data, target = data.to(device), target.to(device)\n",
    "        \n",
    "        # forward pass: compute predicted outputs by passing inputs to the model\n",
    "        output = model(data)\n",
    "        # calculate the loss\n",
    "        loss = criterion(output, target)\n",
    "        # update average test loss \n",
    "        test_loss = test_loss + ((1 / (batch_idx + 1)) * (loss.data - test_loss))\n",
    "        # convert output probabilities to predicted class\n",
    "        pred = output.data.max(1, keepdim=True)[1]\n",
    "        \n",
    "        if y is None:\n",
    "            y = target.cpu().numpy()\n",
    "            y_hat = pred.data.cpu().view_as(target).numpy()\n",
    "        else:\n",
    "            y = np.append(y, target.cpu().numpy())\n",
    "            y_hat = np.append(y_hat, pred.data.cpu().view_as(target).numpy())\n",
    "            \n",
    "        # compare predictions to true label\n",
    "        correct += np.sum(np.squeeze(pred.eq(target.data.view_as(pred))).cpu().numpy())\n",
    "        total += data.size(0)\n",
    "            \n",
    "    print('Train Loss: {:.6f}\\n'.format(test_loss))\n",
    "\n",
    "    print('\\nTrain Accuracy: ',(\n",
    "        100. * correct / total, correct, total))\n",
    "    \n",
    "    return y, y_hat"
   ]
  },
  {
   "cell_type": "code",
   "execution_count": 42,
   "metadata": {},
   "outputs": [
    {
     "name": "stdout",
     "output_type": "stream",
     "text": [
      "Test Loss: 0.134399\n",
      "\n",
      "\n",
      "Test Accuracy:  (95.0818274803955, 22310.0, 23464.0)\n"
     ]
    }
   ],
   "source": [
    "y, y_hat = test(dataloaders_2, CNN_model_1_64, criterion,device)"
   ]
  },
  {
   "cell_type": "code",
   "execution_count": 39,
   "metadata": {},
   "outputs": [
    {
     "name": "stdout",
     "output_type": "stream",
     "text": [
      "Train Loss: 0.066001\n",
      "\n",
      "\n",
      "Train Accuracy:  (97.56014821773394, 37387.0, 38322.0)\n"
     ]
    }
   ],
   "source": [
    "y, y_hat = test_for_trainacc(dataloaders_2, CNN_model_1_64, criterion,device)"
   ]
  },
  {
   "cell_type": "code",
   "execution_count": 38,
   "metadata": {},
   "outputs": [],
   "source": [
    "cm1 = confusion_matrix(y, y_hat)"
   ]
  },
  {
   "cell_type": "code",
   "execution_count": 39,
   "metadata": {
    "scrolled": true
   },
   "outputs": [
    {
     "data": {
      "image/png": "[encoded data removed]",
      "text/plain": [
       "<Figure size 432x432 with 2 Axes>"
      ]
     },
     "metadata": {
      "needs_background": "light"
     },
     "output_type": "display_data"
    }
   ],
   "source": [
    "confusion_matrix2(cm1, classes=['0','1'],title='Confusion matrix- CNN',\n",
    "                           filename='Confusion Matrix with CNN 64 from scratch', figsize=(6,6))"
   ]
  },
  {
   "cell_type": "code",
   "execution_count": 22,
   "metadata": {},
   "outputs": [],
   "source": [
    "# PART 2\n",
    "from torch import nn, optim\n",
    "criterion = nn.CrossEntropyLoss()\n",
    "optimizer = optim.SGD(model_1.parameters(), lr=0.001, momentum=0.9)"
   ]
  },
  {
   "cell_type": "code",
   "execution_count": 23,
   "metadata": {},
   "outputs": [
    {
     "name": "stdout",
     "output_type": "stream",
     "text": [
      "Epoch: 0 \tTraining Loss: 0.632196 \tValidation Loss: 0.570538\n",
      "Saving model..\n",
      "Epoch: 1 \tTraining Loss: 0.559110 \tValidation Loss: 0.536063\n",
      "Saving model..\n",
      "Epoch: 2 \tTraining Loss: 0.485616 \tValidation Loss: 0.432437\n",
      "Saving model..\n",
      "Epoch: 3 \tTraining Loss: 0.395556 \tValidation Loss: 0.353143\n",
      "Saving model..\n",
      "Epoch: 4 \tTraining Loss: 0.340487 \tValidation Loss: 0.339798\n",
      "Saving model..\n",
      "Epoch: 5 \tTraining Loss: 0.303132 \tValidation Loss: 0.287677\n",
      "Saving model..\n",
      "Epoch: 6 \tTraining Loss: 0.277939 \tValidation Loss: 0.271072\n",
      "Saving model..\n",
      "Epoch: 7 \tTraining Loss: 0.253311 \tValidation Loss: 0.258878\n",
      "Saving model..\n",
      "Epoch: 8 \tTraining Loss: 0.231461 \tValidation Loss: 0.214935\n",
      "Saving model..\n",
      "Epoch: 9 \tTraining Loss: 0.213444 \tValidation Loss: 0.233133\n",
      "Epoch: 10 \tTraining Loss: 0.201853 \tValidation Loss: 0.203651\n",
      "Saving model..\n",
      "Epoch: 11 \tTraining Loss: 0.186483 \tValidation Loss: 0.238996\n",
      "Epoch: 12 \tTraining Loss: 0.175917 \tValidation Loss: 0.182365\n",
      "Saving model..\n",
      "Epoch: 13 \tTraining Loss: 0.161960 \tValidation Loss: 0.182146\n",
      "Saving model..\n",
      "Epoch: 14 \tTraining Loss: 0.152376 \tValidation Loss: 0.178281\n",
      "Saving model..\n",
      "Epoch: 15 \tTraining Loss: 0.143183 \tValidation Loss: 0.178189\n",
      "Saving model..\n",
      "Epoch: 16 \tTraining Loss: 0.134731 \tValidation Loss: 0.168580\n",
      "Saving model..\n",
      "Epoch: 17 \tTraining Loss: 0.128739 \tValidation Loss: 0.144246\n",
      "Saving model..\n",
      "Epoch: 18 \tTraining Loss: 0.121892 \tValidation Loss: 0.143014\n",
      "Saving model..\n",
      "Epoch: 19 \tTraining Loss: 0.115935 \tValidation Loss: 0.164703\n"
     ]
    }
   ],
   "source": [
    "CNN_model_1_64 , train_losses_cnn_1, val_losses_cnn_1 = train_model(\n",
    "    train_loader=train_loader2,\n",
    "    test_loader=valid_loader2,\n",
    "    model=model_1,\n",
    "    criterion=criterion,\n",
    "    optimizer=optimizer,\n",
    "    epochs=20, save_path = 'CNN_Model_1_64_SGD' \n",
    ")"
   ]
  },
  {
   "cell_type": "code",
   "execution_count": 26,
   "metadata": {},
   "outputs": [
    {
     "name": "stdout",
     "output_type": "stream",
     "text": [
      "Test Loss: 0.168858\n",
      "\n",
      "\n",
      "Test Accuracy:  (93.18956699624957, 21866.0, 23464.0)\n",
      "Train Loss: 0.118099\n",
      "\n",
      "\n",
      "Train Accuracy:  (95.08898282970617, 36440.0, 38322.0)\n"
     ]
    },
    {
     "data": {
      "image/png": "[encoded data removed]",
      "text/plain": [
       "<Figure size 432x432 with 2 Axes>"
      ]
     },
     "metadata": {
      "needs_background": "light"
     },
     "output_type": "display_data"
    }
   ],
   "source": [
    "def test(loaders, model, criterion, device):\n",
    "    sigmoid = lambda x: 1 / (1 + np.exp(-x))\n",
    "    \n",
    "    # monitor test loss and accuracy\n",
    "    test_loss = 0.\n",
    "    correct = 0.\n",
    "    total = 0.\n",
    "    y = None\n",
    "    y_hat = None\n",
    "    \n",
    "    model.eval()\n",
    "    for batch_idx, (data, target) in enumerate(loaders['test']):\n",
    "        # move to GPU or CPU\n",
    "        data, target = data.to(device), target.to(device)\n",
    "        \n",
    "        # forward pass: compute predicted outputs by passing inputs to the model\n",
    "        output = model(data)\n",
    "        # calculate the loss\n",
    "        loss = criterion(output, target)\n",
    "        # update average test loss \n",
    "        test_loss = test_loss + ((1 / (batch_idx + 1)) * (loss.data - test_loss))\n",
    "        # convert output probabilities to predicted class\n",
    "        pred = output.data.max(1, keepdim=True)[1]\n",
    "        \n",
    "        if y is None:\n",
    "            y = target.cpu().numpy()\n",
    "            y_hat = pred.data.cpu().view_as(target).numpy()\n",
    "        else:\n",
    "            y = np.append(y, target.cpu().numpy())\n",
    "            y_hat = np.append(y_hat, pred.data.cpu().view_as(target).numpy())\n",
    "            \n",
    "        # compare predictions to true label\n",
    "        correct += np.sum(np.squeeze(pred.eq(target.data.view_as(pred))).cpu().numpy())\n",
    "        total += data.size(0)\n",
    "            \n",
    "    print('Test Loss: {:.6f}\\n'.format(test_loss))\n",
    "\n",
    "    print('\\nTest Accuracy: ',(\n",
    "        100. * correct / total, correct, total))\n",
    "    \n",
    "    return y, y_hat\n",
    "\n",
    "def test_for_trainacc(loaders, model, criterion, device):\n",
    "    sigmoid = lambda x: 1 / (1 + np.exp(-x))\n",
    "    \n",
    "    # monitor test loss and accuracy\n",
    "    test_loss = 0.\n",
    "    correct = 0.\n",
    "    total = 0.\n",
    "    y = None\n",
    "    y_hat = None\n",
    "    \n",
    "    model.eval()\n",
    "    for batch_idx, (data, target) in enumerate(loaders['train']):\n",
    "        # move to GPU or CPU\n",
    "        data, target = data.to(device), target.to(device)\n",
    "        \n",
    "        # forward pass: compute predicted outputs by passing inputs to the model\n",
    "        output = model(data)\n",
    "        # calculate the loss\n",
    "        loss = criterion(output, target)\n",
    "        # update average test loss \n",
    "        test_loss = test_loss + ((1 / (batch_idx + 1)) * (loss.data - test_loss))\n",
    "        # convert output probabilities to predicted class\n",
    "        pred = output.data.max(1, keepdim=True)[1]\n",
    "        \n",
    "        if y is None:\n",
    "            y = target.cpu().numpy()\n",
    "            y_hat = pred.data.cpu().view_as(target).numpy()\n",
    "        else:\n",
    "            y = np.append(y, target.cpu().numpy())\n",
    "            y_hat = np.append(y_hat, pred.data.cpu().view_as(target).numpy())\n",
    "            \n",
    "        # compare predictions to true label\n",
    "        correct += np.sum(np.squeeze(pred.eq(target.data.view_as(pred))).cpu().numpy())\n",
    "        total += data.size(0)\n",
    "            \n",
    "    print('Train Loss: {:.6f}\\n'.format(test_loss))\n",
    "\n",
    "    print('\\nTrain Accuracy: ',(\n",
    "        100. * correct / total, correct, total))\n",
    "    \n",
    "    return y, y_hat\n",
    "\n",
    "y, y_hat = test(dataloaders_2, CNN_model_1_64, criterion,device)\n",
    "\n",
    "y, y_hat = test_for_trainacc(dataloaders_2, CNN_model_1_64, criterion,device)\n",
    "\n",
    "cm1 = confusion_matrix(y, y_hat)\n",
    "\n",
    "confusion_matrix2(cm1, classes=['0','1'],title='Confusion matrix- CNN',\n",
    "                           filename='Confusion Matrix with CNN 64 from scratch', figsize=(6,6))"
   ]
  },
  {
   "cell_type": "code",
   "execution_count": 29,
   "metadata": {},
   "outputs": [
    {
     "data": {
      "image/png": "[encoded data removed]",
      "text/plain": [
       "<Figure size 432x288 with 1 Axes>"
      ]
     },
     "metadata": {
      "needs_background": "light"
     },
     "output_type": "display_data"
    }
   ],
   "source": [
    "plt.plot(train_losses_cnn_1, label='Training loss')\n",
    "plt.plot(val_losses_cnn_1, label='Validation loss')\n",
    "plt.xlabel('Iterations')\n",
    "plt.ylabel('Loss')\n",
    "plt.legend()\n",
    "plt.ylim()\n",
    "plt.title('Training and Validation Loss with CNN Model SGD')\n",
    "plt.show()"
   ]
  }
 ],
 "metadata": {
  "kernelspec": {
   "display_name": "Python 3",
   "language": "python",
   "name": "python3"
  },
  "language_info": {
   "codemirror_mode": {
    "name": "ipython",
    "version": 3
   },
   "file_extension": ".py",
   "mimetype": "text/x-python",
   "name": "python",
   "nbconvert_exporter": "python",
   "pygments_lexer": "ipython3",
   "version": "3.8.5"
  }
 },
 "nbformat": 4,
 "nbformat_minor": 4
}
