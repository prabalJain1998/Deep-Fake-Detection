{
 "cells": [
  {
   "cell_type": "code",
   "execution_count": 1,
   "metadata": {},
   "outputs": [],
   "source": [
    "import numpy as np\n",
    "import os \n",
    "os.chdir('C:\\\\Users\\\\narayanan\\\\Desktop')"
   ]
  },
  {
   "cell_type": "code",
   "execution_count": 2,
   "metadata": {},
   "outputs": [
    {
     "data": {
      "text/plain": [
       "['.ipynb_checkpoints',\n",
       " 'Baselines.ipynb',\n",
       " 'dataset',\n",
       " 'desktop.ini',\n",
       " 'DL_Baseline',\n",
       " 'DL_Baseline.7z',\n",
       " 'DL_Project_DeepFake_CNN.ipynb',\n",
       " 'DL_Project_Deepfake_Prabal.ipynb',\n",
       " 'fake',\n",
       " 'MesoNet_1_model',\n",
       " 'Mesonet_4_Model.h5',\n",
       " 'metadata',\n",
       " 'metadata130.csv',\n",
       " 'metadata131.csv',\n",
       " 'metadata132.csv',\n",
       " 'Microsoft Edge.lnk',\n",
       " 'real',\n",
       " 'Untitled.ipynb',\n",
       " 'X_256.npy',\n",
       " 'y_256.npy']"
      ]
     },
     "execution_count": 2,
     "metadata": {},
     "output_type": "execute_result"
    }
   ],
   "source": [
    "os.listdir()"
   ]
  },
  {
   "cell_type": "code",
   "execution_count": 3,
   "metadata": {},
   "outputs": [
    {
     "name": "stderr",
     "output_type": "stream",
     "text": [
      "C:\\Users\\narayanan\\anaconda3\\lib\\site-packages\\IPython\\core\\interactiveshell.py:3146: DtypeWarning: Columns (14,18,19,20,21,22) have mixed types.Specify dtype option on import or set low_memory=False.\n",
      "  has_raised = await self.run_ast_nodes(code_ast.body, cell_name,\n"
     ]
    }
   ],
   "source": [
    "import pandas as pd\n",
    "file = pd.read_csv('metadata')"
   ]
  },
  {
   "cell_type": "code",
   "execution_count": 4,
   "metadata": {},
   "outputs": [
    {
     "data": {
      "text/html": [
       "<div>\n",
       "<style scoped>\n",
       "    .dataframe tbody tr th:only-of-type {\n",
       "        vertical-align: middle;\n",
       "    }\n",
       "\n",
       "    .dataframe tbody tr th {\n",
       "        vertical-align: top;\n",
       "    }\n",
       "\n",
       "    .dataframe thead th {\n",
       "        text-align: right;\n",
       "    }\n",
       "</style>\n",
       "<table border=\"1\" class=\"dataframe\">\n",
       "  <thead>\n",
       "    <tr style=\"text-align: right;\">\n",
       "      <th></th>\n",
       "      <th>filename</th>\n",
       "      <th>video.@index</th>\n",
       "      <th>video.@codec_time_base</th>\n",
       "      <th>video.@width</th>\n",
       "      <th>video.@height</th>\n",
       "      <th>video.@sample_aspect_ratio</th>\n",
       "      <th>video.@display_aspect_ratio</th>\n",
       "      <th>video.@level</th>\n",
       "      <th>video.@r_frame_rate</th>\n",
       "      <th>video.@time_base</th>\n",
       "      <th>...</th>\n",
       "      <th>original</th>\n",
       "      <th>folder</th>\n",
       "      <th>wav.hash.cnt</th>\n",
       "      <th>original.cnt</th>\n",
       "      <th>md5</th>\n",
       "      <th>md5.orig</th>\n",
       "      <th>wav.hash</th>\n",
       "      <th>wav.hash.orig</th>\n",
       "      <th>pxl.hash</th>\n",
       "      <th>pxl.hash.orig</th>\n",
       "    </tr>\n",
       "  </thead>\n",
       "  <tbody>\n",
       "    <tr>\n",
       "      <th>0</th>\n",
       "      <td>hrundztjfb.mp4</td>\n",
       "      <td>0</td>\n",
       "      <td>2500/150301</td>\n",
       "      <td>1920</td>\n",
       "      <td>1080</td>\n",
       "      <td>1:1</td>\n",
       "      <td>16:9</td>\n",
       "      <td>40</td>\n",
       "      <td>150301/5000</td>\n",
       "      <td>1/150301</td>\n",
       "      <td>...</td>\n",
       "      <td>vvrlglaepq.mp4</td>\n",
       "      <td>dfdc_train_part_12</td>\n",
       "      <td>3.0</td>\n",
       "      <td>2.0</td>\n",
       "      <td>7b1db59bdb78179aa3ed78a4270ed063</td>\n",
       "      <td>d98cd8af0ba7ce2a51acefb2c0502b71</td>\n",
       "      <td>6877743394119074431s</td>\n",
       "      <td>6877743394119074431s</td>\n",
       "      <td>4312499372455908935s</td>\n",
       "      <td>16061268809469102567s</td>\n",
       "    </tr>\n",
       "    <tr>\n",
       "      <th>1</th>\n",
       "      <td>uyfnfvsxez.mp4</td>\n",
       "      <td>0</td>\n",
       "      <td>50/2997</td>\n",
       "      <td>1920</td>\n",
       "      <td>1080</td>\n",
       "      <td>NAN</td>\n",
       "      <td>NAN</td>\n",
       "      <td>40</td>\n",
       "      <td>2997/100</td>\n",
       "      <td>1/11988</td>\n",
       "      <td>...</td>\n",
       "      <td>NAN</td>\n",
       "      <td>dfdc_train_part_12</td>\n",
       "      <td>2.0</td>\n",
       "      <td>NaN</td>\n",
       "      <td>62c47bd354599ce0fad65d28ef4b78b9</td>\n",
       "      <td>NaN</td>\n",
       "      <td>-4734951634879773329s</td>\n",
       "      <td>NaN</td>\n",
       "      <td>17835547769154037975s</td>\n",
       "      <td>NaN</td>\n",
       "    </tr>\n",
       "    <tr>\n",
       "      <th>2</th>\n",
       "      <td>yknlciphae.mp4</td>\n",
       "      <td>0</td>\n",
       "      <td>50/2997</td>\n",
       "      <td>1920</td>\n",
       "      <td>1080</td>\n",
       "      <td>1:1</td>\n",
       "      <td>16:9</td>\n",
       "      <td>40</td>\n",
       "      <td>2997/100</td>\n",
       "      <td>1/11988</td>\n",
       "      <td>...</td>\n",
       "      <td>ahesnzswur.mp4</td>\n",
       "      <td>dfdc_train_part_12</td>\n",
       "      <td>6.0</td>\n",
       "      <td>5.0</td>\n",
       "      <td>a0e4d1f8bf2636def22dc2f2b21187dd</td>\n",
       "      <td>3bb70580dbf21c4719f17c4e4617c398</td>\n",
       "      <td>-5599986156292069640s</td>\n",
       "      <td>-5599986156292069640s</td>\n",
       "      <td>16356267960363338360s</td>\n",
       "      <td>14219253130038039922s</td>\n",
       "    </tr>\n",
       "    <tr>\n",
       "      <th>3</th>\n",
       "      <td>zfyczzssiz.mp4</td>\n",
       "      <td>0</td>\n",
       "      <td>50/2997</td>\n",
       "      <td>1920</td>\n",
       "      <td>1080</td>\n",
       "      <td>1:1</td>\n",
       "      <td>16:9</td>\n",
       "      <td>40</td>\n",
       "      <td>2997/100</td>\n",
       "      <td>1/11988</td>\n",
       "      <td>...</td>\n",
       "      <td>jdvzqjihud.mp4</td>\n",
       "      <td>dfdc_train_part_12</td>\n",
       "      <td>7.0</td>\n",
       "      <td>6.0</td>\n",
       "      <td>d641ebd07badeb89c0d389019d9f7e72</td>\n",
       "      <td>c77170df2cc8b40ef1d39b6d79105321</td>\n",
       "      <td>-1564427678199738496s</td>\n",
       "      <td>-1564427678199738496s</td>\n",
       "      <td>12983824148373679782s</td>\n",
       "      <td>6108291220829004959s</td>\n",
       "    </tr>\n",
       "    <tr>\n",
       "      <th>4</th>\n",
       "      <td>kggbciadwj.mp4</td>\n",
       "      <td>0</td>\n",
       "      <td>125/7501</td>\n",
       "      <td>1080</td>\n",
       "      <td>1920</td>\n",
       "      <td>1:1</td>\n",
       "      <td>9:16</td>\n",
       "      <td>40</td>\n",
       "      <td>7501/250</td>\n",
       "      <td>1/15002</td>\n",
       "      <td>...</td>\n",
       "      <td>NAN</td>\n",
       "      <td>dfdc_train_part_12</td>\n",
       "      <td>9.0</td>\n",
       "      <td>NaN</td>\n",
       "      <td>7de3ddacab0c9109e2a985d2c03244ea</td>\n",
       "      <td>NaN</td>\n",
       "      <td>-1251615899500302547s</td>\n",
       "      <td>NaN</td>\n",
       "      <td>970391495631676767s</td>\n",
       "      <td>NaN</td>\n",
       "    </tr>\n",
       "  </tbody>\n",
       "</table>\n",
       "<p>5 rows × 35 columns</p>\n",
       "</div>"
      ],
      "text/plain": [
       "         filename  video.@index video.@codec_time_base  video.@width  \\\n",
       "0  hrundztjfb.mp4             0            2500/150301          1920   \n",
       "1  uyfnfvsxez.mp4             0                50/2997          1920   \n",
       "2  yknlciphae.mp4             0                50/2997          1920   \n",
       "3  zfyczzssiz.mp4             0                50/2997          1920   \n",
       "4  kggbciadwj.mp4             0               125/7501          1080   \n",
       "\n",
       "   video.@height video.@sample_aspect_ratio video.@display_aspect_ratio  \\\n",
       "0           1080                        1:1                        16:9   \n",
       "1           1080                        NAN                         NAN   \n",
       "2           1080                        1:1                        16:9   \n",
       "3           1080                        1:1                        16:9   \n",
       "4           1920                        1:1                        9:16   \n",
       "\n",
       "   video.@level video.@r_frame_rate video.@time_base  ...        original  \\\n",
       "0            40         150301/5000         1/150301  ...  vvrlglaepq.mp4   \n",
       "1            40            2997/100          1/11988  ...             NAN   \n",
       "2            40            2997/100          1/11988  ...  ahesnzswur.mp4   \n",
       "3            40            2997/100          1/11988  ...  jdvzqjihud.mp4   \n",
       "4            40            7501/250          1/15002  ...             NAN   \n",
       "\n",
       "               folder  wav.hash.cnt  original.cnt  \\\n",
       "0  dfdc_train_part_12           3.0           2.0   \n",
       "1  dfdc_train_part_12           2.0           NaN   \n",
       "2  dfdc_train_part_12           6.0           5.0   \n",
       "3  dfdc_train_part_12           7.0           6.0   \n",
       "4  dfdc_train_part_12           9.0           NaN   \n",
       "\n",
       "                                md5                          md5.orig  \\\n",
       "0  7b1db59bdb78179aa3ed78a4270ed063  d98cd8af0ba7ce2a51acefb2c0502b71   \n",
       "1  62c47bd354599ce0fad65d28ef4b78b9                               NaN   \n",
       "2  a0e4d1f8bf2636def22dc2f2b21187dd  3bb70580dbf21c4719f17c4e4617c398   \n",
       "3  d641ebd07badeb89c0d389019d9f7e72  c77170df2cc8b40ef1d39b6d79105321   \n",
       "4  7de3ddacab0c9109e2a985d2c03244ea                               NaN   \n",
       "\n",
       "                wav.hash          wav.hash.orig               pxl.hash  \\\n",
       "0   6877743394119074431s   6877743394119074431s   4312499372455908935s   \n",
       "1  -4734951634879773329s                    NaN  17835547769154037975s   \n",
       "2  -5599986156292069640s  -5599986156292069640s  16356267960363338360s   \n",
       "3  -1564427678199738496s  -1564427678199738496s  12983824148373679782s   \n",
       "4  -1251615899500302547s                    NaN    970391495631676767s   \n",
       "\n",
       "           pxl.hash.orig  \n",
       "0  16061268809469102567s  \n",
       "1                    NaN  \n",
       "2  14219253130038039922s  \n",
       "3   6108291220829004959s  \n",
       "4                    NaN  \n",
       "\n",
       "[5 rows x 35 columns]"
      ]
     },
     "execution_count": 4,
     "metadata": {},
     "output_type": "execute_result"
    }
   ],
   "source": [
    "file.head()"
   ]
  },
  {
   "cell_type": "code",
   "execution_count": 5,
   "metadata": {},
   "outputs": [],
   "source": [
    "labels = file[file['folder']=='dfdc_train_part_13']['label']\n",
    "original_video =  file[file['folder']=='dfdc_train_part_13']['original']\n",
    "video_name =  file[file['folder']=='dfdc_train_part_13']['filename']\n",
    "final_data = pd.DataFrame({'video_name':video_name, 'original_video':original_video, 'Label':labels})\n",
    "full_data = final_data.reset_index()\n",
    "full_data = full_data.drop(['index'], axis = 1)"
   ]
  },
  {
   "cell_type": "code",
   "execution_count": 6,
   "metadata": {},
   "outputs": [
    {
     "data": {
      "text/html": [
       "<div>\n",
       "<style scoped>\n",
       "    .dataframe tbody tr th:only-of-type {\n",
       "        vertical-align: middle;\n",
       "    }\n",
       "\n",
       "    .dataframe tbody tr th {\n",
       "        vertical-align: top;\n",
       "    }\n",
       "\n",
       "    .dataframe thead th {\n",
       "        text-align: right;\n",
       "    }\n",
       "</style>\n",
       "<table border=\"1\" class=\"dataframe\">\n",
       "  <thead>\n",
       "    <tr style=\"text-align: right;\">\n",
       "      <th></th>\n",
       "      <th>video_name</th>\n",
       "      <th>original_video</th>\n",
       "      <th>Label</th>\n",
       "    </tr>\n",
       "  </thead>\n",
       "  <tbody>\n",
       "    <tr>\n",
       "      <th>0</th>\n",
       "      <td>hrnfnbtaci.mp4</td>\n",
       "      <td>zjcicdzech.mp4</td>\n",
       "      <td>FAKE</td>\n",
       "    </tr>\n",
       "    <tr>\n",
       "      <th>1</th>\n",
       "      <td>vjowxauwnt.mp4</td>\n",
       "      <td>zlhvoufjou.mp4</td>\n",
       "      <td>FAKE</td>\n",
       "    </tr>\n",
       "    <tr>\n",
       "      <th>2</th>\n",
       "      <td>filmmsbgum.mp4</td>\n",
       "      <td>ibvumqguch.mp4</td>\n",
       "      <td>FAKE</td>\n",
       "    </tr>\n",
       "    <tr>\n",
       "      <th>3</th>\n",
       "      <td>qsakckygbj.mp4</td>\n",
       "      <td>bjzkahdzig.mp4</td>\n",
       "      <td>FAKE</td>\n",
       "    </tr>\n",
       "    <tr>\n",
       "      <th>4</th>\n",
       "      <td>oxdrbsmogg.mp4</td>\n",
       "      <td>zdjjvppdoo.mp4</td>\n",
       "      <td>FAKE</td>\n",
       "    </tr>\n",
       "    <tr>\n",
       "      <th>...</th>\n",
       "      <td>...</td>\n",
       "      <td>...</td>\n",
       "      <td>...</td>\n",
       "    </tr>\n",
       "    <tr>\n",
       "      <th>3689</th>\n",
       "      <td>ohrldmapja.mp4</td>\n",
       "      <td>nqmeunktvn.mp4</td>\n",
       "      <td>FAKE</td>\n",
       "    </tr>\n",
       "    <tr>\n",
       "      <th>3690</th>\n",
       "      <td>prcoyakamp.mp4</td>\n",
       "      <td>jxvofbtarv.mp4</td>\n",
       "      <td>FAKE</td>\n",
       "    </tr>\n",
       "    <tr>\n",
       "      <th>3691</th>\n",
       "      <td>xnitfsazel.mp4</td>\n",
       "      <td>ushakujdoi.mp4</td>\n",
       "      <td>FAKE</td>\n",
       "    </tr>\n",
       "    <tr>\n",
       "      <th>3692</th>\n",
       "      <td>hyrzbinpsc.mp4</td>\n",
       "      <td>suevsrwyrq.mp4</td>\n",
       "      <td>FAKE</td>\n",
       "    </tr>\n",
       "    <tr>\n",
       "      <th>3693</th>\n",
       "      <td>mgygcsisld.mp4</td>\n",
       "      <td>ifrqxgcxve.mp4</td>\n",
       "      <td>FAKE</td>\n",
       "    </tr>\n",
       "  </tbody>\n",
       "</table>\n",
       "<p>3694 rows × 3 columns</p>\n",
       "</div>"
      ],
      "text/plain": [
       "          video_name  original_video Label\n",
       "0     hrnfnbtaci.mp4  zjcicdzech.mp4  FAKE\n",
       "1     vjowxauwnt.mp4  zlhvoufjou.mp4  FAKE\n",
       "2     filmmsbgum.mp4  ibvumqguch.mp4  FAKE\n",
       "3     qsakckygbj.mp4  bjzkahdzig.mp4  FAKE\n",
       "4     oxdrbsmogg.mp4  zdjjvppdoo.mp4  FAKE\n",
       "...              ...             ...   ...\n",
       "3689  ohrldmapja.mp4  nqmeunktvn.mp4  FAKE\n",
       "3690  prcoyakamp.mp4  jxvofbtarv.mp4  FAKE\n",
       "3691  xnitfsazel.mp4  ushakujdoi.mp4  FAKE\n",
       "3692  hyrzbinpsc.mp4  suevsrwyrq.mp4  FAKE\n",
       "3693  mgygcsisld.mp4  ifrqxgcxve.mp4  FAKE\n",
       "\n",
       "[3694 rows x 3 columns]"
      ]
     },
     "execution_count": 6,
     "metadata": {},
     "output_type": "execute_result"
    }
   ],
   "source": [
    "full_data"
   ]
  },
  {
   "cell_type": "code",
   "execution_count": 7,
   "metadata": {},
   "outputs": [],
   "source": [
    "path = 'C:\\\\Users\\\\narayanan\\\\Desktop\\\\dataset'"
   ]
  },
  {
   "cell_type": "code",
   "execution_count": 8,
   "metadata": {},
   "outputs": [],
   "source": [
    "source_path = 'C:\\\\Users\\\\narayanan\\\\Desktop\\\\dataset'\n",
    "Fake_path =  'C:\\\\Users\\\\narayanan\\\\Desktop\\\\fake'\n",
    "Real_path =  'C:\\\\Users\\\\narayanan\\\\Desktop\\\\real'"
   ]
  },
  {
   "cell_type": "code",
   "execution_count": 9,
   "metadata": {},
   "outputs": [],
   "source": [
    "# import shutil\n",
    "# def doSomething(source_path, Fake_path, Real_path):\n",
    "#   for folders in os.listdir(source_path):\n",
    "#     if(folders == '13_0.zip'):\n",
    "#       print('A')\n",
    "#       continue\n",
    "#     elif(folders == 'part_1.zip'):\n",
    "#       print('B')\n",
    "#       continue\n",
    "#     elif(folders =='real'):\n",
    "#       print('C')\n",
    "#       continue\n",
    "#     elif(folders == 'Test'):\n",
    "#       print('D')\n",
    "#       continue\n",
    "#     elif(folders == 'fake'):\n",
    "#       print('E')\n",
    "#       continue\n",
    "#     else:\n",
    "#       video = folders+\".mp4\"\n",
    "#       if(full_data[full_data['video_name'] == video]['Label'].values[0] == 'FAKE'):\n",
    "#         shutil.move(os.path.join(source_path, folders), Fake_path)\n",
    "#       elif(full_data[full_data['video_name'] == video]['Label'].values[0] == 'REAL'):\n",
    "#         shutil.move(os.path.join(source_path, folders), Real_path)\n",
    "#       else:\n",
    "#         continue\n",
    "#     print('Video {}'.format(folders))"
   ]
  },
  {
   "cell_type": "code",
   "execution_count": 10,
   "metadata": {},
   "outputs": [],
   "source": [
    "# doSomething(source_path,Fake_path,Real_path)"
   ]
  },
  {
   "cell_type": "code",
   "execution_count": 11,
   "metadata": {},
   "outputs": [],
   "source": [
    "# print('FAKE',len(os.listdir(Fake_path)))\n",
    "# print('REAL',len(os.listdir(Real_path)))"
   ]
  },
  {
   "cell_type": "code",
   "execution_count": 12,
   "metadata": {},
   "outputs": [],
   "source": [
    "import tqdm.notebook as tq\n",
    "import numpy as np\n",
    "import os\n",
    "from PIL import Image"
   ]
  },
  {
   "cell_type": "code",
   "execution_count": 13,
   "metadata": {},
   "outputs": [
    {
     "name": "stdout",
     "output_type": "stream",
     "text": [
      "Requirement already satisfied: opencv-python in c:\\users\\narayanan\\anaconda3\\lib\\site-packages (4.5.1.48)\n",
      "Requirement already satisfied: numpy>=1.17.3 in c:\\users\\narayanan\\anaconda3\\lib\\site-packages (from opencv-python) (1.19.2)\n"
     ]
    }
   ],
   "source": [
    "!pip install opencv-python"
   ]
  },
  {
   "cell_type": "code",
   "execution_count": 14,
   "metadata": {},
   "outputs": [],
   "source": [
    "# import cv2\n",
    "# real_data_X = list()\n",
    "# real_data_y = list()\n",
    "# num1 = 256\n",
    "# num2 = 256\n",
    "# for fold in tq.tqdm(os.listdir(Real_path)):\n",
    "#   new_path = os.path.join(Real_path, fold)\n",
    "#   c = 0\n",
    "#   for frames in os.listdir(new_path):\n",
    "#     if(c == 150):\n",
    "#         break\n",
    "#     c = c + 1\n",
    "#     #print('Frame {}'.format(frames))\n",
    "#     path_a = os.path.join(new_path,frames)\n",
    "#     img = cv2.imread(path_a)\n",
    "#     new_img = cv2.resize(img, (num2, num1))\n",
    "#     real_data_X.append(new_img)\n",
    "#     real_data_y.append(1)\n",
    "#   #print(fold)"
   ]
  },
  {
   "cell_type": "code",
   "execution_count": 15,
   "metadata": {},
   "outputs": [],
   "source": [
    "# import cv2\n",
    "# fake_data_X = list()\n",
    "# fake_data_y = list()\n",
    "# num1 = 256\n",
    "# num2 = 256\n",
    "# for fold in tq.tqdm(os.listdir(Fake_path)):\n",
    "#   new_path = os.path.join(Fake_path, fold)\n",
    "#   c = 0\n",
    "#   for frames in os.listdir(new_path):\n",
    "#     if c == 20:\n",
    "#         break\n",
    "#     c = c + 1\n",
    "#     #print('Frame {}'.format(frames))\n",
    "#     path_a = os.path.join(new_path,frames)\n",
    "#     img = cv2.imread(path_a)\n",
    "#     new_img = cv2.resize(img, (num2, num1))\n",
    "#     fake_data_X.append(new_img)\n",
    "#     fake_data_y.append(0)\n",
    "#   #print(fold)"
   ]
  },
  {
   "cell_type": "code",
   "execution_count": 17,
   "metadata": {},
   "outputs": [],
   "source": [
    "# np.array(real_data_X).shape, np.array(fake_data_X).shape"
   ]
  },
  {
   "cell_type": "code",
   "execution_count": 18,
   "metadata": {},
   "outputs": [],
   "source": [
    "# X = np.concatenate((real_data_X, fake_data_X))\n",
    "# y = np.concatenate((real_data_y, fake_data_y))"
   ]
  },
  {
   "cell_type": "code",
   "execution_count": 19,
   "metadata": {},
   "outputs": [],
   "source": [
    "# np.save('X_256.npy',X)\n",
    "# np.save('y_256.npy',y)"
   ]
  },
  {
   "cell_type": "code",
   "execution_count": 20,
   "metadata": {},
   "outputs": [],
   "source": [
    "X = np.load('X_256.npy')\n",
    "y = np.load('y_256.npy')"
   ]
  },
  {
   "cell_type": "code",
   "execution_count": 21,
   "metadata": {},
   "outputs": [
    {
     "data": {
      "text/plain": [
       "((78211, 256, 256, 3), (78211,))"
      ]
     },
     "execution_count": 21,
     "metadata": {},
     "output_type": "execute_result"
    }
   ],
   "source": [
    "X.shape, y.shape"
   ]
  },
  {
   "cell_type": "code",
   "execution_count": 22,
   "metadata": {},
   "outputs": [],
   "source": [
    "from sklearn.model_selection import train_test_split\n",
    "X_train, X_test, y_train, y_test = train_test_split(X,y, test_size = 0.3, random_state = 42)"
   ]
  },
  {
   "cell_type": "code",
   "execution_count": 23,
   "metadata": {},
   "outputs": [],
   "source": [
    "X_train, X_val, y_train, y_val = train_test_split(X_train, y_train, test_size = 0.3, random_state = 42)"
   ]
  },
  {
   "cell_type": "code",
   "execution_count": 24,
   "metadata": {},
   "outputs": [
    {
     "data": {
      "text/plain": [
       "((38322, 256, 256, 3),\n",
       " (38322,),\n",
       " (23464, 256, 256, 3),\n",
       " (23464,),\n",
       " (16425, 256, 256, 3),\n",
       " (16425,))"
      ]
     },
     "execution_count": 24,
     "metadata": {},
     "output_type": "execute_result"
    }
   ],
   "source": [
    "X_train.shape, y_train.shape, X_test.shape, y_test.shape, X_val.shape, y_val.shape"
   ]
  },
  {
   "cell_type": "code",
   "execution_count": 25,
   "metadata": {},
   "outputs": [],
   "source": [
    "from tensorflow.keras.models import Model as KerasModel\n",
    "from tensorflow.keras.layers import Input, Dense, Flatten, Conv2D, MaxPooling2D, BatchNormalization, Dropout, Reshape, Concatenate, LeakyReLU\n",
    "from tensorflow.keras.optimizers import Adam\n",
    "\n",
    "Image_width = 256\n",
    "\n",
    "class Classifier:\n",
    "    def __init__():\n",
    "        self.model = 0\n",
    "    \n",
    "    #Method for Predicting \n",
    "    def predict(self, x):\n",
    "        return self.model.predict(x)\n",
    "    \n",
    "    # For Fitting the Model Training Data\n",
    "    def fit(self, x, y, epochs = 10, verbose = 1, batch_size = 256, validation_data = (X_val,y_val)):\n",
    "        return self.model.fit(x, y,epochs=epochs,verbose=verbose,batch_size = batch_size,validation_data = validation_data)\n",
    "    \n",
    "    #For Accuracy\n",
    "    def get_accuracy(self, x, y):\n",
    "        return self.model.test_on_batch(x, y)\n",
    "    \n",
    "    # To Load the Model\n",
    "    def load(self, path):\n",
    "        self.model.load_weights(path)\n"
   ]
  },
  {
   "cell_type": "code",
   "execution_count": null,
   "metadata": {},
   "outputs": [],
   "source": [
    "# MesoNet 1 Classifier Class Implementation\n",
    "\n",
    "class Meso1(Classifier):\n",
    "    \"\"\"\n",
    "    Contains both Feature extraction and Classification\n",
    "    \"\"\"\n",
    "    #Initializing our model with Learning rate, dilation rate and Adam Optimizer\n",
    "    def __init__(self, learning_rate = 0.001, dl_rate = 1):\n",
    "        self.model = self.init_model(dl_rate)\n",
    "        optimizer = Adam(lr = learning_rate)\n",
    "        self.model.compile(optimizer = optimizer, loss = 'mean_squared_error', metrics = ['accuracy'])\n",
    "    \n",
    "    # This method will return the Architecture i.e Contains Layers for our Network \n",
    "    def init_model(self, dl_rate):\n",
    "        x = Input(shape = (Image_width, Image_width, 3))\n",
    "        # Two Convolutional Layers added\n",
    "        x1 = Conv2D(16, (3, 3), dilation_rate = dl_rate, strides = 1, padding='same', activation = 'relu')(x)\n",
    "        x1 = Conv2D(4, (1, 1), padding='same', activation = 'relu')(x1)\n",
    "        x1 = BatchNormalization()(x1)\n",
    "        x1 = MaxPooling2D(pool_size=(8, 8), padding='same')(x1)\n",
    "\n",
    "        y = Flatten()(x1)\n",
    "        #Dropout of 0.5 is added at last layer \n",
    "        y = Dropout(0.5)(y)\n",
    "        #Sigmoid Activation function is used\n",
    "        y = Dense(1, activation = 'sigmoid')(y)\n",
    "        return KerasModel(inputs = x, outputs = y)"
   ]
  },
  {
   "cell_type": "code",
   "execution_count": null,
   "metadata": {},
   "outputs": [],
   "source": [
    "class Meso4(Classifier):\n",
    "    #Intializing our Network with Learning rate, and adam Optimizer.\n",
    "    def __init__(self, learning_rate = 0.001):\n",
    "        self.model = self.init_model()\n",
    "        optimizer = Adam(lr = learning_rate)\n",
    "        self.model.compile(optimizer = optimizer, loss = 'mean_squared_error', metrics = ['accuracy'])\n",
    "    \n",
    "    #For Meso Classifier our network contains 4 convolution layers with 3x3 kernel size in first and other 3 contains\n",
    "    #5x5 Kernel size and activation ReLu is used.\n",
    "    def init_model(self): \n",
    "        x = Input(shape = (Image_width, Image_width, 3))\n",
    "        #First Convolutional Layer\n",
    "        x1 = Conv2D(8, (3, 3), padding='same', activation = 'relu')(x)\n",
    "        x1 = BatchNormalization()(x1)\n",
    "        x1 = MaxPooling2D(pool_size=(2, 2), padding='same')(x1)\n",
    "        #Second Convolution Layer\n",
    "        x2 = Conv2D(8, (5, 5), padding='same', activation = 'relu')(x1)\n",
    "        x2 = BatchNormalization()(x2)\n",
    "        x2 = MaxPooling2D(pool_size=(2, 2), padding='same')(x2)\n",
    "        #Third Convolutional Layer\n",
    "        x3 = Conv2D(16, (5, 5), padding='same', activation = 'relu')(x2)\n",
    "        x3 = BatchNormalization()(x3)\n",
    "        x3 = MaxPooling2D(pool_size=(2, 2), padding='same')(x3)\n",
    "        #Fourth Convolutional Layer\n",
    "        x4 = Conv2D(16, (5, 5), padding='same', activation = 'relu')(x3)\n",
    "        x4 = BatchNormalization()(x4)\n",
    "        x4 = MaxPooling2D(pool_size=(4, 4), padding='same')(x4)\n",
    "        \n",
    "        y = Flatten()(x4)\n",
    "        #Dropout of 0.5 is added\n",
    "        y = Dropout(0.5)(y)\n",
    "        y = Dense(16)(y)\n",
    "        y = LeakyReLU(alpha=0.1)(y)\n",
    "        #Dropout of 0.5 is added again\n",
    "        y = Dropout(0.5)(y)\n",
    "        y = Dense(1, activation = 'sigmoid')(y)\n",
    "\n",
    "        return KerasModel(inputs = x, outputs = y)"
   ]
  },
  {
   "cell_type": "code",
   "execution_count": 26,
   "metadata": {},
   "outputs": [
    {
     "data": {
      "text/plain": [
       "['/device:CPU:0', '/device:GPU:0']"
      ]
     },
     "execution_count": 26,
     "metadata": {},
     "output_type": "execute_result"
    }
   ],
   "source": [
    "#GPU Testing \n",
    "from tensorflow.python.client import device_lib\n",
    "\n",
    "def get_available_gpus():\n",
    "    local_device_protos = device_lib.list_local_devices()\n",
    "    return [x.name for x in local_device_protos]\n",
    "\n",
    "get_available_gpus()"
   ]
  },
  {
   "cell_type": "code",
   "execution_count": 27,
   "metadata": {},
   "outputs": [],
   "source": [
    "import numpy as np\n",
    "from tensorflow.keras.preprocessing.image import ImageDataGenerator\n",
    "\n",
    "classifier_1 = Meso1()\n",
    "classifier_2 = Meso4()"
   ]
  },
  {
   "cell_type": "code",
   "execution_count": 28,
   "metadata": {},
   "outputs": [
    {
     "name": "stdout",
     "output_type": "stream",
     "text": [
      "Epoch 1/20\n",
      "150/150 [==============================] - 104s 557ms/step - loss: 0.2427 - accuracy: 0.6835 - val_loss: 0.1927 - val_accuracy: 0.7322\n",
      "Epoch 2/20\n",
      "150/150 [==============================] - 80s 534ms/step - loss: 0.1967 - accuracy: 0.7400 - val_loss: 0.2687 - val_accuracy: 0.6347\n",
      "Epoch 3/20\n",
      "150/150 [==============================] - 80s 533ms/step - loss: 0.1778 - accuracy: 0.7613 - val_loss: 0.1527 - val_accuracy: 0.7893\n",
      "Epoch 4/20\n",
      "150/150 [==============================] - 80s 533ms/step - loss: 0.1691 - accuracy: 0.7725 - val_loss: 0.1558 - val_accuracy: 0.7896\n",
      "Epoch 5/20\n",
      "150/150 [==============================] - 80s 533ms/step - loss: 0.1616 - accuracy: 0.7820 - val_loss: 0.1462 - val_accuracy: 0.8014\n",
      "Epoch 6/20\n",
      "150/150 [==============================] - 80s 533ms/step - loss: 0.1570 - accuracy: 0.7880 - val_loss: 0.1713 - val_accuracy: 0.7448\n",
      "Epoch 7/20\n",
      "150/150 [==============================] - 80s 533ms/step - loss: 0.1522 - accuracy: 0.7921 - val_loss: 0.2298 - val_accuracy: 0.6955\n",
      "Epoch 8/20\n",
      "150/150 [==============================] - 80s 533ms/step - loss: 0.1524 - accuracy: 0.7918 - val_loss: 0.1501 - val_accuracy: 0.7961\n",
      "Epoch 9/20\n",
      "150/150 [==============================] - 80s 533ms/step - loss: 0.1483 - accuracy: 0.7997 - val_loss: 0.1343 - val_accuracy: 0.8222\n",
      "Epoch 10/20\n",
      "150/150 [==============================] - 80s 533ms/step - loss: 0.1462 - accuracy: 0.7993 - val_loss: 0.3051 - val_accuracy: 0.6230\n",
      "Epoch 11/20\n",
      "150/150 [==============================] - 80s 533ms/step - loss: 0.1494 - accuracy: 0.7974 - val_loss: 0.1298 - val_accuracy: 0.8307\n",
      "Epoch 12/20\n",
      "150/150 [==============================] - 80s 533ms/step - loss: 0.1424 - accuracy: 0.8091 - val_loss: 0.1310 - val_accuracy: 0.8270\n",
      "Epoch 13/20\n",
      "150/150 [==============================] - 80s 534ms/step - loss: 0.1402 - accuracy: 0.8128 - val_loss: 0.1257 - val_accuracy: 0.8298\n",
      "Epoch 14/20\n",
      "150/150 [==============================] - 80s 535ms/step - loss: 0.1367 - accuracy: 0.8179 - val_loss: 0.1260 - val_accuracy: 0.8328\n",
      "Epoch 15/20\n",
      "150/150 [==============================] - 80s 534ms/step - loss: 0.1356 - accuracy: 0.8194 - val_loss: 0.1297 - val_accuracy: 0.8289\n",
      "Epoch 16/20\n",
      "150/150 [==============================] - 80s 533ms/step - loss: 0.1369 - accuracy: 0.8163 - val_loss: 0.1186 - val_accuracy: 0.8454\n",
      "Epoch 17/20\n",
      "150/150 [==============================] - 80s 534ms/step - loss: 0.1340 - accuracy: 0.8213 - val_loss: 0.1251 - val_accuracy: 0.8358\n",
      "Epoch 18/20\n",
      "150/150 [==============================] - 80s 533ms/step - loss: 0.1343 - accuracy: 0.8191 - val_loss: 0.1220 - val_accuracy: 0.8381\n",
      "Epoch 19/20\n",
      "150/150 [==============================] - 80s 533ms/step - loss: 0.1324 - accuracy: 0.8246 - val_loss: 0.1161 - val_accuracy: 0.8477\n",
      "Epoch 20/20\n",
      "150/150 [==============================] - 80s 533ms/step - loss: 0.1302 - accuracy: 0.8280 - val_loss: 0.1135 - val_accuracy: 0.8553\n"
     ]
    }
   ],
   "source": [
    "history_1 = classifier_1.fit(X_train, y_train, epochs = 20, batch_size = 256, verbose = 1, validation_data = (X_val,y_val))"
   ]
  },
  {
   "cell_type": "code",
   "execution_count": 29,
   "metadata": {},
   "outputs": [],
   "source": [
    "classifier_1.model.save('Mesonet_1_Model.h5')"
   ]
  },
  {
   "cell_type": "code",
   "execution_count": 104,
   "metadata": {},
   "outputs": [],
   "source": [
    "# classifier_1 = load_model('Mesonet_1_Model.h5')"
   ]
  },
  {
   "cell_type": "code",
   "execution_count": 44,
   "metadata": {},
   "outputs": [
    {
     "data": {
      "image/png": "[encoded data removed]",
      "text/plain": [
       "<Figure size 432x288 with 1 Axes>"
      ]
     },
     "metadata": {
      "needs_background": "light"
     },
     "output_type": "display_data"
    }
   ],
   "source": [
    "#For Plotting\n",
    "import matplotlib.pyplot as plt\n",
    "plt.plot(history_1.history['accuracy'])\n",
    "plt.plot(history_1.history['val_accuracy'])\n",
    "plt.title('MesoNet1-accuracy')\n",
    "plt.ylabel('accuracy')\n",
    "plt.xlabel('epoch')\n",
    "plt.ylim(bottom = 0.2)\n",
    "plt.legend(['train', 'val'], loc='upper left')\n",
    "plt.show()"
   ]
  },
  {
   "cell_type": "code",
   "execution_count": 42,
   "metadata": {},
   "outputs": [
    {
     "data": {
      "image/png": "[encoded data removed]",
      "text/plain": [
       "<Figure size 432x288 with 1 Axes>"
      ]
     },
     "metadata": {
      "needs_background": "light"
     },
     "output_type": "display_data"
    }
   ],
   "source": [
    "plt.plot(history_1.history['loss'])\n",
    "plt.plot(history_1.history['val_loss'])\n",
    "plt.title('MesoNet1-Loss')\n",
    "plt.ylabel('Loss')\n",
    "plt.xlabel('epoch')\n",
    "#plt.ylim(top = 0.5,bottom = 0)\n",
    "plt.legend(['train', 'val'], loc='upper left')\n",
    "plt.show()"
   ]
  },
  {
   "cell_type": "code",
   "execution_count": 35,
   "metadata": {},
   "outputs": [
    {
     "name": "stdout",
     "output_type": "stream",
     "text": [
      "Epoch 1/20\n",
      "150/150 [==============================] - 74s 466ms/step - loss: 0.2283 - accuracy: 0.6941 - val_loss: 0.1650 - val_accuracy: 0.7660\n",
      "Epoch 2/20\n",
      "150/150 [==============================] - 67s 444ms/step - loss: 0.1650 - accuracy: 0.7744 - val_loss: 0.1366 - val_accuracy: 0.8097\n",
      "Epoch 3/20\n",
      "150/150 [==============================] - 66s 443ms/step - loss: 0.1413 - accuracy: 0.8118 - val_loss: 0.1267 - val_accuracy: 0.8187\n",
      "Epoch 4/20\n",
      "150/150 [==============================] - 66s 442ms/step - loss: 0.1259 - accuracy: 0.8315 - val_loss: 0.1055 - val_accuracy: 0.8590\n",
      "Epoch 5/20\n",
      "150/150 [==============================] - 66s 443ms/step - loss: 0.1149 - accuracy: 0.8462 - val_loss: 0.0983 - val_accuracy: 0.8630\n",
      "Epoch 6/20\n",
      "150/150 [==============================] - 66s 443ms/step - loss: 0.1061 - accuracy: 0.8570 - val_loss: 0.0955 - val_accuracy: 0.8648\n",
      "Epoch 7/20\n",
      "150/150 [==============================] - 66s 443ms/step - loss: 0.0995 - accuracy: 0.8660 - val_loss: 0.0819 - val_accuracy: 0.8877\n",
      "Epoch 8/20\n",
      "150/150 [==============================] - 66s 442ms/step - loss: 0.0966 - accuracy: 0.8719 - val_loss: 0.0795 - val_accuracy: 0.8930\n",
      "Epoch 9/20\n",
      "150/150 [==============================] - 66s 443ms/step - loss: 0.0912 - accuracy: 0.8784 - val_loss: 0.0773 - val_accuracy: 0.8949\n",
      "Epoch 10/20\n",
      "150/150 [==============================] - 66s 443ms/step - loss: 0.0864 - accuracy: 0.8875 - val_loss: 0.0758 - val_accuracy: 0.9014\n",
      "Epoch 11/20\n",
      "150/150 [==============================] - 66s 443ms/step - loss: 0.0840 - accuracy: 0.8877 - val_loss: 0.0720 - val_accuracy: 0.9008\n",
      "Epoch 12/20\n",
      "150/150 [==============================] - 66s 443ms/step - loss: 0.0836 - accuracy: 0.8897 - val_loss: 0.0719 - val_accuracy: 0.9047\n",
      "Epoch 13/20\n",
      "150/150 [==============================] - 66s 443ms/step - loss: 0.0799 - accuracy: 0.8939 - val_loss: 0.0711 - val_accuracy: 0.9046\n",
      "Epoch 14/20\n",
      "150/150 [==============================] - 66s 443ms/step - loss: 0.0790 - accuracy: 0.8967 - val_loss: 0.0605 - val_accuracy: 0.9184\n",
      "Epoch 15/20\n",
      "150/150 [==============================] - 66s 443ms/step - loss: 0.0751 - accuracy: 0.9003 - val_loss: 0.0657 - val_accuracy: 0.9149\n",
      "Epoch 16/20\n",
      "150/150 [==============================] - 66s 444ms/step - loss: 0.0736 - accuracy: 0.9026 - val_loss: 0.0565 - val_accuracy: 0.9243\n",
      "Epoch 17/20\n",
      "150/150 [==============================] - 66s 442ms/step - loss: 0.0712 - accuracy: 0.9061 - val_loss: 0.0588 - val_accuracy: 0.9228\n",
      "Epoch 18/20\n",
      "150/150 [==============================] - 66s 442ms/step - loss: 0.0717 - accuracy: 0.9043 - val_loss: 0.0563 - val_accuracy: 0.9273\n",
      "Epoch 19/20\n",
      "150/150 [==============================] - 66s 442ms/step - loss: 0.0673 - accuracy: 0.9138 - val_loss: 0.0580 - val_accuracy: 0.9223\n",
      "Epoch 20/20\n",
      "150/150 [==============================] - 66s 442ms/step - loss: 0.0700 - accuracy: 0.9093 - val_loss: 0.0551 - val_accuracy: 0.9260\n"
     ]
    }
   ],
   "source": [
    "history_2 = classifier_2.fit(X_train, y_train, epochs = 20, batch_size = 256, verbose = 1, validation_data = (X_val,y_val))"
   ]
  },
  {
   "cell_type": "code",
   "execution_count": null,
   "metadata": {},
   "outputs": [],
   "source": [
    "#Saving the Trained Model"
   ]
  },
  {
   "cell_type": "code",
   "execution_count": 37,
   "metadata": {},
   "outputs": [],
   "source": [
    "classifier_2.model.save('Mesonet_4_Model.h5')"
   ]
  },
  {
   "cell_type": "code",
   "execution_count": null,
   "metadata": {},
   "outputs": [],
   "source": [
    "# classifier_2 = load_model('Mesonet_4_Model.h5')"
   ]
  },
  {
   "cell_type": "code",
   "execution_count": 38,
   "metadata": {},
   "outputs": [
    {
     "data": {
      "image/png": "[encoded data removed]",
      "text/plain": [
       "<Figure size 432x288 with 1 Axes>"
      ]
     },
     "metadata": {
      "needs_background": "light"
     },
     "output_type": "display_data"
    }
   ],
   "source": [
    "import matplotlib.pyplot as plt\n",
    "plt.plot(history_2.history['accuracy'])\n",
    "plt.plot(history_2.history['val_accuracy'])\n",
    "plt.title('MesoNet4-accuracy')\n",
    "plt.ylabel('accuracy')\n",
    "plt.xlabel('epoch')\n",
    "plt.ylim(top = 1,bottom = 0.5)\n",
    "plt.legend(['train', 'val'], loc='upper left')\n",
    "plt.show()"
   ]
  },
  {
   "cell_type": "code",
   "execution_count": 45,
   "metadata": {},
   "outputs": [
    {
     "data": {
      "image/png": "[encoded data removed]",
      "text/plain": [
       "<Figure size 432x288 with 1 Axes>"
      ]
     },
     "metadata": {
      "needs_background": "light"
     },
     "output_type": "display_data"
    }
   ],
   "source": [
    "plt.plot(history_2.history['loss'])\n",
    "plt.plot(history_2.history['val_loss'])\n",
    "plt.title('MesoNet4-Loss')\n",
    "plt.ylabel('Loss')\n",
    "plt.xlabel('epoch')\n",
    "#plt.ylim(top = 0.2,bottom = 0)\n",
    "plt.legend(['train', 'val'], loc='upper left')\n",
    "plt.show()"
   ]
  },
  {
   "cell_type": "code",
   "execution_count": null,
   "metadata": {},
   "outputs": [],
   "source": [
    "#Testing"
   ]
  },
  {
   "cell_type": "code",
   "execution_count": 49,
   "metadata": {},
   "outputs": [],
   "source": [
    "y_pred1 = classifier_1.predict(X_test)\n",
    "y_pred2 = classifier_2.predict(X_test)"
   ]
  },
  {
   "cell_type": "code",
   "execution_count": 61,
   "metadata": {},
   "outputs": [],
   "source": [
    "#Since our Model predicts probability of belonging to class 0 or 1 for testing purpose we have taken the threshold of 0.5.\n",
    "def predictfromprob(y_pred):\n",
    "    temp = []\n",
    "    for i in range(len(y_pred)):\n",
    "        if(y_pred[i] >0.5):\n",
    "            temp.append(1)\n",
    "        else:\n",
    "            temp.append(0)\n",
    "    return temp"
   ]
  },
  {
   "cell_type": "code",
   "execution_count": 62,
   "metadata": {},
   "outputs": [
    {
     "name": "stdout",
     "output_type": "stream",
     "text": [
      "Accuracy Mesonet1 is 0.8585066484827821\n",
      "Accuracy Mesonet4 is 0.9252471871803614\n"
     ]
    }
   ],
   "source": [
    "from sklearn.metrics import accuracy_score\n",
    "print('Accuracy Mesonet1 is {}'.format(accuracy_score(predictfromprob(y_pred1),y_test)))\n",
    "print('Accuracy Mesonet4 is {}'.format(accuracy_score(predictfromprob(y_pred2),y_test)))"
   ]
  },
  {
   "cell_type": "code",
   "execution_count": 63,
   "metadata": {},
   "outputs": [],
   "source": [
    "train_pred1 = classifier_1.predict(X_train)\n",
    "train_pred2 = classifier_2.predict(X_train)"
   ]
  },
  {
   "cell_type": "code",
   "execution_count": 64,
   "metadata": {},
   "outputs": [
    {
     "name": "stdout",
     "output_type": "stream",
     "text": [
      "Train Accuracy Mesonet1 is 0.8603674129742707\n",
      "Train Accuracy Mesonet4 is 0.9338761024998695\n"
     ]
    }
   ],
   "source": [
    "print('Train Accuracy Mesonet1 is {}'.format(accuracy_score(predictfromprob(train_pred1),y_train)))\n",
    "print('Train Accuracy Mesonet4 is {}'.format(accuracy_score(predictfromprob(train_pred2),y_train)))"
   ]
  }
 ],
 "metadata": {
  "kernelspec": {
   "display_name": "Python 3",
   "language": "python",
   "name": "python3"
  },
  "language_info": {
   "codemirror_mode": {
    "name": "ipython",
    "version": 3
   },
   "file_extension": ".py",
   "mimetype": "text/x-python",
   "name": "python",
   "nbconvert_exporter": "python",
   "pygments_lexer": "ipython3",
   "version": "3.8.5"
  }
 },
 "nbformat": 4,
 "nbformat_minor": 4
}
