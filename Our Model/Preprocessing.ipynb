{
 "cells": [
  {
   "cell_type": "code",
   "execution_count": 1,
   "metadata": {
    "id": "wc8QLf_MFD-P"
   },
   "outputs": [],
   "source": [
    "import numpy as np\n",
    "import os \n",
    "os.chdir('C:\\\\Users\\\\Pruthivi\\\\Desktop\\\\2_Avyakt\\\\Baselines - Copy')"
   ]
  },
  {
   "cell_type": "code",
   "execution_count": 2,
   "metadata": {
    "id": "zL3ihNOAFD-T",
    "outputId": "18ce6d7a-3a53-4c21-b038-081b0a255cbf"
   },
   "outputs": [
    {
     "data": {
      "text/plain": [
       "['.ipynb_checkpoints',\n",
       " '.jovianrc',\n",
       " 'Data_face',\n",
       " 'delete',\n",
       " 'final_Model.h5',\n",
       " 'InceptionConv.ipynb',\n",
       " 'metadata',\n",
       " 'Predict.ipynb',\n",
       " 'Preprocessing.ipynb',\n",
       " 'temp',\n",
       " 'Test',\n",
       " 'X_Full.npy',\n",
       " 'y_Full.npy']"
      ]
     },
     "execution_count": 2,
     "metadata": {},
     "output_type": "execute_result"
    }
   ],
   "source": [
    "os.listdir()"
   ]
  },
  {
   "cell_type": "code",
   "execution_count": 4,
   "metadata": {
    "id": "qNp8H1XzFD-V",
    "outputId": "b3dcfd22-2ba4-4a8d-fc1c-cd72d6542ed6"
   },
   "outputs": [
    {
     "name": "stderr",
     "output_type": "stream",
     "text": [
      "C:\\Users\\Pruthivi\\anaconda3\\lib\\site-packages\\IPython\\core\\interactiveshell.py:3146: DtypeWarning: Columns (14,18,19,20,21,22) have mixed types.Specify dtype option on import or set low_memory=False.\n",
      "  has_raised = await self.run_ast_nodes(code_ast.body, cell_name,\n"
     ]
    }
   ],
   "source": [
    "import pandas as pd\n",
    "file = pd.read_csv('metadata')"
   ]
  },
  {
   "cell_type": "code",
   "execution_count": 5,
   "metadata": {
    "id": "jrn5hLoKFD-W",
    "outputId": "899cf483-4b2e-44c4-b440-cdfff8309704"
   },
   "outputs": [
    {
     "data": {
      "text/html": [
       "<div>\n",
       "<style scoped>\n",
       "    .dataframe tbody tr th:only-of-type {\n",
       "        vertical-align: middle;\n",
       "    }\n",
       "\n",
       "    .dataframe tbody tr th {\n",
       "        vertical-align: top;\n",
       "    }\n",
       "\n",
       "    .dataframe thead th {\n",
       "        text-align: right;\n",
       "    }\n",
       "</style>\n",
       "<table border=\"1\" class=\"dataframe\">\n",
       "  <thead>\n",
       "    <tr style=\"text-align: right;\">\n",
       "      <th></th>\n",
       "      <th>filename</th>\n",
       "      <th>video.@index</th>\n",
       "      <th>video.@codec_time_base</th>\n",
       "      <th>video.@width</th>\n",
       "      <th>video.@height</th>\n",
       "      <th>video.@sample_aspect_ratio</th>\n",
       "      <th>video.@display_aspect_ratio</th>\n",
       "      <th>video.@level</th>\n",
       "      <th>video.@r_frame_rate</th>\n",
       "      <th>video.@time_base</th>\n",
       "      <th>...</th>\n",
       "      <th>original</th>\n",
       "      <th>folder</th>\n",
       "      <th>wav.hash.cnt</th>\n",
       "      <th>original.cnt</th>\n",
       "      <th>md5</th>\n",
       "      <th>md5.orig</th>\n",
       "      <th>wav.hash</th>\n",
       "      <th>wav.hash.orig</th>\n",
       "      <th>pxl.hash</th>\n",
       "      <th>pxl.hash.orig</th>\n",
       "    </tr>\n",
       "  </thead>\n",
       "  <tbody>\n",
       "    <tr>\n",
       "      <th>0</th>\n",
       "      <td>hrundztjfb.mp4</td>\n",
       "      <td>0</td>\n",
       "      <td>2500/150301</td>\n",
       "      <td>1920</td>\n",
       "      <td>1080</td>\n",
       "      <td>1:1</td>\n",
       "      <td>16:9</td>\n",
       "      <td>40</td>\n",
       "      <td>150301/5000</td>\n",
       "      <td>1/150301</td>\n",
       "      <td>...</td>\n",
       "      <td>vvrlglaepq.mp4</td>\n",
       "      <td>dfdc_train_part_12</td>\n",
       "      <td>3.0</td>\n",
       "      <td>2.0</td>\n",
       "      <td>7b1db59bdb78179aa3ed78a4270ed063</td>\n",
       "      <td>d98cd8af0ba7ce2a51acefb2c0502b71</td>\n",
       "      <td>6877743394119074431s</td>\n",
       "      <td>6877743394119074431s</td>\n",
       "      <td>4312499372455908935s</td>\n",
       "      <td>16061268809469102567s</td>\n",
       "    </tr>\n",
       "    <tr>\n",
       "      <th>1</th>\n",
       "      <td>uyfnfvsxez.mp4</td>\n",
       "      <td>0</td>\n",
       "      <td>50/2997</td>\n",
       "      <td>1920</td>\n",
       "      <td>1080</td>\n",
       "      <td>NAN</td>\n",
       "      <td>NAN</td>\n",
       "      <td>40</td>\n",
       "      <td>2997/100</td>\n",
       "      <td>1/11988</td>\n",
       "      <td>...</td>\n",
       "      <td>NAN</td>\n",
       "      <td>dfdc_train_part_12</td>\n",
       "      <td>2.0</td>\n",
       "      <td>NaN</td>\n",
       "      <td>62c47bd354599ce0fad65d28ef4b78b9</td>\n",
       "      <td>NaN</td>\n",
       "      <td>-4734951634879773329s</td>\n",
       "      <td>NaN</td>\n",
       "      <td>17835547769154037975s</td>\n",
       "      <td>NaN</td>\n",
       "    </tr>\n",
       "    <tr>\n",
       "      <th>2</th>\n",
       "      <td>yknlciphae.mp4</td>\n",
       "      <td>0</td>\n",
       "      <td>50/2997</td>\n",
       "      <td>1920</td>\n",
       "      <td>1080</td>\n",
       "      <td>1:1</td>\n",
       "      <td>16:9</td>\n",
       "      <td>40</td>\n",
       "      <td>2997/100</td>\n",
       "      <td>1/11988</td>\n",
       "      <td>...</td>\n",
       "      <td>ahesnzswur.mp4</td>\n",
       "      <td>dfdc_train_part_12</td>\n",
       "      <td>6.0</td>\n",
       "      <td>5.0</td>\n",
       "      <td>a0e4d1f8bf2636def22dc2f2b21187dd</td>\n",
       "      <td>3bb70580dbf21c4719f17c4e4617c398</td>\n",
       "      <td>-5599986156292069640s</td>\n",
       "      <td>-5599986156292069640s</td>\n",
       "      <td>16356267960363338360s</td>\n",
       "      <td>14219253130038039922s</td>\n",
       "    </tr>\n",
       "    <tr>\n",
       "      <th>3</th>\n",
       "      <td>zfyczzssiz.mp4</td>\n",
       "      <td>0</td>\n",
       "      <td>50/2997</td>\n",
       "      <td>1920</td>\n",
       "      <td>1080</td>\n",
       "      <td>1:1</td>\n",
       "      <td>16:9</td>\n",
       "      <td>40</td>\n",
       "      <td>2997/100</td>\n",
       "      <td>1/11988</td>\n",
       "      <td>...</td>\n",
       "      <td>jdvzqjihud.mp4</td>\n",
       "      <td>dfdc_train_part_12</td>\n",
       "      <td>7.0</td>\n",
       "      <td>6.0</td>\n",
       "      <td>d641ebd07badeb89c0d389019d9f7e72</td>\n",
       "      <td>c77170df2cc8b40ef1d39b6d79105321</td>\n",
       "      <td>-1564427678199738496s</td>\n",
       "      <td>-1564427678199738496s</td>\n",
       "      <td>12983824148373679782s</td>\n",
       "      <td>6108291220829004959s</td>\n",
       "    </tr>\n",
       "    <tr>\n",
       "      <th>4</th>\n",
       "      <td>kggbciadwj.mp4</td>\n",
       "      <td>0</td>\n",
       "      <td>125/7501</td>\n",
       "      <td>1080</td>\n",
       "      <td>1920</td>\n",
       "      <td>1:1</td>\n",
       "      <td>9:16</td>\n",
       "      <td>40</td>\n",
       "      <td>7501/250</td>\n",
       "      <td>1/15002</td>\n",
       "      <td>...</td>\n",
       "      <td>NAN</td>\n",
       "      <td>dfdc_train_part_12</td>\n",
       "      <td>9.0</td>\n",
       "      <td>NaN</td>\n",
       "      <td>7de3ddacab0c9109e2a985d2c03244ea</td>\n",
       "      <td>NaN</td>\n",
       "      <td>-1251615899500302547s</td>\n",
       "      <td>NaN</td>\n",
       "      <td>970391495631676767s</td>\n",
       "      <td>NaN</td>\n",
       "    </tr>\n",
       "    <tr>\n",
       "      <th>...</th>\n",
       "      <td>...</td>\n",
       "      <td>...</td>\n",
       "      <td>...</td>\n",
       "      <td>...</td>\n",
       "      <td>...</td>\n",
       "      <td>...</td>\n",
       "      <td>...</td>\n",
       "      <td>...</td>\n",
       "      <td>...</td>\n",
       "      <td>...</td>\n",
       "      <td>...</td>\n",
       "      <td>...</td>\n",
       "      <td>...</td>\n",
       "      <td>...</td>\n",
       "      <td>...</td>\n",
       "      <td>...</td>\n",
       "      <td>...</td>\n",
       "      <td>...</td>\n",
       "      <td>...</td>\n",
       "      <td>...</td>\n",
       "      <td>...</td>\n",
       "    </tr>\n",
       "    <tr>\n",
       "      <th>119141</th>\n",
       "      <td>ecqiuhmijo.mp4</td>\n",
       "      <td>0</td>\n",
       "      <td>625/37599</td>\n",
       "      <td>1920</td>\n",
       "      <td>1080</td>\n",
       "      <td>1:1</td>\n",
       "      <td>16:9</td>\n",
       "      <td>40</td>\n",
       "      <td>37599/1250</td>\n",
       "      <td>1/37599</td>\n",
       "      <td>...</td>\n",
       "      <td>qgalcgvqoz.mp4</td>\n",
       "      <td>dfdc_train_part_8</td>\n",
       "      <td>13.0</td>\n",
       "      <td>12.0</td>\n",
       "      <td>cec335ee37f9cfc703754ff8cffe08d0</td>\n",
       "      <td>48b61cbb5e78bcfb8d2a0f2114442b35</td>\n",
       "      <td>8884601750571192987s</td>\n",
       "      <td>8884601750571192987s</td>\n",
       "      <td>1707335066847917120s</td>\n",
       "      <td>12896116552346240566s</td>\n",
       "    </tr>\n",
       "    <tr>\n",
       "      <th>119142</th>\n",
       "      <td>bfifbfziqw.mp4</td>\n",
       "      <td>0</td>\n",
       "      <td>5000/298729</td>\n",
       "      <td>1920</td>\n",
       "      <td>1080</td>\n",
       "      <td>1:1</td>\n",
       "      <td>16:9</td>\n",
       "      <td>40</td>\n",
       "      <td>298729/10000</td>\n",
       "      <td>1/298729</td>\n",
       "      <td>...</td>\n",
       "      <td>sbfqskzcxw.mp4</td>\n",
       "      <td>dfdc_train_part_8</td>\n",
       "      <td>18.0</td>\n",
       "      <td>17.0</td>\n",
       "      <td>78a424879ac99067468ad067499d5614</td>\n",
       "      <td>a62cba493cf1d13d780e3b3f90934bbb</td>\n",
       "      <td>1261302301170646961s</td>\n",
       "      <td>1261302301170646961s</td>\n",
       "      <td>3973207955448026452s</td>\n",
       "      <td>5361291702580585497s</td>\n",
       "    </tr>\n",
       "    <tr>\n",
       "      <th>119143</th>\n",
       "      <td>hwzqeodegs.mp4</td>\n",
       "      <td>0</td>\n",
       "      <td>50/2997</td>\n",
       "      <td>1920</td>\n",
       "      <td>1080</td>\n",
       "      <td>NAN</td>\n",
       "      <td>NAN</td>\n",
       "      <td>40</td>\n",
       "      <td>2997/100</td>\n",
       "      <td>1/11988</td>\n",
       "      <td>...</td>\n",
       "      <td>NAN</td>\n",
       "      <td>dfdc_train_part_8</td>\n",
       "      <td>2.0</td>\n",
       "      <td>NaN</td>\n",
       "      <td>9d2099f4415aa24a0b1af0260dfd7008</td>\n",
       "      <td>NaN</td>\n",
       "      <td>-6344801452981133525s</td>\n",
       "      <td>NaN</td>\n",
       "      <td>5143388631801766485s</td>\n",
       "      <td>NaN</td>\n",
       "    </tr>\n",
       "    <tr>\n",
       "      <th>119144</th>\n",
       "      <td>cbukvshrzm.mp4</td>\n",
       "      <td>0</td>\n",
       "      <td>5000/298731</td>\n",
       "      <td>1920</td>\n",
       "      <td>1080</td>\n",
       "      <td>1:1</td>\n",
       "      <td>16:9</td>\n",
       "      <td>40</td>\n",
       "      <td>298731/10000</td>\n",
       "      <td>1/298731</td>\n",
       "      <td>...</td>\n",
       "      <td>gbbkbmzpfl.mp4</td>\n",
       "      <td>dfdc_train_part_8</td>\n",
       "      <td>9.0</td>\n",
       "      <td>13.0</td>\n",
       "      <td>f3ac2c37197486057f4e056040b38931</td>\n",
       "      <td>fa18f60fac081166eb75b203ea44e0ab</td>\n",
       "      <td>1134449075896085660s</td>\n",
       "      <td>-2121756635260252783s</td>\n",
       "      <td>12898255773587192080s</td>\n",
       "      <td>14915045442117171048s</td>\n",
       "    </tr>\n",
       "    <tr>\n",
       "      <th>119145</th>\n",
       "      <td>ucfogqvbft.mp4</td>\n",
       "      <td>0</td>\n",
       "      <td>40/2389</td>\n",
       "      <td>1920</td>\n",
       "      <td>1080</td>\n",
       "      <td>1:1</td>\n",
       "      <td>16:9</td>\n",
       "      <td>40</td>\n",
       "      <td>2389/80</td>\n",
       "      <td>1/19112</td>\n",
       "      <td>...</td>\n",
       "      <td>jsyvjrorrc.mp4</td>\n",
       "      <td>dfdc_train_part_8</td>\n",
       "      <td>15.0</td>\n",
       "      <td>14.0</td>\n",
       "      <td>811382f245dbe972c2acd2034af3ceac</td>\n",
       "      <td>741803626e483f52a46024b2015b7260</td>\n",
       "      <td>-2215475222925519653s</td>\n",
       "      <td>-2215475222925519653s</td>\n",
       "      <td>15598537564083176277s</td>\n",
       "      <td>13944966890185519932s</td>\n",
       "    </tr>\n",
       "  </tbody>\n",
       "</table>\n",
       "<p>119146 rows × 35 columns</p>\n",
       "</div>"
      ],
      "text/plain": [
       "              filename  video.@index video.@codec_time_base  video.@width  \\\n",
       "0       hrundztjfb.mp4             0            2500/150301          1920   \n",
       "1       uyfnfvsxez.mp4             0                50/2997          1920   \n",
       "2       yknlciphae.mp4             0                50/2997          1920   \n",
       "3       zfyczzssiz.mp4             0                50/2997          1920   \n",
       "4       kggbciadwj.mp4             0               125/7501          1080   \n",
       "...                ...           ...                    ...           ...   \n",
       "119141  ecqiuhmijo.mp4             0              625/37599          1920   \n",
       "119142  bfifbfziqw.mp4             0            5000/298729          1920   \n",
       "119143  hwzqeodegs.mp4             0                50/2997          1920   \n",
       "119144  cbukvshrzm.mp4             0            5000/298731          1920   \n",
       "119145  ucfogqvbft.mp4             0                40/2389          1920   \n",
       "\n",
       "        video.@height video.@sample_aspect_ratio video.@display_aspect_ratio  \\\n",
       "0                1080                        1:1                        16:9   \n",
       "1                1080                        NAN                         NAN   \n",
       "2                1080                        1:1                        16:9   \n",
       "3                1080                        1:1                        16:9   \n",
       "4                1920                        1:1                        9:16   \n",
       "...               ...                        ...                         ...   \n",
       "119141           1080                        1:1                        16:9   \n",
       "119142           1080                        1:1                        16:9   \n",
       "119143           1080                        NAN                         NAN   \n",
       "119144           1080                        1:1                        16:9   \n",
       "119145           1080                        1:1                        16:9   \n",
       "\n",
       "        video.@level video.@r_frame_rate video.@time_base  ...  \\\n",
       "0                 40         150301/5000         1/150301  ...   \n",
       "1                 40            2997/100          1/11988  ...   \n",
       "2                 40            2997/100          1/11988  ...   \n",
       "3                 40            2997/100          1/11988  ...   \n",
       "4                 40            7501/250          1/15002  ...   \n",
       "...              ...                 ...              ...  ...   \n",
       "119141            40          37599/1250          1/37599  ...   \n",
       "119142            40        298729/10000         1/298729  ...   \n",
       "119143            40            2997/100          1/11988  ...   \n",
       "119144            40        298731/10000         1/298731  ...   \n",
       "119145            40             2389/80          1/19112  ...   \n",
       "\n",
       "              original              folder  wav.hash.cnt  original.cnt  \\\n",
       "0       vvrlglaepq.mp4  dfdc_train_part_12           3.0           2.0   \n",
       "1                  NAN  dfdc_train_part_12           2.0           NaN   \n",
       "2       ahesnzswur.mp4  dfdc_train_part_12           6.0           5.0   \n",
       "3       jdvzqjihud.mp4  dfdc_train_part_12           7.0           6.0   \n",
       "4                  NAN  dfdc_train_part_12           9.0           NaN   \n",
       "...                ...                 ...           ...           ...   \n",
       "119141  qgalcgvqoz.mp4   dfdc_train_part_8          13.0          12.0   \n",
       "119142  sbfqskzcxw.mp4   dfdc_train_part_8          18.0          17.0   \n",
       "119143             NAN   dfdc_train_part_8           2.0           NaN   \n",
       "119144  gbbkbmzpfl.mp4   dfdc_train_part_8           9.0          13.0   \n",
       "119145  jsyvjrorrc.mp4   dfdc_train_part_8          15.0          14.0   \n",
       "\n",
       "                                     md5                          md5.orig  \\\n",
       "0       7b1db59bdb78179aa3ed78a4270ed063  d98cd8af0ba7ce2a51acefb2c0502b71   \n",
       "1       62c47bd354599ce0fad65d28ef4b78b9                               NaN   \n",
       "2       a0e4d1f8bf2636def22dc2f2b21187dd  3bb70580dbf21c4719f17c4e4617c398   \n",
       "3       d641ebd07badeb89c0d389019d9f7e72  c77170df2cc8b40ef1d39b6d79105321   \n",
       "4       7de3ddacab0c9109e2a985d2c03244ea                               NaN   \n",
       "...                                  ...                               ...   \n",
       "119141  cec335ee37f9cfc703754ff8cffe08d0  48b61cbb5e78bcfb8d2a0f2114442b35   \n",
       "119142  78a424879ac99067468ad067499d5614  a62cba493cf1d13d780e3b3f90934bbb   \n",
       "119143  9d2099f4415aa24a0b1af0260dfd7008                               NaN   \n",
       "119144  f3ac2c37197486057f4e056040b38931  fa18f60fac081166eb75b203ea44e0ab   \n",
       "119145  811382f245dbe972c2acd2034af3ceac  741803626e483f52a46024b2015b7260   \n",
       "\n",
       "                     wav.hash          wav.hash.orig               pxl.hash  \\\n",
       "0        6877743394119074431s   6877743394119074431s   4312499372455908935s   \n",
       "1       -4734951634879773329s                    NaN  17835547769154037975s   \n",
       "2       -5599986156292069640s  -5599986156292069640s  16356267960363338360s   \n",
       "3       -1564427678199738496s  -1564427678199738496s  12983824148373679782s   \n",
       "4       -1251615899500302547s                    NaN    970391495631676767s   \n",
       "...                       ...                    ...                    ...   \n",
       "119141   8884601750571192987s   8884601750571192987s   1707335066847917120s   \n",
       "119142   1261302301170646961s   1261302301170646961s   3973207955448026452s   \n",
       "119143  -6344801452981133525s                    NaN   5143388631801766485s   \n",
       "119144   1134449075896085660s  -2121756635260252783s  12898255773587192080s   \n",
       "119145  -2215475222925519653s  -2215475222925519653s  15598537564083176277s   \n",
       "\n",
       "                pxl.hash.orig  \n",
       "0       16061268809469102567s  \n",
       "1                         NaN  \n",
       "2       14219253130038039922s  \n",
       "3        6108291220829004959s  \n",
       "4                         NaN  \n",
       "...                       ...  \n",
       "119141  12896116552346240566s  \n",
       "119142   5361291702580585497s  \n",
       "119143                    NaN  \n",
       "119144  14915045442117171048s  \n",
       "119145  13944966890185519932s  \n",
       "\n",
       "[119146 rows x 35 columns]"
      ]
     },
     "execution_count": 5,
     "metadata": {},
     "output_type": "execute_result"
    }
   ],
   "source": [
    "file"
   ]
  },
  {
   "cell_type": "code",
   "execution_count": 6,
   "metadata": {},
   "outputs": [
    {
     "name": "stdout",
     "output_type": "stream",
     "text": [
      "Folder : dfdc_train_part_0\n",
      "Folder : dfdc_train_part_1\n",
      "Folder : dfdc_train_part_10\n",
      "Folder : dfdc_train_part_11\n",
      "Folder : dfdc_train_part_12\n",
      "Folder : dfdc_train_part_13\n",
      "Folder : dfdc_train_part_14\n",
      "Folder : dfdc_train_part_15\n",
      "Folder : dfdc_train_part_16\n",
      "Folder : dfdc_train_part_17\n",
      "Folder : dfdc_train_part_18\n",
      "Folder : dfdc_train_part_19\n",
      "Folder : dfdc_train_part_2\n",
      "Folder : dfdc_train_part_20\n",
      "Folder : dfdc_train_part_21\n",
      "Folder : dfdc_train_part_22\n",
      "Folder : dfdc_train_part_23\n",
      "Folder : dfdc_train_part_24\n",
      "Folder : dfdc_train_part_25\n",
      "Folder : dfdc_train_part_26\n",
      "Folder : dfdc_train_part_27\n",
      "Folder : dfdc_train_part_28\n",
      "Folder : dfdc_train_part_29\n",
      "Folder : dfdc_train_part_3\n",
      "Folder : dfdc_train_part_30\n",
      "Folder : dfdc_train_part_31\n",
      "Folder : dfdc_train_part_32\n",
      "Folder : dfdc_train_part_33\n",
      "Folder : dfdc_train_part_34\n",
      "Folder : dfdc_train_part_35\n",
      "Folder : dfdc_train_part_36\n",
      "Folder : dfdc_train_part_37\n",
      "Folder : dfdc_train_part_38\n",
      "Folder : dfdc_train_part_39\n",
      "Folder : dfdc_train_part_4\n",
      "Folder : dfdc_train_part_40\n",
      "Folder : dfdc_train_part_41\n",
      "Folder : dfdc_train_part_42\n",
      "Folder : dfdc_train_part_43\n",
      "Folder : dfdc_train_part_44\n",
      "Folder : dfdc_train_part_45\n",
      "Folder : dfdc_train_part_46\n",
      "Folder : dfdc_train_part_47\n",
      "Folder : dfdc_train_part_48\n",
      "Folder : dfdc_train_part_49\n",
      "Folder : dfdc_train_part_5\n",
      "Folder : dfdc_train_part_6\n",
      "Folder : dfdc_train_part_7\n",
      "Folder : dfdc_train_part_8\n",
      "Folder : dfdc_train_part_9\n"
     ]
    }
   ],
   "source": [
    "s =set()\n",
    "temp = list()\n",
    "\n",
    "fol = np.unique(file['folder'])\n",
    "final_data = dict()\n",
    "for each_fol in fol:\n",
    "    print('Folder : {}'.format(each_fol))\n",
    "    temp = dict()\n",
    "    file_temp = file[file['folder'] == each_fol]\n",
    "    file_temp = file_temp[file_temp['original'] != 'NAN']\n",
    "    video_name = set()\n",
    "    r = set()\n",
    "    f = set()\n",
    "    c = 0\n",
    "    for i in range(len(file_temp)):\n",
    "        if file_temp['original'].values[i] not in r:\n",
    "            video_name.add(file_temp['filename'].values[i])\n",
    "            video_name.add(file_temp['original'].values[i])\n",
    "            r.add(file_temp['original'].values[i])\n",
    "            f.add((file_temp['filename'].values[i]))\n",
    "            c = c+2\n",
    "        if(c == 100):\n",
    "            break\n",
    "    temp['Real'] = r\n",
    "    temp['Fake'] = f\n",
    "    final_data[each_fol] = temp"
   ]
  },
  {
   "cell_type": "code",
   "execution_count": 16,
   "metadata": {},
   "outputs": [],
   "source": [
    "# len(final_data['dfdc_train_part_11']['Fake'])"
   ]
  },
  {
   "cell_type": "code",
   "execution_count": 108,
   "metadata": {},
   "outputs": [
    {
     "data": {
      "text/plain": [
       "50"
      ]
     },
     "execution_count": 108,
     "metadata": {},
     "output_type": "execute_result"
    }
   ],
   "source": [
    "len(final_data.keys())"
   ]
  },
  {
   "cell_type": "code",
   "execution_count": 114,
   "metadata": {},
   "outputs": [
    {
     "name": "stdout",
     "output_type": "stream",
     "text": [
      "Folder dfdc_train_part_0 ...\n",
      "Folder dfdc_train_part_1 ...\n",
      "Folder dfdc_train_part_10 ...\n",
      "Folder dfdc_train_part_11 ...\n",
      "Folder dfdc_train_part_12 ...\n",
      "Folder dfdc_train_part_13 ...\n",
      "Folder dfdc_train_part_14 ...\n",
      "Folder dfdc_train_part_15 ...\n",
      "Folder dfdc_train_part_16 ...\n",
      "Folder dfdc_train_part_17 ...\n",
      "Folder dfdc_train_part_18 ...\n",
      "Folder dfdc_train_part_19 ...\n",
      "Folder dfdc_train_part_2 ...\n",
      "Folder dfdc_train_part_20 ...\n",
      "Folder dfdc_train_part_21 ...\n",
      "Folder dfdc_train_part_22 ...\n",
      "Folder dfdc_train_part_23 ...\n",
      "Folder dfdc_train_part_24 ...\n",
      "Folder dfdc_train_part_25 ...\n",
      "Folder dfdc_train_part_26 ...\n",
      "Folder dfdc_train_part_27 ...\n",
      "Folder dfdc_train_part_28 ...\n",
      "Folder dfdc_train_part_29 ...\n",
      "Folder dfdc_train_part_3 ...\n",
      "Folder dfdc_train_part_30 ...\n",
      "Folder dfdc_train_part_31 ...\n",
      "Folder dfdc_train_part_32 ...\n",
      "Folder dfdc_train_part_33 ...\n",
      "Folder dfdc_train_part_34 ...\n",
      "Folder dfdc_train_part_35 ...\n",
      "Folder dfdc_train_part_36 ...\n",
      "Folder dfdc_train_part_37 ...\n",
      "Folder dfdc_train_part_38 ...\n",
      "Folder dfdc_train_part_39 ...\n",
      "Folder dfdc_train_part_4 ...\n",
      "Folder dfdc_train_part_40 ...\n",
      "Folder dfdc_train_part_41 ...\n",
      "Folder dfdc_train_part_42 ...\n",
      "Folder dfdc_train_part_43 ...\n",
      "Folder dfdc_train_part_44 ...\n",
      "Folder dfdc_train_part_45 ...\n",
      "Folder dfdc_train_part_46 ...\n",
      "Folder dfdc_train_part_47 ...\n",
      "Folder dfdc_train_part_48 ...\n",
      "Folder dfdc_train_part_49 ...\n",
      "Folder dfdc_train_part_5 ...\n",
      "Folder dfdc_train_part_6 ...\n",
      "Folder dfdc_train_part_7 ...\n",
      "Folder dfdc_train_part_8 ...\n",
      "Folder dfdc_train_part_9 ...\n"
     ]
    }
   ],
   "source": [
    "import shutil\n",
    "real_path = 'F:\\\\Video_Data\\\\Real'\n",
    "fake_path = 'F:\\\\Video_Data\\\\Fake'\n",
    "full_data_path = 'F:\\\\dfdc_train_all'\n",
    "for folder, v in final_data.items():\n",
    "        print('Folder {} ...'.format(folder))\n",
    "        PATH = os.path.join(full_data_path, folder)\n",
    "        my_dict = final_data[folder]\n",
    "        temp = my_dict['Real']\n",
    "        for i in temp:\n",
    "            shutil.move(os.path.join(PATH,i), real_path)\n",
    "        temp2 = my_dict['Fake']\n",
    "        for j in temp2:\n",
    "            shutil.move(os.path.join(PATH,j), fake_path)"
   ]
  },
  {
   "cell_type": "code",
   "execution_count": 7,
   "metadata": {},
   "outputs": [],
   "source": [
    "#Creating Full dataframe \n",
    "full_data = []\n",
    "for keys in final_data.keys():\n",
    "    fol_name = final_data[keys]\n",
    "    re_ = fol_name['Real']\n",
    "    fa_  = fol_name['Fake']\n",
    "    for re_v in re_:\n",
    "        temp = []\n",
    "        temp.append(keys)\n",
    "        temp.append(re_v)\n",
    "        temp.append('Real')\n",
    "        full_data.append(temp)\n",
    "    for fa_v in fa_:\n",
    "        temp2 = []\n",
    "        temp2.append(keys)\n",
    "        temp2.append(fa_v)\n",
    "        temp2.append('Fake')\n",
    "        full_data.append(temp2)"
   ]
  },
  {
   "cell_type": "code",
   "execution_count": 8,
   "metadata": {},
   "outputs": [],
   "source": [
    "full_data_df = pd.DataFrame(full_data)\n",
    "full_data_df.columns = ['Folder','Video_name','Label']\n",
    "full_data_df = full_data_df.sample(frac = 1)\n",
    "full_data = full_data_df"
   ]
  },
  {
   "cell_type": "code",
   "execution_count": 9,
   "metadata": {},
   "outputs": [
    {
     "data": {
      "text/html": [
       "<div>\n",
       "<style scoped>\n",
       "    .dataframe tbody tr th:only-of-type {\n",
       "        vertical-align: middle;\n",
       "    }\n",
       "\n",
       "    .dataframe tbody tr th {\n",
       "        vertical-align: top;\n",
       "    }\n",
       "\n",
       "    .dataframe thead th {\n",
       "        text-align: right;\n",
       "    }\n",
       "</style>\n",
       "<table border=\"1\" class=\"dataframe\">\n",
       "  <thead>\n",
       "    <tr style=\"text-align: right;\">\n",
       "      <th></th>\n",
       "      <th>Folder</th>\n",
       "      <th>Video_name</th>\n",
       "      <th>Label</th>\n",
       "    </tr>\n",
       "  </thead>\n",
       "  <tbody>\n",
       "    <tr>\n",
       "      <th>64</th>\n",
       "      <td>dfdc_train_part_0</td>\n",
       "      <td>jgdzqmqalr.mp4</td>\n",
       "      <td>Fake</td>\n",
       "    </tr>\n",
       "    <tr>\n",
       "      <th>263</th>\n",
       "      <td>dfdc_train_part_10</td>\n",
       "      <td>iugnhllekl.mp4</td>\n",
       "      <td>Fake</td>\n",
       "    </tr>\n",
       "    <tr>\n",
       "      <th>2328</th>\n",
       "      <td>dfdc_train_part_3</td>\n",
       "      <td>twgobosowv.mp4</td>\n",
       "      <td>Real</td>\n",
       "    </tr>\n",
       "    <tr>\n",
       "      <th>2539</th>\n",
       "      <td>dfdc_train_part_31</td>\n",
       "      <td>frtcdhlsmj.mp4</td>\n",
       "      <td>Real</td>\n",
       "    </tr>\n",
       "    <tr>\n",
       "      <th>4937</th>\n",
       "      <td>dfdc_train_part_9</td>\n",
       "      <td>xckfdjolom.mp4</td>\n",
       "      <td>Real</td>\n",
       "    </tr>\n",
       "    <tr>\n",
       "      <th>...</th>\n",
       "      <td>...</td>\n",
       "      <td>...</td>\n",
       "      <td>...</td>\n",
       "    </tr>\n",
       "    <tr>\n",
       "      <th>83</th>\n",
       "      <td>dfdc_train_part_0</td>\n",
       "      <td>jppzzcldui.mp4</td>\n",
       "      <td>Fake</td>\n",
       "    </tr>\n",
       "    <tr>\n",
       "      <th>3816</th>\n",
       "      <td>dfdc_train_part_43</td>\n",
       "      <td>lvqxtzsnhy.mp4</td>\n",
       "      <td>Real</td>\n",
       "    </tr>\n",
       "    <tr>\n",
       "      <th>181</th>\n",
       "      <td>dfdc_train_part_1</td>\n",
       "      <td>xbctgvzitp.mp4</td>\n",
       "      <td>Fake</td>\n",
       "    </tr>\n",
       "    <tr>\n",
       "      <th>2321</th>\n",
       "      <td>dfdc_train_part_3</td>\n",
       "      <td>eifretwgfd.mp4</td>\n",
       "      <td>Real</td>\n",
       "    </tr>\n",
       "    <tr>\n",
       "      <th>4053</th>\n",
       "      <td>dfdc_train_part_45</td>\n",
       "      <td>kxlprsoigl.mp4</td>\n",
       "      <td>Fake</td>\n",
       "    </tr>\n",
       "  </tbody>\n",
       "</table>\n",
       "<p>5000 rows × 3 columns</p>\n",
       "</div>"
      ],
      "text/plain": [
       "                  Folder      Video_name Label\n",
       "64     dfdc_train_part_0  jgdzqmqalr.mp4  Fake\n",
       "263   dfdc_train_part_10  iugnhllekl.mp4  Fake\n",
       "2328   dfdc_train_part_3  twgobosowv.mp4  Real\n",
       "2539  dfdc_train_part_31  frtcdhlsmj.mp4  Real\n",
       "4937   dfdc_train_part_9  xckfdjolom.mp4  Real\n",
       "...                  ...             ...   ...\n",
       "83     dfdc_train_part_0  jppzzcldui.mp4  Fake\n",
       "3816  dfdc_train_part_43  lvqxtzsnhy.mp4  Real\n",
       "181    dfdc_train_part_1  xbctgvzitp.mp4  Fake\n",
       "2321   dfdc_train_part_3  eifretwgfd.mp4  Real\n",
       "4053  dfdc_train_part_45  kxlprsoigl.mp4  Fake\n",
       "\n",
       "[5000 rows x 3 columns]"
      ]
     },
     "execution_count": 9,
     "metadata": {},
     "output_type": "execute_result"
    }
   ],
   "source": [
    "full_data"
   ]
  },
  {
   "cell_type": "code",
   "execution_count": 122,
   "metadata": {},
   "outputs": [],
   "source": [
    "Real_path = 'F:\\\\Video_Data\\\\Real'\n",
    "Fake_path = 'F:\\\\Video_Data\\\\Fake'\n",
    "# Real_path = \"F:\\\\Face_data\\\\Rake\"\n",
    "# Fake_path = \"F:\\\\Face_data\\\\Fake\""
   ]
  },
  {
   "cell_type": "code",
   "execution_count": 123,
   "metadata": {
    "id": "UmNchVIKFD-a"
   },
   "outputs": [
    {
     "name": "stdout",
     "output_type": "stream",
     "text": [
      "FAKE 2500\n",
      "REAL 2500\n"
     ]
    }
   ],
   "source": [
    "print('FAKE',len(os.listdir(Fake_path)))\n",
    "print('REAL',len(os.listdir(Real_path)))"
   ]
  },
  {
   "cell_type": "code",
   "execution_count": 6,
   "metadata": {},
   "outputs": [
    {
     "name": "stdout",
     "output_type": "stream",
     "text": [
      "Running on device: cuda:0\n"
     ]
    }
   ],
   "source": [
    "import os\n",
    "import glob\n",
    "import json\n",
    "import torch\n",
    "import cv2\n",
    "from PIL import Image\n",
    "import numpy as np\n",
    "import pandas as pd\n",
    "from tqdm.notebook import tqdm\n",
    "from facenet_pytorch import MTCNN\n",
    "\n",
    "device = 'cuda:0' if torch.cuda.is_available() else 'cpu'\n",
    "print(f'Running on device: {device}')"
   ]
  },
  {
   "cell_type": "code",
   "execution_count": 8,
   "metadata": {
    "id": "aOmRfV8UFD-a"
   },
   "outputs": [],
   "source": [
    "import tqdm.notebook as tq\n",
    "import numpy as np\n",
    "import os\n",
    "from PIL import Image\n",
    "import face_recognition"
   ]
  },
  {
   "cell_type": "code",
   "execution_count": 126,
   "metadata": {},
   "outputs": [],
   "source": [
    "class FaceExtractor:\n",
    "    def __init__(self, detector, n_frames=None, resize=None):\n",
    "        \"\"\"\n",
    "        Parameters:\n",
    "            n_frames {int} -- Total number of frames to load. These will be evenly spaced\n",
    "                throughout the video. If not specified (i.e., None), all frames will be loaded.\n",
    "                (default: {None})\n",
    "            resize {float} -- Fraction by which to resize frames from original prior to face\n",
    "                detection. A value less than 1 results in downsampling and a value greater than\n",
    "                1 result in upsampling. (default: {None})\n",
    "        \"\"\"\n",
    "\n",
    "        self.detector = detector\n",
    "        self.n_frames = n_frames\n",
    "        self.resize = resize\n",
    "    \n",
    "    def __call__(self, filename, save_dir):\n",
    "        \"\"\"Load frames from an MP4 video, detect faces and save the results.\n",
    "\n",
    "        Parameters:\n",
    "            filename {str} -- Path to video.\n",
    "            save_dir {str} -- The directory where results are saved.\n",
    "        \"\"\"\n",
    "\n",
    "        # Create video reader and find length\n",
    "        v_cap = cv2.VideoCapture(filename)\n",
    "        v_len = int(v_cap.get(cv2.CAP_PROP_FRAME_COUNT))\n",
    "\n",
    "        # Pick 'n_frames' evenly spaced frames to sample\n",
    "        if self.n_frames is None:\n",
    "            sample = np.arange(0, v_len)\n",
    "        else:\n",
    "            sample = np.linspace(0, v_len - 1, self.n_frames).astype(int)\n",
    "\n",
    "        # Loop through frames\n",
    "        for j in range(v_len):\n",
    "            success = v_cap.grab()\n",
    "            if j in sample:\n",
    "                # Load frame\n",
    "                success, frame = v_cap.retrieve()\n",
    "                if not success:\n",
    "                    continue\n",
    "                frame = cv2.cvtColor(frame, cv2.COLOR_BGR2RGB)\n",
    "                frame = Image.fromarray(frame)\n",
    "                \n",
    "                #image = face_recognition.load_image_file(frame)\n",
    "                #face_locations = face_recognition.face_locations(frame)\n",
    "                #print(face_locations)\n",
    "                #break\n",
    "                # Resize frame to desired size\n",
    "                if self.resize is not None:\n",
    "                    frame = frame.resize([int(d * self.resize) for d in frame.size])\n",
    "\n",
    "                save_path = os.path.join(save_dir, f'{j}.png')\n",
    "\n",
    "                self.detector([frame], save_path=save_path)\n",
    "\n",
    "        v_cap.release()"
   ]
  },
  {
   "cell_type": "code",
   "execution_count": 127,
   "metadata": {},
   "outputs": [],
   "source": [
    "face_detector = MTCNN(margin=14, keep_all=True, factor=0.5, device = device).cuda().eval()"
   ]
  },
  {
   "cell_type": "code",
   "execution_count": 129,
   "metadata": {},
   "outputs": [],
   "source": [
    "face_extractor = FaceExtractor(detector=face_detector, n_frames=64)"
   ]
  },
  {
   "cell_type": "code",
   "execution_count": 130,
   "metadata": {},
   "outputs": [],
   "source": [
    "all_train_videos = glob.glob(os.path.join(Real_path, '*.mp4'))\n",
    "# all_train_videos"
   ]
  },
  {
   "cell_type": "code",
   "execution_count": 132,
   "metadata": {},
   "outputs": [
    {
     "data": {
      "text/plain": [
       "'F:\\\\Face_data\\\\Real'"
      ]
     },
     "execution_count": 132,
     "metadata": {},
     "output_type": "execute_result"
    }
   ],
   "source": [
    "TMP_DIR = 'F:\\\\Face_data\\\\Real'\n",
    "TMP_DIR"
   ]
  },
  {
   "cell_type": "code",
   "execution_count": 133,
   "metadata": {},
   "outputs": [
    {
     "data": {
      "application/vnd.jupyter.widget-view+json": {
       "model_id": "7109fa6840be4c089d9d86295d3598b4",
       "version_major": 2,
       "version_minor": 0
      },
      "text/plain": [
       "HBox(children=(HTML(value=''), FloatProgress(value=0.0, max=2500.0), HTML(value='')))"
      ]
     },
     "metadata": {},
     "output_type": "display_data"
    },
    {
     "name": "stdout",
     "output_type": "stream",
     "text": [
      "\n"
     ]
    }
   ],
   "source": [
    "with torch.no_grad():\n",
    "    for path in tqdm(all_train_videos):\n",
    "        file_name = path.split('\\\\')[-1]\n",
    "\n",
    "        save_dir = os.path.join(TMP_DIR, file_name.split(\".\")[0])\n",
    "\n",
    "        if not os.path.exists(save_dir):\n",
    "            os.makedirs(save_dir)\n",
    "\n",
    "        # Detect all faces appear in the video and save them.\n",
    "        face_extractor(path, save_dir)"
   ]
  },
  {
   "cell_type": "code",
   "execution_count": 134,
   "metadata": {},
   "outputs": [
    {
     "data": {
      "text/plain": [
       "'F:\\\\Face_data\\\\Fake'"
      ]
     },
     "execution_count": 134,
     "metadata": {},
     "output_type": "execute_result"
    }
   ],
   "source": [
    "TMP_DIR = 'F:\\\\Face_data\\\\Fake'\n",
    "TMP_DIR"
   ]
  },
  {
   "cell_type": "code",
   "execution_count": 135,
   "metadata": {},
   "outputs": [
    {
     "data": {
      "text/plain": [
       "'NVIDIA Tesla K80'"
      ]
     },
     "execution_count": 135,
     "metadata": {},
     "output_type": "execute_result"
    }
   ],
   "source": [
    "torch.cuda.get_device_name(0)"
   ]
  },
  {
   "cell_type": "code",
   "execution_count": 136,
   "metadata": {},
   "outputs": [],
   "source": [
    "face_detector = MTCNN(margin=14, keep_all=True, factor=0.5, device = 'cuda').eval()\n",
    "face_extractor = FaceExtractor(detector=face_detector, n_frames=64)\n",
    "all_train_videos = glob.glob(os.path.join(Fake_path, '*.mp4'))"
   ]
  },
  {
   "cell_type": "code",
   "execution_count": 137,
   "metadata": {},
   "outputs": [
    {
     "data": {
      "application/vnd.jupyter.widget-view+json": {
       "model_id": "93565fa138e04ef09be2ea272c2419f0",
       "version_major": 2,
       "version_minor": 0
      },
      "text/plain": [
       "HBox(children=(HTML(value=''), FloatProgress(value=0.0, max=2500.0), HTML(value='')))"
      ]
     },
     "metadata": {},
     "output_type": "display_data"
    },
    {
     "name": "stdout",
     "output_type": "stream",
     "text": [
      "\n"
     ]
    }
   ],
   "source": [
    "with torch.no_grad():\n",
    "    for path in tqdm(all_train_videos):\n",
    "        file_name = path.split('\\\\')[-1]\n",
    "\n",
    "        save_dir = os.path.join(TMP_DIR, file_name.split(\".\")[0])\n",
    "\n",
    "        if not os.path.exists(save_dir):\n",
    "            os.makedirs(save_dir)\n",
    "\n",
    "        # Detect all faces appear in the video and save them.\n",
    "        face_extractor(path, save_dir)"
   ]
  },
  {
   "cell_type": "code",
   "execution_count": 138,
   "metadata": {},
   "outputs": [
    {
     "data": {
      "text/plain": [
       "dict_items([('dfdc_train_part_0', {'Real': {'vpmyeepbep.mp4', 'ldtgofdaqg.mp4', 'qarqtkvgby.mp4', 'vtunvalyji.mp4', 'knxltsvzyu.mp4', 'exxqlfpnbz.mp4', 'jzupayeuln.mp4', 'nweufafotd.mp4', 'lzbmwwejxb.mp4', 'wclvkepakb.mp4', 'xjzkfqddyk.mp4', 'wfzjxzhdkj.mp4', 'gnmmhlbzge.mp4', 'kqlvggiqee.mp4', 'upmgtackuf.mp4', 'ngvcqxjhyb.mp4', 'rktrpsdlci.mp4', 'lnjkpdviqb.mp4', 'vmxfwxgdei.mp4', 'qyqufaskjs.mp4', 'doniqevxeg.mp4', 'sttnfyptum.mp4', 'jytrvwlewz.mp4', 'uqtqhiqymz.mp4', 'fsaronfupy.mp4', 'xmkwsnuzyq.mp4', 'dxfdovivlw.mp4', 'didzujjhtg.mp4', 'wynotylpnm.mp4', 'exseruhiuk.mp4', 'eppyqpgewp.mp4', 'nhsijqpoda.mp4', 'fopjiyxiqd.mp4', 'fdpisghkmd.mp4', 'uprwuohbwx.mp4', 'ybbrkacebd.mp4', 'heiyoojifp.mp4', 'xugmhbetrw.mp4', 'xkfliqnmwt.mp4', 'ucthmsajay.mp4', 'apvzjkvnwn.mp4', 'srfefmyjvt.mp4', 'fnslimfagb.mp4', 'jawgcggquk.mp4', 'prmwoaeeng.mp4', 'psjfwjzrrh.mp4', 'hivnldfvyl.mp4', 'fzvpbrzssi.mp4', 'dpevefkefv.mp4', 'ljuuovfkgi.mp4'}, 'Fake': {'qrkjzekzkc.mp4', 'txxungvxms.mp4', 'veynowrrav.mp4', 'pdouadxxba.mp4', 'rnxnytbudq.mp4', 'bwlxucgxro.mp4', 'lebzjtusnr.mp4', 'jgdzqmqalr.mp4', 'xpzfhhwkwb.mp4', 'csqojsqtgn.mp4', 'ryccazlbju.mp4', 'idsupeszcp.mp4', 'nsifmpyfnq.mp4', 'yhbpxjcglo.mp4', 'muhgixhdmd.mp4', 'cjhwsuzeuz.mp4', 'twxnazwxup.mp4', 'lustdsegqq.mp4', 'ushjtzfvyn.mp4', 'qcnsahyrvi.mp4', 'gecrjewspu.mp4', 'biatmogsbv.mp4', 'xjpwlxducl.mp4', 'obpxzorkar.mp4', 'tamvgvhhbr.mp4', 'apzckowxpy.mp4', 'brtujopkby.mp4', 'jmhqbsgzrg.mp4', 'uuexerjsmk.mp4', 'oxthhmwxnz.mp4', 'bztdemptfg.mp4', 'xjidmljhxe.mp4', 'ielrrtwsdr.mp4', 'alhqaurncj.mp4', 'qhmkklxqlw.mp4', 'rfeagdwnnn.mp4', 'ktrleojxlf.mp4', 'atpngxfnhr.mp4', 'jppzzcldui.mp4', 'jmcryhnksj.mp4', 'vxuhkqqaqv.mp4', 'flilazlokf.mp4', 'ndrnxgzlmn.mp4', 'vmdpfyfkwi.mp4', 'btyxvpjgcc.mp4', 'jhczqfefgw.mp4', 'ntpmamjdyk.mp4', 'gnxgiwcknq.mp4', 'gcphojsohr.mp4', 'udxqbhgvvx.mp4'}}), ('dfdc_train_part_1', {'Real': {'viteugozpv.mp4', 'blszgmxkvu.mp4', 'mwwploizlj.mp4', 'aokxvqadsx.mp4', 'iedsgxqfuz.mp4', 'vvfszaosiv.mp4', 'okjhfifjkr.mp4', 'xjzmkuxskq.mp4', 'bcbqxhziqz.mp4', 'nfimdsszyf.mp4', 'fneqiqpqvs.mp4', 'ijhhztmidr.mp4', 'hhhvnhhqsc.mp4', 'djjgzhluss.mp4', 'cqxxumarvp.mp4', 'dmupfdcvca.mp4', 'bnuwxhfahw.mp4', 'rmpbqeawlq.mp4', 'yhylappzid.mp4', 'lyukjvgwoa.mp4', 'scqcdvqiyq.mp4', 'rmhsahyvta.mp4', 'orblnqzpra.mp4', 'ptkcmwnfjv.mp4', 'junllgghcq.mp4', 'jpvkoxrueh.mp4', 'wapflpdhyi.mp4', 'kvmpmhdxly.mp4', 'fmhiujydwo.mp4', 'hbufmvbium.mp4', 'eynxajczkd.mp4', 'ocnqcaojtf.mp4', 'pdufsewrec.mp4', 'xrhqtmxlvx.mp4', 'wqdsarmger.mp4', 'tcsddvsewk.mp4', 'zilqucorio.mp4', 'cnpanmywno.mp4', 'opsgvfjlgh.mp4', 'blkbkvcffn.mp4', 'nswtvttxre.mp4', 'tyojwenpaf.mp4', 'ekelfsnqof.mp4', 'ypbtpunjvm.mp4', 'cxsvvnxpyz.mp4', 'nbdixxfjph.mp4', 'lujvyveojc.mp4', 'yietrwuncf.mp4', 'kwfdyqofzw.mp4', 'nlbeldnhpa.mp4'}, 'Fake': {'kbmzfvrqep.mp4', 'jwuyeomibc.mp4', 'lzkyontpcf.mp4', 'qlwakmlpnq.mp4', 'kbhqxcdcuf.mp4', 'pzufkabvqa.mp4', 'basjckrjdf.mp4', 'gmvebzkncg.mp4', 'qzwvioovie.mp4', 'fomaiyrtin.mp4', 'mzolcisxha.mp4', 'srglkowbrs.mp4', 'mmzyykqddf.mp4', 'lxuefcwyyk.mp4', 'xqpkmgfyhn.mp4', 'drkgogkpqi.mp4', 'nhxolaztxi.mp4', 'insbnbhqxw.mp4', 'refiqvdsmh.mp4', 'hfedtplyys.mp4', 'eknoxdhyot.mp4', 'luggvvjmuh.mp4', 'ifxkdcpuog.mp4', 'trhqrdommy.mp4', 'pzyfqmmyxh.mp4', 'eeendmhkkm.mp4', 'dcnegjsubk.mp4', 'jhpkbwstpw.mp4', 'lklfngotia.mp4', 'dakrqpseiv.mp4', 'pikjvhpfoe.mp4', 'nikynwcvuh.mp4', 'wzoanvyeef.mp4', 'dpdqwygcrc.mp4', 'hkgldamgcb.mp4', 'abxtkdjyru.mp4', 'ardmfelhgw.mp4', 'aoclawrydd.mp4', 'czjeannjmi.mp4', 'yxcemuorah.mp4', 'bnaqqefxll.mp4', 'rcjfxxhcal.mp4', 'yxjskrymzu.mp4', 'pxzcnrmkqb.mp4', 'xbctgvzitp.mp4', 'webzbvjxwo.mp4', 'defxubrwdp.mp4', 'qynqpctxpj.mp4', 'yuozmggtin.mp4', 'eiayatksud.mp4'}}), ('dfdc_train_part_10', {'Real': {'hmsqmhihij.mp4', 'ywpueiyzvo.mp4', 'kebedcylrq.mp4', 'gcyecnxtht.mp4', 'wwbbevqdac.mp4', 'irsbnnwdrn.mp4', 'hktkbmoydh.mp4', 'qiqwehhmrg.mp4', 'yzvwjxnqvx.mp4', 'mujubwlspn.mp4', 'xrgbqhhgkf.mp4', 'gggxkzqtvh.mp4', 'jecaspvwdx.mp4', 'tdsfqvucbj.mp4', 'tjupfspjfr.mp4', 'lvnjzrvzwy.mp4', 'qwpypedkpr.mp4', 'zcgszofbno.mp4', 'ioghtcqpws.mp4', 'drjdwfbmod.mp4', 'junsqswjoc.mp4', 'qzhssuzyhd.mp4', 'rqsotnryhj.mp4', 'qoqnwrfvty.mp4', 'dpcnkzulmt.mp4', 'npgkgevhhw.mp4', 'kidzciupzx.mp4', 'wvccagxjni.mp4', 'psjnkzpili.mp4', 'apbvarwxli.mp4', 'jfbcuppbux.mp4', 'xgbxdiqays.mp4', 'dofnheuvhu.mp4', 'wlfrljfyec.mp4', 'wngejyajyh.mp4', 'ecehrqxntu.mp4', 'fddawzxdkg.mp4', 'oanuxtqkhk.mp4', 'rraluxdmqu.mp4', 'wwwnwpitjl.mp4', 'nbnipejygk.mp4', 'ruraoelttp.mp4', 'uryftkditg.mp4', 'lgzfdmimms.mp4', 'afuumscrle.mp4', 'xosbvurwon.mp4', 'jglbxlgwvj.mp4', 'wjdprlklsn.mp4', 'rcfmpfkglb.mp4', 'wdpsifpppf.mp4'}, 'Fake': {'plkdahgwvq.mp4', 'vtzzponycq.mp4', 'gzcieglwpm.mp4', 'udybabnsxp.mp4', 'qqoczyrgyo.mp4', 'eafavjmdow.mp4', 'pgzfmxuyeb.mp4', 'uxffnlkpui.mp4', 'dphliwleqr.mp4', 'lhvvsoopzz.mp4', 'ccofxnqrqb.mp4', 'iceyyvssxc.mp4', 'imewumwqos.mp4', 'kygxxcfecl.mp4', 'sxkubcwkgh.mp4', 'sokaefmenf.mp4', 'gqitdpngnb.mp4', 'junsqfquxf.mp4', 'ddfghtmonn.mp4', 'bhtwyqgbeg.mp4', 'cpsqfqaztq.mp4', 'teixdcyvew.mp4', 'kpmmyhsxey.mp4', 'qyqavdtzbs.mp4', 'ngajcyqubu.mp4', 'dnfpebppiq.mp4', 'prkgshbsxm.mp4', 'gmnsugyzmo.mp4', 'buwsoahbql.mp4', 'zljcaycjry.mp4', 'ebnerkxicg.mp4', 'shadxgdsez.mp4', 'ntkawpunrj.mp4', 'mwghzsaysw.mp4', 'tcnhmbtaeu.mp4', 'dxrtkemajv.mp4', 'dyhntnsmkd.mp4', 'qfjzryulkj.mp4', 'zhtjuiskcr.mp4', 'uerqfdfhvk.mp4', 'iwkxwerlbo.mp4', 'deuacldebm.mp4', 'onbxelnbdg.mp4', 'eiqmgdkhcf.mp4', 'thtksvmnyc.mp4', 'lhgxgjefgs.mp4', 'erfnfjcghd.mp4', 'rdqokuannd.mp4', 'abmtcpjxdi.mp4', 'iugnhllekl.mp4'}}), ('dfdc_train_part_11', {'Real': {'mhouvavsws.mp4', 'huowsesgyq.mp4', 'prkiqmcwhy.mp4', 'lcyfeiefju.mp4', 'yflzmdpkab.mp4', 'apgogdhmzd.mp4', 'jlwazimcui.mp4', 'fjihrjusdx.mp4', 'ypavsvctpq.mp4', 'rcbxoojslb.mp4', 'kcaxtdqgxe.mp4', 'usnyozppis.mp4', 'qifhccqwpi.mp4', 'jzbxqjnzoi.mp4', 'jrzsengxux.mp4', 'fnzozvyxsq.mp4', 'suzambwnee.mp4', 'eipwxqahgp.mp4', 'gcpxhxtepn.mp4', 'ispgaapbpn.mp4', 'zbfnyiowbv.mp4', 'bufydtkvxt.mp4', 'oihrffzjpu.mp4', 'umsjbpjqjx.mp4', 'lggaanrbpk.mp4', 'zesnphumru.mp4', 'nhggigrlac.mp4', 'rzekdyfhks.mp4', 'rgkqulzaem.mp4', 'ipbunnjfbm.mp4', 'irnfnmfxtq.mp4', 'urqaihjkol.mp4', 'mrqdkngrde.mp4', 'phkpguovju.mp4', 'frczmdfzza.mp4', 'axqoxnsewc.mp4', 'gzompgclwa.mp4', 'olrulxguui.mp4', 'jwgajaydgv.mp4', 'izanyxbfrw.mp4', 'lhwpsnzmah.mp4', 'brinacubmg.mp4', 'wejwwupaik.mp4', 'tyobejnzyu.mp4', 'zrtaylibdt.mp4', 'ztutsnlhtr.mp4', 'deqxaihxuz.mp4', 'qppnwoodzt.mp4', 'vrmsbupuix.mp4', 'nrtycmqqcg.mp4'}, 'Fake': {'dvwhlcpaem.mp4', 'acwsfbvhdr.mp4', 'xcvxjqcavz.mp4', 'lsuihvywzr.mp4', 'uvwqakhkxi.mp4', 'giiunfhqki.mp4', 'uflxvlverf.mp4', 'fkiejjiydk.mp4', 'jpnvuqkdvw.mp4', 'qsdzskajsg.mp4', 'hwgiyjqlmw.mp4', 'xbvhubqzlq.mp4', 'auvfkpejdn.mp4', 'xzxiydqftt.mp4', 'fhaiqjsxxr.mp4', 'vaczbzyhgi.mp4', 'kmakwrqxvf.mp4', 'cfybmuezmr.mp4', 'twlorhhbya.mp4', 'rgmllhylbj.mp4', 'nrvhpzsvbo.mp4', 'qfhqtbavpl.mp4', 'jegdxhxnfe.mp4', 'elsmxhryaf.mp4', 'lnqapliwfm.mp4', 'vfumwyxiyh.mp4', 'kqcjqltrql.mp4', 'remjlzfyyl.mp4', 'dejvqycmoj.mp4', 'hseqckyspj.mp4', 'glrmqblnzq.mp4', 'gianjluesv.mp4', 'lvipnebaps.mp4', 'nzperxctme.mp4', 'qzfgbrcgnz.mp4', 'cegsvyxjif.mp4', 'rfronnyujq.mp4', 'rvhbdgubzp.mp4', 'znycjndsxw.mp4', 'qekttcqtpm.mp4', 'efvwmeyfmp.mp4', 'rptgunzuyd.mp4', 'hwborqafnv.mp4', 'cknnsatjfq.mp4', 'ufmuhoaetg.mp4', 'jjpuafddqd.mp4', 'wwsviizdcp.mp4', 'nuelozwnxd.mp4', 'rjmquskzfy.mp4', 'gdweubaodc.mp4'}}), ('dfdc_train_part_12', {'Real': {'myqotqhdwv.mp4', 'pejtahlmir.mp4', 'ubwwnofjvs.mp4', 'uzwmhgnvct.mp4', 'zverzcapzv.mp4', 'oxeujnjtsr.mp4', 'rdjqfyymdg.mp4', 'qppjjwvfbg.mp4', 'gcgkoyodpx.mp4', 'veecjbgkph.mp4', 'eljyfxrymd.mp4', 'odzhpbyvkx.mp4', 'almduxqxkm.mp4', 'pkdhnsrrwz.mp4', 'cvotzhernt.mp4', 'tlaxtosyoi.mp4', 'uhzgpoxmuq.mp4', 'gtbzjhcfry.mp4', 'zkamlyqzao.mp4', 'kvbsmrjsak.mp4', 'cjrcsxqacy.mp4', 'ahesnzswur.mp4', 'ecqfzguvwy.mp4', 'ynhdroiwzr.mp4', 'ulubxioaxe.mp4', 'qslqrxndnh.mp4', 'erufbzxadr.mp4', 'shvaqyduzg.mp4', 'vvrlglaepq.mp4', 'wmzlvvesqw.mp4', 'kggbciadwj.mp4', 'titlyyrfyv.mp4', 'nfautgslrd.mp4', 'vqhpgdkvzv.mp4', 'jjxwsknwdx.mp4', 'bthhobpzyq.mp4', 'jdvzqjihud.mp4', 'kwprqsipok.mp4', 'xkstqrneyc.mp4', 'sprzdodinp.mp4', 'dwuyuvtbcs.mp4', 'zbhlvhjjgt.mp4', 'yqnsdfwelt.mp4', 'iysvczmsms.mp4', 'tbgllketip.mp4', 'lwxchoefjl.mp4', 'eqdevfaapb.mp4', 'ozhhaoydlq.mp4', 'tfylliakig.mp4', 'apcwcrklwh.mp4'}, 'Fake': {'exklctvfty.mp4', 'jbqtknxkrk.mp4', 'pllgovampw.mp4', 'bfzylgxdsh.mp4', 'ygmyjlrjpe.mp4', 'mqcqjynvym.mp4', 'uigumjoigj.mp4', 'pdwlwtneaz.mp4', 'dbglpvkptp.mp4', 'jnelvrznwv.mp4', 'jopqwzkdtc.mp4', 'flxuyzbglj.mp4', 'zfyczzssiz.mp4', 'hrundztjfb.mp4', 'xerxxjxnrl.mp4', 'asjzklsxgb.mp4', 'gazrgzbnzj.mp4', 'jhcynxkhku.mp4', 'xqbqzsyhgo.mp4', 'qvcsiotvxl.mp4', 'wuyzidtfnb.mp4', 'gkoxyhfssm.mp4', 'qasptbtcyf.mp4', 'gckbkqedod.mp4', 'ctvrdvsvlm.mp4', 'spflqgvyes.mp4', 'yknlciphae.mp4', 'corcplqpxs.mp4', 'vexcwzcmuh.mp4', 'higdmcpfpw.mp4', 'cnkagalbom.mp4', 'uaogqdzhip.mp4', 'eedeexqyxg.mp4', 'jswifckvow.mp4', 'anjlmqmuaj.mp4', 'tspxsnmgvn.mp4', 'ynhjsiaakw.mp4', 'cyqhlojnof.mp4', 'gvekjxzsik.mp4', 'uyaxlsnssn.mp4', 'srirkcysce.mp4', 'iyxjdvhoil.mp4', 'fztnpmcexo.mp4', 'olwxxevrto.mp4', 'ncpvftqsxg.mp4', 'zacgcrjdnw.mp4', 'ytfngzjnfm.mp4', 'xgfgwmtuyx.mp4', 'ihklglsqss.mp4', 'qeefpaarrl.mp4'}}), ('dfdc_train_part_13', {'Real': {'uambqlgxwt.mp4', 'tjbqmyaimq.mp4', 'macobycxqr.mp4', 'cxwvzubmaw.mp4', 'chgsduqlxy.mp4', 'deoxkcqbel.mp4', 'lrqhmruflh.mp4', 'guipnszqow.mp4', 'jajbmqewfy.mp4', 'xpivslxbup.mp4', 'sdcjjvsgiz.mp4', 'vqbbwvtywo.mp4', 'cggzjocxdk.mp4', 'vouyjulssc.mp4', 'wjsftxrqzj.mp4', 'dnwkkrblcw.mp4', 'qkkubsdlzn.mp4', 'nqmeunktvn.mp4', 'kaxpjejlle.mp4', 'yqjaqwbhoo.mp4', 'rcncybvyun.mp4', 'pwrjjomcsq.mp4', 'gqatosifpz.mp4', 'bnkheclavc.mp4', 'ibvumqguch.mp4', 'pmqmvsklst.mp4', 'gakrxuhtfw.mp4', 'zlhvoufjou.mp4', 'hbtcxdfwus.mp4', 'mhqfyrnnir.mp4', 'blsgycrkog.mp4', 'gvyytljpjs.mp4', 'khybkobcmj.mp4', 'xopkazwlxt.mp4', 'fmutbqbnsk.mp4', 'xwrqwazdpf.mp4', 'bjzkahdzig.mp4', 'mhvphnquoh.mp4', 'zdjjvppdoo.mp4', 'heslyipegn.mp4', 'kfywgjbkdg.mp4', 'sjgzxlsvvv.mp4', 'sicswuleun.mp4', 'qwcismrvgr.mp4', 'huilufzozs.mp4', 'vzrrkyipkj.mp4', 'zjcicdzech.mp4', 'nuskecuqis.mp4', 'zriqxerfvh.mp4', 'ejhuwtbcxs.mp4'}, 'Fake': {'aqzuimqyjq.mp4', 'filmmsbgum.mp4', 'zffuvcttin.mp4', 'ijdqrngqsz.mp4', 'hsdkcxignr.mp4', 'tdlwdzfbcd.mp4', 'omzbvjzrdy.mp4', 'dbpiskidse.mp4', 'kiaqmwuoiw.mp4', 'xiirvcxxgm.mp4', 'riqvfktrlj.mp4', 'wrsyaburul.mp4', 'vjowxauwnt.mp4', 'kgddgxunxz.mp4', 'zecnetmwlu.mp4', 'fxvghvomvg.mp4', 'urkakoappt.mp4', 'vatkjfgwov.mp4', 'psmfxfstis.mp4', 'coralbgmjk.mp4', 'yzmttxcaai.mp4', 'zwhlxgwatn.mp4', 'qsakckygbj.mp4', 'edjwguukpi.mp4', 'lwckqmlfss.mp4', 'ihnykgbpuz.mp4', 'aeafanmfvt.mp4', 'xwnkmcgadl.mp4', 'oxdrbsmogg.mp4', 'ebmqlzcihi.mp4', 'jtrkocnwhv.mp4', 'qfnodwwnpx.mp4', 'eyswgigekf.mp4', 'eqtqxycvsf.mp4', 'xenzrgygen.mp4', 'hrnfnbtaci.mp4', 'fdcvshmfkh.mp4', 'ezymytowow.mp4', 'ipqupfeioc.mp4', 'xiowwjstqd.mp4', 'opizceidzc.mp4', 'qiqukydmin.mp4', 'gbuzbvmmas.mp4', 'zalaycbexh.mp4', 'wqdyfdihyu.mp4', 'fglvqbbayj.mp4', 'ixhsmdorum.mp4', 'xvakdzxakw.mp4', 'bpisbvizga.mp4', 'htafhiaztf.mp4'}}), ('dfdc_train_part_14', {'Real': {'hqzljwdfwm.mp4', 'auszbyqcem.mp4', 'hhrpdtqzxd.mp4', 'kzimidhlfc.mp4', 'zeqjgtjmxm.mp4', 'evelnossix.mp4', 'hyqszrnkhz.mp4', 'mceixcangb.mp4', 'ujivurbzyc.mp4', 'skvowrpuff.mp4', 'vwpphgpqma.mp4', 'jeyvgixnkm.mp4', 'eafptmmzpn.mp4', 'vokkpekgav.mp4', 'dohyajgpym.mp4', 'ogzbfoyxdh.mp4', 'ctfmwebpxh.mp4', 'ksdohprrko.mp4', 'vlyrlqiead.mp4', 'rpwfaxcuip.mp4', 'dhgvvblxsu.mp4', 'lfopaeaajl.mp4', 'msegqgxgbb.mp4', 'ylbdflgawa.mp4', 'dmlagmugqs.mp4', 'ovirwjxtht.mp4', 'haftqapupu.mp4', 'zocvwatcsf.mp4', 'uwkfgynugo.mp4', 'ujnoyvmfhj.mp4', 'vdvsekvhhg.mp4', 'afuahfjtdh.mp4', 'uxqzpuvwjq.mp4', 'utzrzvhnbe.mp4', 'blzgjrjsvy.mp4', 'takbuccohz.mp4', 'ngomywonyp.mp4', 'ffloxijuta.mp4', 'xpgnlphhug.mp4', 'evpbbjssuo.mp4', 'dhyskxqqkh.mp4', 'hfbcxofuag.mp4', 'tpqdixzqqk.mp4', 'qvqjzwubwz.mp4', 'pjpfdrqixm.mp4', 'xicwzjeahw.mp4', 'jszcnqtpjm.mp4', 'wpdrxrheoy.mp4', 'suviwtawno.mp4', 'wyaymhujdu.mp4'}, 'Fake': {'wbjnkkmwls.mp4', 'ljvflijwqo.mp4', 'ieediducjd.mp4', 'wmnsbbdnjj.mp4', 'rhwlxurwzo.mp4', 'mypddzlcao.mp4', 'ufqsdaorjg.mp4', 'ladafwlvgy.mp4', 'vhxemanczc.mp4', 'bieojeixtf.mp4', 'irixdjtwpp.mp4', 'usnebepgbk.mp4', 'imkjcsdzkc.mp4', 'ufbyulvjxa.mp4', 'vbtirwqjug.mp4', 'rieamybrpj.mp4', 'viioeoyzwt.mp4', 'nmvjhqdpdy.mp4', 'ahxspfdyny.mp4', 'qqopzjovpo.mp4', 'fihjnhcwth.mp4', 'ydicaccpbg.mp4', 'qehbnhaaob.mp4', 'vhxyusuyxq.mp4', 'qjcworudck.mp4', 'ijbreydpiq.mp4', 'igdifobvny.mp4', 'lywcagznan.mp4', 'nfxbkxzkha.mp4', 'ccenahyrpb.mp4', 'mpcluwvrlr.mp4', 'zyiocqadta.mp4', 'nlrmblqcks.mp4', 'pvhluckinx.mp4', 'zifmjoryir.mp4', 'btbfrzgcqo.mp4', 'bnkjftqxbh.mp4', 'oazdldludx.mp4', 'usbmgbycdi.mp4', 'wqxffyaftx.mp4', 'cigeitrnlc.mp4', 'yehnjsxyzc.mp4', 'oojotcvvee.mp4', 'ofnodyyeoe.mp4', 'tawlojmnzk.mp4', 'qizmuwjilt.mp4', 'ggrjernpmp.mp4', 'eliusgdvno.mp4', 'ymblnqqtcf.mp4', 'nwgbsdkryv.mp4'}}), ('dfdc_train_part_15', {'Real': {'eqmklliuvv.mp4', 'almyyibgay.mp4', 'xhcelfjvvl.mp4', 'kstwwfmgdo.mp4', 'vhojjwsnli.mp4', 'ypzxxadhqx.mp4', 'lbizlvhouh.mp4', 'zaedzhgmfp.mp4', 'flvyfswjls.mp4', 'odksflgkon.mp4', 'qvxaknnxiy.mp4', 'jiznrsypus.mp4', 'wapycogdhl.mp4', 'tudovrmtmj.mp4', 'mvkdlefvtw.mp4', 'ovgqrnnpbl.mp4', 'qdcxmiebmn.mp4', 'ofzscppeyw.mp4', 'cczxmvgfzr.mp4', 'toilsxpnma.mp4', 'redunhhlku.mp4', 'kpobtgvmpy.mp4', 'wfdkhuappf.mp4', 'xyqmqkthij.mp4', 'phovymgglb.mp4', 'fpcczjppoz.mp4', 'ypklhwxhbc.mp4', 'zpwhxtbdfi.mp4', 'pzjdhpvpys.mp4', 'qrbwcoklmh.mp4', 'dbolcqemhu.mp4', 'teogufqfnv.mp4', 'lpylauqvsx.mp4', 'twoeqfkfeb.mp4', 'yvpmfrnifh.mp4', 'ixtcnlykwb.mp4', 'ubliqtsusq.mp4', 'ezjxunqfkn.mp4', 'ayddjwnpmh.mp4', 'buwtezqrum.mp4', 'drotauchvw.mp4', 'jciwjcyipa.mp4', 'xohekdasxo.mp4', 'zirgxpzmjj.mp4', 'phybnchidx.mp4', 'bxwiflrowu.mp4', 'kjddyomarb.mp4', 'zspusqwvhe.mp4', 'xxnffgfhrf.mp4', 'kmqprpvlob.mp4'}, 'Fake': {'ueqemgevkh.mp4', 'fcutdxywbw.mp4', 'wzdfhkdcsn.mp4', 'zwtxbucquf.mp4', 'zerubrkern.mp4', 'zynhldmsao.mp4', 'zljwapokve.mp4', 'zumvchnwtw.mp4', 'dwmmadcvcv.mp4', 'apgnyspnps.mp4', 'zvuasfkpci.mp4', 'uawpvduxkr.mp4', 'lhjedpkurj.mp4', 'sgdavpqoqg.mp4', 'hqgkfmfruw.mp4', 'jplutjjkru.mp4', 'dfrvhvpgda.mp4', 'lwbjqgydzc.mp4', 'yaclitpayf.mp4', 'zvgmnnxktg.mp4', 'pfjeswpnez.mp4', 'zynjpflhsl.mp4', 'qdgisabgve.mp4', 'irgflfnrkf.mp4', 'gexespncwo.mp4', 'qzxlsnlfbm.mp4', 'ldygpayfmp.mp4', 'ggmwrkxbwx.mp4', 'nakpzdjxmn.mp4', 'qazjesxsez.mp4', 'phfmokppkl.mp4', 'kekwrolpae.mp4', 'fcmgqxpbqd.mp4', 'qzvhtdvkuy.mp4', 'wzgmzhyuac.mp4', 'eyrwzznfov.mp4', 'jbutqxloiw.mp4', 'hnnungjzfv.mp4', 'cnmiiuubmx.mp4', 'evsokhsekc.mp4', 'onhfwknfro.mp4', 'tvlouqncfr.mp4', 'fntomcusok.mp4', 'kpbfssfcoy.mp4', 'cgvdjymlig.mp4', 'gkkjefhuzz.mp4', 'zilrmpukur.mp4', 'wjovoaidly.mp4', 'vhcmnakmwa.mp4', 'aleyluvjcv.mp4'}}), ('dfdc_train_part_16', {'Real': {'tmhpspyhbl.mp4', 'gedejjlvpw.mp4', 'apitkovnzh.mp4', 'nvirvscqzx.mp4', 'rmbjonxddg.mp4', 'wpafxjaxnj.mp4', 'gtgqxspgjl.mp4', 'qqheewjvsj.mp4', 'flzfmyemkr.mp4', 'newajfsdrm.mp4', 'ifgwfyulwo.mp4', 'bssakhqkjg.mp4', 'hptqbnarbv.mp4', 'isossxthze.mp4', 'jxgcqvykfy.mp4', 'sffxfxpgki.mp4', 'wuhhueyezm.mp4', 'jnohdhinec.mp4', 'iwsmufejze.mp4', 'vlftkeaizu.mp4', 'chwoehjcpv.mp4', 'gesodyndok.mp4', 'fepjnikgvu.mp4', 'cwthksdnco.mp4', 'vutkeimbhg.mp4', 'cbobaygolx.mp4', 'sjyrpqacrk.mp4', 'kpkbtvsxlz.mp4', 'keosevgnsa.mp4', 'nhuntfthtx.mp4', 'uvsptpxhep.mp4', 'aywpqylxdm.mp4', 'kyugxlcymu.mp4', 'ocsmirgrak.mp4', 'bmrwcqrpyp.mp4', 'qlykqpcyze.mp4', 'lnipywskyn.mp4', 'chpqftmhpr.mp4', 'tponvddrem.mp4', 'upvqtkmdvp.mp4', 'xxsvyvxhxi.mp4', 'zskuvcwcos.mp4', 'rvkabkpqvw.mp4', 'itpezzyjji.mp4', 'fkhbjljluw.mp4', 'kkkouswmgq.mp4', 'qaehvzuaga.mp4', 'zurfgvksrl.mp4', 'oisiyudtkv.mp4', 'llcbayaaol.mp4'}, 'Fake': {'tmhbklwacz.mp4', 'xyavetpesu.mp4', 'kbbhjrtbef.mp4', 'btogwbvgdd.mp4', 'loyjwxwfoa.mp4', 'libqdcavvb.mp4', 'omqsxaxles.mp4', 'tclhmsrccc.mp4', 'tprnabqyrj.mp4', 'aujjenqxyl.mp4', 'afilktvfxg.mp4', 'nbgchneapz.mp4', 'vxqtweehrj.mp4', 'vdyihusaht.mp4', 'xnqmkqdnct.mp4', 'fzhlbtvapt.mp4', 'eecepngvqz.mp4', 'egmjtxwlxq.mp4', 'jckqosfotj.mp4', 'ikbwwbuhtg.mp4', 'hgahuohxbq.mp4', 'xmaecjtlyx.mp4', 'ojfgmpmwqk.mp4', 'fpetccfbzb.mp4', 'edlzuklmzp.mp4', 'iaqqtrfkqn.mp4', 'fkciyccmiy.mp4', 'tnptfmiodz.mp4', 'ttdqsoiefg.mp4', 'qjwonodzpk.mp4', 'ucbwlgzlto.mp4', 'fntwhjewdn.mp4', 'enpbjzqfyf.mp4', 'pdalljyzor.mp4', 'xmlnitpkpj.mp4', 'psmgbygjcc.mp4', 'yravyvyzbg.mp4', 'bvyldcywdh.mp4', 'qnashjggkr.mp4', 'mglevosjfn.mp4', 'rhawulgwmz.mp4', 'pfkhukuyml.mp4', 'wsbyphhumg.mp4', 'vuattmmuuo.mp4', 'ynoiykjrte.mp4', 'wybrmwlccn.mp4', 'eqocvyioam.mp4', 'dyqraywxwq.mp4', 'yzqcwokdhg.mp4', 'shmajobspx.mp4'}}), ('dfdc_train_part_17', {'Real': {'sodngshfey.mp4', 'lvcxviuecm.mp4', 'bdvlqubgig.mp4', 'ipriwqdeci.mp4', 'sqdzgiataz.mp4', 'spgfwdwkov.mp4', 'owgefmanby.mp4', 'xffpqhboqa.mp4', 'thjudqtide.mp4', 'ubnxmiqwim.mp4', 'ayntzgwakd.mp4', 'ndgdtxorcm.mp4', 'rcprnffjgi.mp4', 'hqmdfcphsg.mp4', 'hugcokpuks.mp4', 'fybdhsvwjf.mp4', 'zgzgmesopd.mp4', 'msauawcsbd.mp4', 'biolbvjlzx.mp4', 'bwoekgtvne.mp4', 'qprtbkloye.mp4', 'mndcdkcvnb.mp4', 'pbyjfcljot.mp4', 'afmhdngiib.mp4', 'xdfonwbyih.mp4', 'qtocjfadqh.mp4', 'pvjjqfavjb.mp4', 'yqwtwlkabn.mp4', 'kmonapegyg.mp4', 'jutnkmqtxy.mp4', 'xkwcbtpbvf.mp4', 'eckhsharba.mp4', 'rxtcnqugkc.mp4', 'cbivilebbl.mp4', 'tbuclehoms.mp4', 'rnzzuxmigr.mp4', 'srsvdvzklt.mp4', 'naujebwgmv.mp4', 'pcisxemswa.mp4', 'pcqjtlhnkz.mp4', 'jekqutvzpb.mp4', 'ztwkyjdgum.mp4', 'lrcvyjskwj.mp4', 'cvwqofmaef.mp4', 'sxucvltbzp.mp4', 'eodcnfydil.mp4', 'jjgplzzjbw.mp4', 'xzaivqnapk.mp4', 'ryqjpimpej.mp4', 'yyrltwsdvx.mp4'}, 'Fake': {'fkomzmoqzb.mp4', 'jbuomylolg.mp4', 'kqveudxgvj.mp4', 'axbvacitpc.mp4', 'ihygpajlxm.mp4', 'bhnlaxgvrf.mp4', 'asvmheclag.mp4', 'dcsxzweyxl.mp4', 'aeapxhoeli.mp4', 'fbzaptcqjy.mp4', 'jeajtmnxpj.mp4', 'luqynkuirp.mp4', 'qdbolnetao.mp4', 'poyrorjblc.mp4', 'hfietcbhko.mp4', 'rqzemnvqxx.mp4', 'okuxypqhpm.mp4', 'qgaoranqna.mp4', 'nbedffrual.mp4', 'dubwdwysxp.mp4', 'svaewiqlis.mp4', 'vbxmpyyybf.mp4', 'uypcutfokd.mp4', 'agwgyxvxjp.mp4', 'lmqrpqoruz.mp4', 'mjpnxvljbn.mp4', 'byisrktdny.mp4', 'dwlxlcnhxu.mp4', 'tacmbklrdc.mp4', 'siusadtzqt.mp4', 'cvnkbrpjuo.mp4', 'pxdqykoimv.mp4', 'ldrutobvmg.mp4', 'vzxqvkmynj.mp4', 'xeeetjduql.mp4', 'izvipgybix.mp4', 'idcbaqpqwx.mp4', 'gkluonblmp.mp4', 'lgtvynmift.mp4', 'yfrqpsgblm.mp4', 'bxlubhtvgm.mp4', 'hmtujwwvqq.mp4', 'fahpamrpfy.mp4', 'oayjfjuqog.mp4', 'uyfornonln.mp4', 'qinqgdpcxj.mp4', 'xcfdhsivdp.mp4', 'zyhwrbriuf.mp4', 'jouqqaafig.mp4', 'icsohhlvhk.mp4'}}), ('dfdc_train_part_18', {'Real': {'hbwgebdwgy.mp4', 'zsmcjdxnnz.mp4', 'qnotyzkjom.mp4', 'angykfhbxq.mp4', 'dpbzxxwaxo.mp4', 'oihnqftsls.mp4', 'iawyhyvobd.mp4', 'xffcwmucvx.mp4', 'whtwurxrlg.mp4', 'czjkzmczlh.mp4', 'tkmdmipxvh.mp4', 'lssyheudpo.mp4', 'hdfspxlxfs.mp4', 'vngmafoyik.mp4', 'czfkkmhzoq.mp4', 'mbsnwahcij.mp4', 'zrauvsfduh.mp4', 'lnnonnhrci.mp4', 'xzelyfouvo.mp4', 'kqulsjxhro.mp4', 'uhfzpdidyb.mp4', 'upezcrcdqz.mp4', 'bbkejegwft.mp4', 'muxjpsgxyj.mp4', 'mmunumqhpf.mp4', 'siodzfercg.mp4', 'csmezlywcs.mp4', 'yvdlkcsext.mp4', 'jbaxqvfhwm.mp4', 'oramozyimv.mp4', 'zxuopquqrt.mp4', 'gdkxsuwhtb.mp4', 'gnouwtefpd.mp4', 'ckradivqua.mp4', 'fwzjvfcdji.mp4', 'hrwnzlqruf.mp4', 'bpwynspgkx.mp4', 'xrkijerqdw.mp4', 'ryfqnbcpmt.mp4', 'cefxvhvuut.mp4', 'xatruuhtpv.mp4', 'bmelmdgsjo.mp4', 'duplyxsudb.mp4', 'cecqflguyc.mp4', 'uxtnooctnv.mp4', 'pxuuntphvg.mp4', 'lkmgyyyrpk.mp4', 'fpvyuijbzo.mp4', 'zovvcyafzh.mp4', 'jilquoitml.mp4'}, 'Fake': {'dtbidzludn.mp4', 'fzordfssax.mp4', 'wmahsvadgn.mp4', 'ltikqymaew.mp4', 'cyikdthgod.mp4', 'jorqbynumf.mp4', 'ytvdkuerzp.mp4', 'mwubcjgmzp.mp4', 'whitruyxzu.mp4', 'xmwsugdohi.mp4', 'gfoxjnwdfy.mp4', 'xluerxyxtg.mp4', 'cjimwughot.mp4', 'ygwabhdgli.mp4', 'ddeurbvioq.mp4', 'ghmjkotnvs.mp4', 'cvoewuchtt.mp4', 'ocxievbzjv.mp4', 'shgwshcvde.mp4', 'opkthzgiij.mp4', 'dosmbazarb.mp4', 'eksknyjyne.mp4', 'kkiexeaqwm.mp4', 'bdxfuszcwx.mp4', 'hgmclqrimg.mp4', 'lxlnphfzqx.mp4', 'iftqrenhau.mp4', 'wginzoeejk.mp4', 'oboixalhaz.mp4', 'mvjyivbmwr.mp4', 'oprnpylutz.mp4', 'lemzmbuzbj.mp4', 'qiujpybmhc.mp4', 'nhnjomeasw.mp4', 'ilwhnhiuds.mp4', 'avdqmosfow.mp4', 'dmfaxuiwtx.mp4', 'uxsitfutdu.mp4', 'xlpgwezdvs.mp4', 'jgzvxebper.mp4', 'yxmsiauteq.mp4', 'kcmgynzgiq.mp4', 'jbepwyoziw.mp4', 'sbbtmhcsct.mp4', 'rcmbtzywqo.mp4', 'jzlaeruvok.mp4', 'qetenneagd.mp4', 'guibfddplh.mp4', 'hnhrxxirht.mp4', 'jfckjoceqc.mp4'}}), ('dfdc_train_part_19', {'Real': {'qtddmmjmub.mp4', 'ejzrvimtcm.mp4', 'sjipeifdrn.mp4', 'hizjbjpjls.mp4', 'whuuyvlniq.mp4', 'olrssrqege.mp4', 'bxuwznajtd.mp4', 'agxqtmywcf.mp4', 'lxhphsudqz.mp4', 'ikcxvepgks.mp4', 'ithbdkdyaf.mp4', 'jgtjqmsajp.mp4', 'tgvfypoxcr.mp4', 'ezolzuxyio.mp4', 'dvpmuwkhpl.mp4', 'umzhqfsatf.mp4', 'arntckxfpg.mp4', 'cymfsdestn.mp4', 'mgzefmbccb.mp4', 'umukykyqpv.mp4', 'mqovvypcuy.mp4', 'inelcrkike.mp4', 'nmvritrdvq.mp4', 'vdrotdezmh.mp4', 'dhjzyijhmm.mp4', 'qjwpwgpskr.mp4', 'sfdlhkypix.mp4', 'hjzhzsdxpi.mp4', 'hmpsbxzglp.mp4', 'cpvhgylffq.mp4', 'kdwsdpqhna.mp4', 'pdbnzfzqsw.mp4', 'cgjemtnfvh.mp4', 'vjpcxqehpl.mp4', 'ecgpjltjoi.mp4', 'xiwznuvygu.mp4', 'vrcwlpipir.mp4', 'jstxaddoee.mp4', 'hkcsqzlqfy.mp4', 'kxfldtcbxo.mp4', 'xwrercqtfk.mp4', 'vldstovjwu.mp4', 'oimptuagmz.mp4', 'gsjwkyeglz.mp4', 'hspbdjkzpf.mp4', 'jrbthdeypd.mp4', 'hmfcptrods.mp4', 'ldaaabkxrz.mp4', 'mobpepncvh.mp4', 'kejretnuys.mp4'}, 'Fake': {'mxaganqcxr.mp4', 'jacwfnxssb.mp4', 'euunyizmtc.mp4', 'smofdllgft.mp4', 'ssxaalchup.mp4', 'iynxqdizck.mp4', 'ckxdllxivn.mp4', 'pjozanqjmp.mp4', 'wfnkdeizlp.mp4', 'bldjbwbxcm.mp4', 'amuazeqiyx.mp4', 'osxxjjzegf.mp4', 'yratcfatzm.mp4', 'unssydxkvp.mp4', 'uelyvmonzs.mp4', 'jqtkdncbbj.mp4', 'osccivhmlb.mp4', 'kmodjpjktk.mp4', 'eoajyopeaw.mp4', 'gyqrbcitjb.mp4', 'kpgusxpouq.mp4', 'lyatfctbby.mp4', 'mslupudciv.mp4', 'skuwbihote.mp4', 'jlyzvlehhm.mp4', 'oehcopssyz.mp4', 'keunxijtsh.mp4', 'awpauyheez.mp4', 'mbzfmsbsjz.mp4', 'ghlsgkhffa.mp4', 'dycaoznyxq.mp4', 'kkvdkfhgob.mp4', 'mrseagjhks.mp4', 'gotdchglhk.mp4', 'copcucgbif.mp4', 'drehopjdry.mp4', 'lqggkcoktd.mp4', 'ydqsidqlfs.mp4', 'koablqmidm.mp4', 'qjqvbqypbj.mp4', 'cllsvjohur.mp4', 'ajjhhfkoks.mp4', 'dxvmnsxrrv.mp4', 'pggznwtoyc.mp4', 'vkvwmdnqjz.mp4', 'fmdzjijatj.mp4', 'pscgggihkg.mp4', 'exfgcpqoyy.mp4', 'ucxdugalts.mp4', 'odyctadiyt.mp4'}}), ('dfdc_train_part_2', {'Real': {'kiyvsruaai.mp4', 'ojbnddjuzy.mp4', 'ebqceovwpd.mp4', 'novarhxpbj.mp4', 'ziipxxchai.mp4', 'hszwwswewp.mp4', 'fnkdkfajak.mp4', 'mnzabbkpmt.mp4', 'yiykshcbaz.mp4', 'iksxzpqxzi.mp4', 'dzkyxbbqkr.mp4', 'jfvhokkzmq.mp4', 'evysmtpnrf.mp4', 'auoervelwm.mp4', 'rrsczkvqso.mp4', 'nxnmkytwze.mp4', 'rnxzqumvvl.mp4', 'ypgayhhaxx.mp4', 'wilyayimlj.mp4', 'pxcfrszlgi.mp4', 'mohiqoogpb.mp4', 'mttjelpgma.mp4', 'dcfodaqazt.mp4', 'lxfrifiujz.mp4', 'ajiyrjfyzp.mp4', 'ijptktlyfr.mp4', 'yjkcewkhhn.mp4', 'mueekicuyv.mp4', 'qclpbcbgeq.mp4', 'ylxwcwhjjd.mp4', 'gxqzavbulk.mp4', 'ayipraspbn.mp4', 'zmxeiipnqb.mp4', 'iuatfdhkya.mp4', 'torjqecxjw.mp4', 'xzkikmghps.mp4', 'mdgbfnyoys.mp4', 'rcqcattfsu.mp4', 'qswlzfgcgj.mp4', 'ezbvvongzk.mp4', 'fhjhvdgmcq.mp4', 'uazbhwyysx.mp4', 'pcoxcmtroa.mp4', 'wqysrieiqu.mp4', 'rbhecseopz.mp4', 'sznkemeqro.mp4', 'hkrhoronxv.mp4', 'qxmvgpsbpg.mp4', 'vhsbatxysm.mp4', 'dnmowthjcj.mp4'}, 'Fake': {'vlentymfmv.mp4', 'ztvzwlrqoi.mp4', 'phhbzksbkx.mp4', 'lurgyrniwf.mp4', 'lorysiznty.mp4', 'rpwjfquqal.mp4', 'hxqqnbdlaj.mp4', 'gyxeyzdwqf.mp4', 'aabdnomlru.mp4', 'xlixnbjyhz.mp4', 'rnyljaxyvd.mp4', 'qxyrtwozyw.mp4', 'enclclienu.mp4', 'woahqydkcl.mp4', 'snhqpfqbsf.mp4', 'edmiitrplj.mp4', 'cwetvtzeyf.mp4', 'ccbfcnkwxa.mp4', 'lthliysdpo.mp4', 'xxjnvhixka.mp4', 'wbpvrvhedt.mp4', 'yhoylflxjo.mp4', 'succfegxfv.mp4', 'nrzgbofbkb.mp4', 'sckgpvbzpc.mp4', 'bnnpurjrvu.mp4', 'xfdqklwidy.mp4', 'kulozbyxnt.mp4', 'umloaoulgo.mp4', 'jaxslvzthe.mp4', 'ovjhzdcasd.mp4', 'jtfcivmkts.mp4', 'dbrzclhznh.mp4', 'ahjnxtiamx.mp4', 'mnaqhfnjre.mp4', 'oiqbnoptif.mp4', 'daduxgwpjz.mp4', 'khoipuozlx.mp4', 'wcogqdnaru.mp4', 'otddrufuae.mp4', 'bbhwlztebz.mp4', 'xvxyivgiky.mp4', 'jbxlivgkll.mp4', 'cwhoszpfek.mp4', 'cgnhytdbnt.mp4', 'mshtebowpn.mp4', 'omggotplak.mp4', 'recwvyhtgu.mp4', 'eshbpqddmx.mp4', 'wrmypaurck.mp4'}}), ('dfdc_train_part_20', {'Real': {'hxnkaxuabq.mp4', 'dqwliuxich.mp4', 'gajiicluak.mp4', 'xpqeyyrhmn.mp4', 'jasopzrspq.mp4', 'flxkagsdek.mp4', 'zuxbaqskhv.mp4', 'mskudsvpmn.mp4', 'dtijcohbrd.mp4', 'qzbuujgnwh.mp4', 'fpnhbgiuej.mp4', 'kcpocdehkq.mp4', 'bxmlvyjhkm.mp4', 'eigrxcetcn.mp4', 'uemwnzdgjl.mp4', 'dipytjuprx.mp4', 'tagfxspakz.mp4', 'lzgznxucvh.mp4', 'qrublmrbiv.mp4', 'jutaplgsnv.mp4', 'amkaqehlum.mp4', 'saobhyhkke.mp4', 'gvffzcwdrf.mp4', 'kasgftjjmu.mp4', 'ukheqmmuch.mp4', 'piyxfcytqd.mp4', 'hfiizhatus.mp4', 'gpcwattrnd.mp4', 'sojapnshoi.mp4', 'edteomnawz.mp4', 'shopcethfr.mp4', 'uuvnxfzdtj.mp4', 'dsluqyohov.mp4', 'xfdjdsvdoq.mp4', 'idqxefeyno.mp4', 'merlruunpy.mp4', 'cwkbonbiec.mp4', 'sucgkfwhvt.mp4', 'bemrvkpmbw.mp4', 'bqckuzlrar.mp4', 'lpcqefemsy.mp4', 'xrkkjudaks.mp4', 'mglryfluzt.mp4', 'ggoqgxhzri.mp4', 'hmikxpbuuk.mp4', 'lrurnzbpwh.mp4', 'wvgpbefknk.mp4', 'sxuuldvhix.mp4', 'mkryasxsjv.mp4', 'aucdquhxmk.mp4'}, 'Fake': {'kvcuyudczp.mp4', 'ezeknttgkv.mp4', 'xfrretcsml.mp4', 'fymoarzsvd.mp4', 'hlpnwsuurc.mp4', 'unqwxyedve.mp4', 'twqzjwhsit.mp4', 'dipswgfslu.mp4', 'xebszilvtp.mp4', 'bybjnuvivn.mp4', 'uhskadmuwb.mp4', 'dsckjrlpky.mp4', 'dgscvfecqs.mp4', 'vjmyjwwwbg.mp4', 'jsrzgpqyjy.mp4', 'gopahkgezx.mp4', 'ihaunqoenk.mp4', 'hfyytxckgf.mp4', 'iflpvynkne.mp4', 'duscqyzztx.mp4', 'mbapaffxim.mp4', 'cufoyytpgj.mp4', 'puhskmytrc.mp4', 'ekrovnzbih.mp4', 'anmgkhxucm.mp4', 'kyuzllbpjw.mp4', 'fdszggpuih.mp4', 'pwfkaioedj.mp4', 'emmpcdiywg.mp4', 'vumygyguna.mp4', 'odsydseugj.mp4', 'zzdawtcmlu.mp4', 'aowfzwayqs.mp4', 'ojtsaaxmhz.mp4', 'kckraglzka.mp4', 'hhunmrbhyc.mp4', 'nflpevcalu.mp4', 'noufeolxrs.mp4', 'mydwobkfuy.mp4', 'inglifhicn.mp4', 'amziikrisc.mp4', 'myrcbjsdzd.mp4', 'qtukqczgxy.mp4', 'yozvpkpnge.mp4', 'mramfwksyc.mp4', 'oxmyuhoxif.mp4', 'swuaaposzo.mp4', 'inzystwyud.mp4', 'uifnvzmdtq.mp4', 'dysizbnenh.mp4'}}), ('dfdc_train_part_21', {'Real': {'frmkxglmuc.mp4', 'atubdulawq.mp4', 'mqafyqvlnd.mp4', 'uutjxdvywj.mp4', 'fpqjludbwi.mp4', 'bitgmpsjko.mp4', 'hboblcqivb.mp4', 'wyfnjqlyuk.mp4', 'ejhwqbpqyc.mp4', 'nugjfjross.mp4', 'brgyfpiahs.mp4', 'esarxzzvkx.mp4', 'tijjjsqqwu.mp4', 'ajconjiwey.mp4', 'zpepytgxxs.mp4', 'jsddeswcrn.mp4', 'talbgkczww.mp4', 'zcyszwygds.mp4', 'hgbvxogyuv.mp4', 'wkwipohdkq.mp4', 'nmlgdcchon.mp4', 'ysfgbfonju.mp4', 'yhpdkafiyq.mp4', 'ceaogebsum.mp4', 'xtyalmuivq.mp4', 'yjzgrighqo.mp4', 'vryfsscqhy.mp4', 'rorwltxcsl.mp4', 'hffqkokckx.mp4', 'vtktcmfqas.mp4', 'uncpwycfwx.mp4', 'mqdoqlzebi.mp4', 'foeepalwlt.mp4', 'vgolzmuqve.mp4', 'cbccesmyto.mp4', 'poidzldbuj.mp4', 'ftugybfwuw.mp4', 'mtghshmpkq.mp4', 'rcfnkwtthd.mp4', 'tkhvfnjmqd.mp4', 'edgtolrkuk.mp4', 'giejwugzgw.mp4', 'qerdwvoopp.mp4', 'bmdbtuehxi.mp4', 'gabvrvxcqc.mp4', 'qpxexbtrma.mp4', 'fssfmkvkci.mp4', 'veeqdotkmn.mp4', 'ixmiqvgych.mp4', 'teqslnbzni.mp4'}, 'Fake': {'ziwdakctrp.mp4', 'vszwxixvne.mp4', 'wzqptzrztk.mp4', 'okyygzflvk.mp4', 'pntbngsuke.mp4', 'vmzshewnxq.mp4', 'ccukxgjsfw.mp4', 'psyjocudqa.mp4', 'lnjplngtsn.mp4', 'hdafjidtpa.mp4', 'umnnzsmika.mp4', 'yfqkceqszv.mp4', 'kojiijovie.mp4', 'mvwwrcqibu.mp4', 'adubzfvswf.mp4', 'omrrtonofo.mp4', 'vvqqctjwvx.mp4', 'wrcjrzcjzf.mp4', 'dipsiuexxw.mp4', 'fdgfkiwfqe.mp4', 'xumudadztd.mp4', 'ieopsubbkk.mp4', 'chyxwpspjr.mp4', 'idkipswees.mp4', 'pdmkdopqkg.mp4', 'evfwhdnals.mp4', 'vbmbparfsf.mp4', 'ijldxcqdtx.mp4', 'cmtmamcdte.mp4', 'iekvsfjhya.mp4', 'hgamueohsn.mp4', 'lqrnsotrrs.mp4', 'hjgkhkwead.mp4', 'pmqfrblroc.mp4', 'gtytdibwzo.mp4', 'zgysijwfxl.mp4', 'tssyzhyyjr.mp4', 'xtfbhqexdu.mp4', 'xiklvzllux.mp4', 'oxrigyxbuj.mp4', 'hcqoxjwhws.mp4', 'yapxuyifzu.mp4', 'zgtgjzhdpb.mp4', 'fqodshqpzx.mp4', 'gkykoytfix.mp4', 'ntoytmuoty.mp4', 'gjmpseimsk.mp4', 'rjgrqjurhw.mp4', 'twvzxeywqb.mp4', 'uztopaickb.mp4'}}), ('dfdc_train_part_22', {'Real': {'jswsssnhzq.mp4', 'diurmwqyer.mp4', 'xgdsfwvaky.mp4', 'tvikgdjous.mp4', 'hyoesmcweq.mp4', 'ofxtugevfx.mp4', 'ngylgfllmf.mp4', 'sjembkcnrf.mp4', 'rzimeubkmu.mp4', 'tduodnsonl.mp4', 'nhkenclutb.mp4', 'bduhuslewa.mp4', 'izumbgfuxt.mp4', 'rfcyldbeme.mp4', 'tfincmnmwv.mp4', 'oowhgukclx.mp4', 'pxxovutfdk.mp4', 'ezwhkfivwc.mp4', 'jcwkemycdm.mp4', 'jpxeyxjego.mp4', 'xrbbqdkqfq.mp4', 'bxxtccmbll.mp4', 'zhnnrodwvb.mp4', 'gwrsfgxprq.mp4', 'lllldekfoy.mp4', 'mmzdahmiob.mp4', 'msxtsdxryd.mp4', 'ixfnrwlnmg.mp4', 'ilhfbhuojk.mp4', 'lcuaqzuosr.mp4', 'qjgiutecmv.mp4', 'fqeunoxwux.mp4', 'gefalexxdg.mp4', 'yfnqnwzemm.mp4', 'hpajdruryi.mp4', 'sysdotnfua.mp4', 'gjjvdnsuwx.mp4', 'hyvynxmsfd.mp4', 'hdtszhudws.mp4', 'rhauuajgwq.mp4', 'nuxmykqqkv.mp4', 'wpfmwlccvs.mp4', 'awbalzombg.mp4', 'wdimntshsq.mp4', 'bfrtyndaac.mp4', 'pjuhjveqrh.mp4', 'yzqpmnykha.mp4', 'dcjyqozkhc.mp4', 'drtoduffnw.mp4', 'zpbqwwprks.mp4'}, 'Fake': {'fabbbvrkoi.mp4', 'jlpkekykyz.mp4', 'nwyseixlso.mp4', 'plwdzhnewz.mp4', 'jksqkdgclz.mp4', 'suovfgnpev.mp4', 'myapslokax.mp4', 'ldvepizegx.mp4', 'yuysdfdqdu.mp4', 'rlxvftboxj.mp4', 'ibllwydbxg.mp4', 'czkivkpinf.mp4', 'wuuvcuozwm.mp4', 'ltypcoorqc.mp4', 'hbadgjnkgu.mp4', 'rxmxrjsvgz.mp4', 'qsxrljjftl.mp4', 'artsjrhgij.mp4', 'hoyiqnfwcc.mp4', 'vrxpfsfjsh.mp4', 'tbqpzeejso.mp4', 'rhvtboqqkh.mp4', 'tbexzgfnrl.mp4', 'xfvjcbvapk.mp4', 'jdhcpscpnd.mp4', 'avcihsaenf.mp4', 'tmabrfkbib.mp4', 'mfxuelgnft.mp4', 'knomjvjhei.mp4', 'piiqovlsir.mp4', 'tkefhxnzct.mp4', 'mphvjqmwji.mp4', 'dbmamolath.mp4', 'dcgtandnko.mp4', 'njmistdrwr.mp4', 'ofpvnbprdp.mp4', 'pdotjwgdhi.mp4', 'igvyqqqxfj.mp4', 'fblnmqspuk.mp4', 'lszuuqkmrl.mp4', 'kbnafeecfv.mp4', 'jqqjrvdqoi.mp4', 'usnkjdugyt.mp4', 'fdegsncecf.mp4', 'jtqstsniyh.mp4', 'jhnxzkogcg.mp4', 'dfrqbgrydf.mp4', 'esthcpamfa.mp4', 'ehoeuoufwu.mp4', 'lejujtqqho.mp4'}}), ('dfdc_train_part_23', {'Real': {'mvvhprmrkq.mp4', 'yyudmkuhxo.mp4', 'jbxefcizew.mp4', 'scbetbullx.mp4', 'vugjrmqphs.mp4', 'gykhpbgjvt.mp4', 'peeujyxwyv.mp4', 'xptdonvkbv.mp4', 'psjffjrnvi.mp4', 'kvpnkhlzuk.mp4', 'qtlidomjgs.mp4', 'ypolxhillo.mp4', 'qkgaabnswx.mp4', 'ohmbomcnrs.mp4', 'tnzehiyfaz.mp4', 'gdhplcajxw.mp4', 'gklyuueqqo.mp4', 'wzauqeajlj.mp4', 'ivseovsjux.mp4', 'yfcmcnjvub.mp4', 'jvfmgrpknj.mp4', 'ogjagduqpi.mp4', 'awzngrgwjw.mp4', 'amirbxjvjn.mp4', 'ijdjymfroo.mp4', 'nipyrzpohd.mp4', 'wlzsubdwab.mp4', 'przmougwsm.mp4', 'iodkwujahf.mp4', 'dfxerhzvfm.mp4', 'ivemkyrsnz.mp4', 'bfcyypufaf.mp4', 'nlsqkoisdk.mp4', 'stmlldzdyn.mp4', 'wbufbnhbgo.mp4', 'kxihvcqpkn.mp4', 'okbcxmaqbo.mp4', 'wqsltapewl.mp4', 'plxzimfwjj.mp4', 'lhnbfdrnhh.mp4', 'vnaxakdaoy.mp4', 'jnvxvwnocs.mp4', 'gwiftoatuw.mp4', 'uropdnfcxp.mp4', 'oyqbvqoczz.mp4', 'xjuudjewce.mp4', 'mxgoyqwnwx.mp4', 'rdvjmsalvv.mp4', 'nyurpvblrp.mp4', 'ejkculpisl.mp4'}, 'Fake': {'voixykymat.mp4', 'rfizmzchgw.mp4', 'yprxtgidkk.mp4', 'tuqoofucqf.mp4', 'uklyvfycur.mp4', 'cugvaxsbsv.mp4', 'finnjqnztr.mp4', 'gfntxelhke.mp4', 'blpftgoedo.mp4', 'tquwtfmrkx.mp4', 'mztkzmbgkn.mp4', 'lizxanuhpa.mp4', 'rbrjykbheg.mp4', 'tcaogvsare.mp4', 'ukqbxtqccr.mp4', 'insaitlrup.mp4', 'clxlaisyrq.mp4', 'oaqwxklnve.mp4', 'kcrqcqcbmn.mp4', 'bbclqpeapk.mp4', 'tolylkupay.mp4', 'ptbqojfbbj.mp4', 'wokjswpzat.mp4', 'rrkqgbcwyw.mp4', 'gyamabedgl.mp4', 'bkpbqshzmo.mp4', 'jafxzaqcao.mp4', 'vhmucitody.mp4', 'dkjcqvvtbs.mp4', 'madahwcsrb.mp4', 'rpftppudxo.mp4', 'wgoelyubao.mp4', 'zuwzlexkhz.mp4', 'dqyjucdnhx.mp4', 'dqqyckzdyu.mp4', 'acmooughzq.mp4', 'ixfbuqnneo.mp4', 'aovnhgjhpe.mp4', 'wqefbjeclc.mp4', 'yuplcdqypg.mp4', 'bfevrsgehw.mp4', 'abeknwzbhx.mp4', 'okrtipbqbq.mp4', 'npsqplujhy.mp4', 'wmoogannuv.mp4', 'oomunfasvt.mp4', 'twlqsedqpe.mp4', 'fvpvqvrnln.mp4', 'seihoetmmz.mp4', 'uuiyczhoql.mp4'}}), ('dfdc_train_part_24', {'Real': {'fdkswhrnvc.mp4', 'gkmsvnxwto.mp4', 'nfdimrrjpf.mp4', 'xxrhhkitse.mp4', 'hyhczxthrs.mp4', 'zwtfcrlhtz.mp4', 'vnfrrtluid.mp4', 'dmhfnqvxnn.mp4', 'xpatyuhvaq.mp4', 'psvcdjojbb.mp4', 'hddoaufndn.mp4', 'wotuvshiwk.mp4', 'ltkdrbszjh.mp4', 'dgagwsjkqk.mp4', 'gksvfvolyn.mp4', 'tvtcytxgox.mp4', 'xoxnjeqvbx.mp4', 'afbwxsnsjv.mp4', 'pqrgnusrwc.mp4', 'fxqfqbploo.mp4', 'oqbjlplltl.mp4', 'vwzccaufjx.mp4', 'xlewytmgee.mp4', 'nprpelwrtc.mp4', 'bqcfdbdtvu.mp4', 'ygxtaulugw.mp4', 'mpbddoyjda.mp4', 'exgtoejemq.mp4', 'mtgduejvjd.mp4', 'hfrhckvepy.mp4', 'tdsfndvjsj.mp4', 'xauwencxab.mp4', 'vivuivitho.mp4', 'acottxtsbq.mp4', 'gziafukmkm.mp4', 'tscwdmbhea.mp4', 'vbmnyscpev.mp4', 'hgkplddfqa.mp4', 'fqzygyfzzx.mp4', 'ptlhohlyxq.mp4', 'hvnwmcupjm.mp4', 'tkxzpcbocw.mp4', 'hhbpmbnalf.mp4', 'kosqmmusyd.mp4', 'bamddalkqb.mp4', 'ewpofkrxae.mp4', 'xzdvlrcknf.mp4', 'lowluqbxcz.mp4', 'qbwwpvgyhh.mp4', 'acguxjvmju.mp4'}, 'Fake': {'qwhxkeulrp.mp4', 'nyzltiepvx.mp4', 'tqolighuom.mp4', 'ciapioravh.mp4', 'mezfwvykdu.mp4', 'exhsvztrjf.mp4', 'dfhpeakbjm.mp4', 'xkxhaooxgz.mp4', 'jmqtstyuvv.mp4', 'nkfheprvkq.mp4', 'ylodvyyoen.mp4', 'svljlxnblq.mp4', 'uxmphmduay.mp4', 'lyuchouzxk.mp4', 'nooziurtor.mp4', 'ofoinycpua.mp4', 'ggsaqsblvu.mp4', 'nkdmiohkha.mp4', 'cgszoidfbf.mp4', 'yphkvzusyo.mp4', 'neszpchdrk.mp4', 'ynsgxozvqo.mp4', 'gioezbvhxf.mp4', 'kpanqmbssf.mp4', 'uqqcaaukdg.mp4', 'aobkcgrtpc.mp4', 'guzbduenyt.mp4', 'umqyjcnaue.mp4', 'zgejiitsis.mp4', 'zdwwupptev.mp4', 'lwnxwkykcq.mp4', 'zrouemrwtb.mp4', 'goqhafgwgx.mp4', 'nlbejgudfx.mp4', 'hsezyyxsfb.mp4', 'nzhlwvjxmy.mp4', 'wtfbmeltka.mp4', 'yscagmzvtf.mp4', 'cirfufkjuz.mp4', 'nlmyjrweod.mp4', 'ckbjmzxwtn.mp4', 'qbtqsiupbp.mp4', 'rxyxpgsppp.mp4', 'cckzwbefwm.mp4', 'thukxnhxmw.mp4', 'vjwmefotby.mp4', 'eaboxmgote.mp4', 'uxlknkfash.mp4', 'lcdogjdxow.mp4', 'rnjfkmerlz.mp4'}}), ('dfdc_train_part_25', {'Real': {'aocmypzdsw.mp4', 'pfzfafciut.mp4', 'xilttmnhnt.mp4', 'svgjmmhwil.mp4', 'cbwypxmrib.mp4', 'zxvhssxqza.mp4', 'ftlefdarud.mp4', 'fjmdbzibnq.mp4', 'ahayccwqkh.mp4', 'ewtfuvmpps.mp4', 'qahmjcobin.mp4', 'eyhsrybgro.mp4', 'dbwanmiovy.mp4', 'phmpdrppom.mp4', 'ingbgiktpv.mp4', 'xrhvfgkdwr.mp4', 'antlqjchwn.mp4', 'xkmyyjztoo.mp4', 'elnmbaafbs.mp4', 'wisekeyeqh.mp4', 'njovfvvkeq.mp4', 'oeccccnpxu.mp4', 'oxopeqblnw.mp4', 'gcjhaarqoi.mp4', 'dadmmuxvjh.mp4', 'oqbsgrifhp.mp4', 'deynzimvqz.mp4', 'zwnptggpfh.mp4', 'ntuodovnsy.mp4', 'gsufmjyjfd.mp4', 'pmdazvzawj.mp4', 'trgeveouxp.mp4', 'fdsjhzdhxn.mp4', 'ejnleiwyex.mp4', 'bjgxevnjiu.mp4', 'vywtjgalte.mp4', 'fdiaydvtjh.mp4', 'xwomeqanfv.mp4', 'mrhiqrjqaj.mp4', 'wyevhwjqqt.mp4', 'vasffzldui.mp4', 'rdhomoizjm.mp4', 'pqeggwylbx.mp4', 'blyimyjwcl.mp4', 'sgyzllcext.mp4', 'hvltyzhgkk.mp4', 'uhtmgorbnm.mp4', 'czszluoora.mp4', 'lgbnsghoto.mp4', 'xkxyusmczj.mp4'}, 'Fake': {'ijiagbpwae.mp4', 'kihhgbacjz.mp4', 'hzbaohyuer.mp4', 'sldfoldwfa.mp4', 'takntlvyln.mp4', 'ghiftcsrvp.mp4', 'rrashpauln.mp4', 'vmgfgqaune.mp4', 'eiigievbjx.mp4', 'irnctqemlo.mp4', 'qyooflswtq.mp4', 'mqvuvxaamd.mp4', 'cowxzrtdcx.mp4', 'tikhuugzbo.mp4', 'cciyrmayki.mp4', 'ohfozqywzi.mp4', 'nkfkvpcydd.mp4', 'qwpxprweaw.mp4', 'sljsmusjva.mp4', 'axfgowzinn.mp4', 'eqkqpgsquv.mp4', 'parjwcvtpk.mp4', 'gzcqqabobe.mp4', 'ipkuhxqmyx.mp4', 'zxgfmhnmap.mp4', 'fddrxswphy.mp4', 'mlogkwvpsi.mp4', 'gikvlbvbxp.mp4', 'ktjexqcmec.mp4', 'cuajkvkgch.mp4', 'tpfzfrvhey.mp4', 'gnldziwmer.mp4', 'buzlryubkx.mp4', 'hgcwjxxcle.mp4', 'sntmobhnfe.mp4', 'wvartnpkqz.mp4', 'xpuleairnz.mp4', 'mqacqmfmda.mp4', 'jrffyhvmuu.mp4', 'dwhuzwkgzp.mp4', 'wdkueylvan.mp4', 'qrwpqiwjhb.mp4', 'emnjzyegcc.mp4', 'hvhcavmfnp.mp4', 'ufhjyqzqky.mp4', 'yyiagamlyb.mp4', 'sniatmheyt.mp4', 'iamteyjapm.mp4', 'dskacvwxsw.mp4', 'tbtxfqzxos.mp4'}}), ('dfdc_train_part_26', {'Real': {'dmfqkkdznx.mp4', 'sffqiyjjsl.mp4', 'vqtyawibvn.mp4', 'sztbtmhuwg.mp4', 'nplsybhpqe.mp4', 'zbvgfbzzjq.mp4', 'ikhgkfjbcy.mp4', 'xpwemugiot.mp4', 'mmsqwjycri.mp4', 'pjundktgzu.mp4', 'uilxcencvx.mp4', 'hxxjbpqqxm.mp4', 'tggvkvjppv.mp4', 'kgrnzjimiw.mp4', 'mduviougta.mp4', 'fyjqkzoqqc.mp4', 'ehrihcwppi.mp4', 'wzcxdzftki.mp4', 'ljwqvxfila.mp4', 'hfdbgfzuiu.mp4', 'vbuonvhhdj.mp4', 'yaqvahwsni.mp4', 'xdfancaenq.mp4', 'mbclkjakwb.mp4', 'eldrdewglb.mp4', 'oragbrohsj.mp4', 'dbmyeixpdn.mp4', 'guhysklzbd.mp4', 'bhlyasmjqj.mp4', 'appxeagkwm.mp4', 'gvqayoquux.mp4', 'oowcrcxdmj.mp4', 'olkyijzubh.mp4', 'nmhcnvinzr.mp4', 'lldvmpawap.mp4', 'impxxyurql.mp4', 'umytvrrjrk.mp4', 'qguuizkcji.mp4', 'jfkstihilh.mp4', 'bwryylpbof.mp4', 'ptexzwohvg.mp4', 'povqiodava.mp4', 'tmpvgviduc.mp4', 'fwtuvpkplj.mp4', 'avcoxxzayv.mp4', 'gppinocwlh.mp4', 'stfsomwoie.mp4', 'rkwgxkbwgh.mp4', 'egoxlpllxp.mp4', 'usmmpqmokb.mp4'}, 'Fake': {'kxhylyinoq.mp4', 'fxavmshodu.mp4', 'tgtfoodpww.mp4', 'ewqpsoyfes.mp4', 'fbfnpeldsc.mp4', 'ryetnpjbdk.mp4', 'juztyfwzts.mp4', 'rvkmeqmifs.mp4', 'fdsvmrrfjd.mp4', 'lprfbxqans.mp4', 'bzdljqrsrr.mp4', 'scewobxjsd.mp4', 'ldypmfhsyr.mp4', 'uulrdidwbe.mp4', 'qukcaouasb.mp4', 'akbfafjjyu.mp4', 'yehzxcoayi.mp4', 'uzqmyjlyln.mp4', 'rqfexaedot.mp4', 'fgtlivalil.mp4', 'sjyolsjmpq.mp4', 'lremwjkfcc.mp4', 'xxtycujixt.mp4', 'udklffwmgy.mp4', 'hqnsjkkpjc.mp4', 'imycfiyabj.mp4', 'hhegrmxsbp.mp4', 'ebpeiurmir.mp4', 'svqjreghph.mp4', 'wqrqyduawk.mp4', 'rpjyerifvt.mp4', 'nfvqnqwzdx.mp4', 'ffojvbklfn.mp4', 'dwiuqkkzlo.mp4', 'tljqhsohsi.mp4', 'xdyuzzhupx.mp4', 'jjudidnuwp.mp4', 'drjqnsqfsk.mp4', 'cwqadggicq.mp4', 'gvkkeczzhe.mp4', 'cwouamlqii.mp4', 'viakcwofos.mp4', 'iqlydlfxsn.mp4', 'ljkbmkjsrw.mp4', 'iatemnmwgz.mp4', 'xokismykfz.mp4', 'zoslheybzn.mp4', 'yjgozkhvpg.mp4', 'ceplrpumog.mp4', 'gemozjtrip.mp4'}}), ('dfdc_train_part_27', {'Real': {'tspntsgzsw.mp4', 'gjadwclfiq.mp4', 'eehrknynfg.mp4', 'ghujdkstry.mp4', 'sxoclfdfvk.mp4', 'umaapupckb.mp4', 'jmraknlykt.mp4', 'hdagvnsdsp.mp4', 'dywsgmqpbp.mp4', 'xeygjgpaaa.mp4', 'xgvbuhafks.mp4', 'jntlukilia.mp4', 'wxzfhgzeqn.mp4', 'sycmyirtut.mp4', 'rrpstiorkb.mp4', 'zlvaklmmrp.mp4', 'qjblgbrgkr.mp4', 'lxtrxxlzsa.mp4', 'efewacqeov.mp4', 'lkbajmzbsk.mp4', 'pjpqvjllvp.mp4', 'iqokmoltrr.mp4', 'vwpuszlhrb.mp4', 'lnqjafzxom.mp4', 'zvqtbnxogu.mp4', 'hmfrtgexuj.mp4', 'bjqhmybwko.mp4', 'uyhruevqqg.mp4', 'oucdhchdkb.mp4', 'amqvxdixtf.mp4', 'cbobasgydd.mp4', 'wibskravnb.mp4', 'bskboeadhh.mp4', 'pdurppbdiw.mp4', 'wvbpxcxqjd.mp4', 'suegfrmmtl.mp4', 'ljeezbryke.mp4', 'emqiwrsihy.mp4', 'ytqnoxsags.mp4', 'cxazqtfzta.mp4', 'zcoshotvyf.mp4', 'lwaugxhcbz.mp4', 'xraljbenwk.mp4', 'cszljdkkka.mp4', 'gnykansqlk.mp4', 'zxvmtvsnen.mp4', 'gkjgjqyyff.mp4', 'eeoibqzlsn.mp4', 'gmevafymsj.mp4', 'oxcpnfyyhp.mp4'}, 'Fake': {'uwlmntfcms.mp4', 'girddcvdqx.mp4', 'exhfrwrwiq.mp4', 'dxurmhqxwy.mp4', 'kbyvdqbvkk.mp4', 'rquxcwczac.mp4', 'fauriemkfh.mp4', 'amslrtushh.mp4', 'zxkcortzrp.mp4', 'ixpyfvubru.mp4', 'ckracakohx.mp4', 'jpgfkwofyy.mp4', 'wijxpzqwny.mp4', 'wvngbenors.mp4', 'gbbohjwpnf.mp4', 'gdksctrmpk.mp4', 'gyrfwembgm.mp4', 'wcbywrkxde.mp4', 'gicxfrpaqr.mp4', 'lpklkwjayb.mp4', 'mjpdokcdbf.mp4', 'ttcjqldbzq.mp4', 'hfftaiguiv.mp4', 'wtduhkvivp.mp4', 'svasalmzid.mp4', 'opjvngvwnj.mp4', 'hofykjflsd.mp4', 'jzmdcrxxdz.mp4', 'uwabthymod.mp4', 'iasuzxlpka.mp4', 'cossnrydpl.mp4', 'rjeffhfpdr.mp4', 'gmanmdsqyz.mp4', 'zjhjdatzda.mp4', 'abysizqmso.mp4', 'hhqdbswteb.mp4', 'hiywlfevvc.mp4', 'nffrthwoou.mp4', 'znyfmjmrrn.mp4', 'zgujlfsqtf.mp4', 'kaybcrsyni.mp4', 'qbzjjvbybm.mp4', 'gyihcfbtqv.mp4', 'awfttazckk.mp4', 'fdrkrjsmog.mp4', 'isqgyyphys.mp4', 'mzvbjnrgbe.mp4', 'ftqcbdfevj.mp4', 'sxstufcwgk.mp4', 'zxctwuvupm.mp4'}}), ('dfdc_train_part_28', {'Real': {'atvmxvwyns.mp4', 'xzvrgckqkz.mp4', 'fpvduejzcw.mp4', 'pzrwraqsyv.mp4', 'beboztfcme.mp4', 'qeumxirsme.mp4', 'gxhcuxulhi.mp4', 'bwhlgysghg.mp4', 'gneufaypol.mp4', 'swedbyuehz.mp4', 'gjypopglvi.mp4', 'znjupdqnwo.mp4', 'jfiaviauck.mp4', 'gxembgiarp.mp4', 'caifxvsozs.mp4', 'lyvlnqduqg.mp4', 'fysyrqfguw.mp4', 'fgfyrfyqay.mp4', 'itmwoyxbas.mp4', 'zhfyuhonra.mp4', 'upgerjvcjb.mp4', 'uxbeupxqqr.mp4', 'ujzwwfkeia.mp4', 'tivkmbqgwp.mp4', 'lkdlzpkukw.mp4', 'yxyhvdlrgk.mp4', 'puppdcffcj.mp4', 'ellavthztb.mp4', 'sctcdtdzgv.mp4', 'youicxhpxh.mp4', 'qtnjyomzwo.mp4', 'tfoxelmnjx.mp4', 'xxidluxdnc.mp4', 'gmihbscmwq.mp4', 'fntskqfxxf.mp4', 'gipbyjfxfp.mp4', 'ywvlvpvroj.mp4', 'ybjrqnqnno.mp4', 'yfsnwkbafm.mp4', 'vcxckqbaya.mp4', 'imzqmbfugn.mp4', 'meawmsgiti.mp4', 'kwyvikrgmx.mp4', 'aybgughjxh.mp4', 'xngpzquyhs.mp4', 'mfnowqfdwl.mp4', 'gbqrgajyca.mp4', 'ciyoudyhly.mp4', 'ubplsigbvj.mp4', 'kkzsnmrkqk.mp4'}, 'Fake': {'zslhwdjflg.mp4', 'iuzmgtwygk.mp4', 'euobuvvxhc.mp4', 'kzdsprxnbh.mp4', 'xgvpdukndc.mp4', 'zjtcbcbzgu.mp4', 'txkvjjizry.mp4', 'cfyduhpbps.mp4', 'nvdtfikdvz.mp4', 'ixmwbpwyxh.mp4', 'micmnryskh.mp4', 'ruzrbyvzte.mp4', 'obovuicyzf.mp4', 'iougvrixla.mp4', 'tlgfjqbqeq.mp4', 'mxiuxwrjdy.mp4', 'nsfbecdmhw.mp4', 'gzidgkmhzx.mp4', 'diqraixiov.mp4', 'renpslndlv.mp4', 'ufxfhowwwm.mp4', 'abofeumbvv.mp4', 'smsaywqpxm.mp4', 'zvopqrwxvz.mp4', 'kxvyibwboe.mp4', 'rbgsqnrlul.mp4', 'gvpbfubycd.mp4', 'uotfigpizd.mp4', 'jlbpjgbioa.mp4', 'hmhdycyuen.mp4', 'mrmdipovpb.mp4', 'uwazrtsbpk.mp4', 'eoewqcpbgt.mp4', 'gzdslayhbo.mp4', 'esyhwdfnxs.mp4', 'kfhnmyyobm.mp4', 'qjvhrpljlb.mp4', 'deyyistcrd.mp4', 'wiesvdoded.mp4', 'cqfugiqupm.mp4', 'sxxvubkavd.mp4', 'kpwqqppymg.mp4', 'tsdbgfwhah.mp4', 'hbvrjxapdv.mp4', 'yjpdjftjne.mp4', 'xhnqyqqyut.mp4', 'jotfdmronq.mp4', 'pomhnqtnzd.mp4', 'uifbnrbgpx.mp4', 'gkoepduvxg.mp4'}}), ('dfdc_train_part_29', {'Real': {'pvbqiphibf.mp4', 'cqxwlkmiel.mp4', 'rfsxjcepjw.mp4', 'nwdxowdahh.mp4', 'lshiryiwjs.mp4', 'plkgpciabc.mp4', 'unalzvcclv.mp4', 'pmwdgdtnib.mp4', 'aovbctixqc.mp4', 'kavsiqzuqz.mp4', 'ksndksdtpn.mp4', 'xcdjrcbhob.mp4', 'wcgwcemzfg.mp4', 'hsnzvojifx.mp4', 'decpocsuhd.mp4', 'puwgjnaimb.mp4', 'gjrozufnaj.mp4', 'kgczfxvqzq.mp4', 'qtrzmhqbml.mp4', 'xwtizvngtf.mp4', 'yzhrdoqqxk.mp4', 'zstlnbsyid.mp4', 'gelawavgpw.mp4', 'irukgvcdsl.mp4', 'bqsrmckjrm.mp4', 'tynmvmtvbv.mp4', 'oynyglnxzk.mp4', 'kqxykozvlg.mp4', 'afjmjzmdkp.mp4', 'acuqtxhvhc.mp4', 'fnassvbmfl.mp4', 'zdckayghhi.mp4', 'bwbptvsuyr.mp4', 'llfxvxzllg.mp4', 'fjuqmwrdmi.mp4', 'eirfrbcken.mp4', 'egzxuzyqnc.mp4', 'duckaycmww.mp4', 'qklhvwavad.mp4', 'jlqtxuyefy.mp4', 'vkumnrgeky.mp4', 'xaxzeplffo.mp4', 'huecalgvcz.mp4', 'lbppsmfyvw.mp4', 'nycjijfkvc.mp4', 'vohsqhwudv.mp4', 'dzoespidyr.mp4', 'kjdoizhtxn.mp4', 'fvhelqvjmw.mp4', 'bemtodhzoz.mp4'}, 'Fake': {'ofhohsywlu.mp4', 'bnwfyxjhth.mp4', 'aylzurqmmr.mp4', 'aqkbphifub.mp4', 'gwljmnlisu.mp4', 'nsrkxszxew.mp4', 'tetcqjmeti.mp4', 'gpnsczhiso.mp4', 'svzisjojjj.mp4', 'duyssckgzs.mp4', 'qiocyhiqde.mp4', 'hyzjslobpp.mp4', 'wsrahogrkd.mp4', 'ynwwziznik.mp4', 'iytnvfizkp.mp4', 'mhrguzfats.mp4', 'ahfpbtfydo.mp4', 'atloxhcthr.mp4', 'yfapbxhnpd.mp4', 'ypnersinol.mp4', 'qcfaclnzfu.mp4', 'busutccrmc.mp4', 'hnaivhcfep.mp4', 'dullbimwjp.mp4', 'vrreokjsvi.mp4', 'xinfjvbhad.mp4', 'fncenesahd.mp4', 'gvanlxrmxf.mp4', 'pqyfnbxiiv.mp4', 'orpsyofhiz.mp4', 'ripekykbia.mp4', 'qhpaohnalk.mp4', 'jdpoqewunc.mp4', 'emmhvthugd.mp4', 'kondrgiemw.mp4', 'jvgiztupzp.mp4', 'mqdqonxtin.mp4', 'kwbzpvdtfe.mp4', 'nrlkdzjdbh.mp4', 'fpqqgjapqc.mp4', 'tbellhyoxs.mp4', 'ttcfoartvz.mp4', 'uegmuuwlzn.mp4', 'mybekwsvlj.mp4', 'hnabdirocn.mp4', 'pflxnexhbv.mp4', 'ymwiptcyud.mp4', 'leuxqndrwq.mp4', 'aurzklcfsd.mp4', 'beqqpddhfq.mp4'}}), ('dfdc_train_part_3', {'Real': {'eifretwgfd.mp4', 'twgobosowv.mp4', 'kytwyrusew.mp4', 'pdgzsvxvht.mp4', 'sjkigpouuh.mp4', 'xrxzalqmrz.mp4', 'ydqovcxvum.mp4', 'gbwbyxszjl.mp4', 'slxtreuuzd.mp4', 'pnzjahgfcj.mp4', 'nnqfwqrcov.mp4', 'pzkvwtadta.mp4', 'ghfnznqrvh.mp4', 'spzmqugvtn.mp4', 'eyscmmobpw.mp4', 'zjxeptlacm.mp4', 'zqdjdmiihu.mp4', 'nmdzujhjid.mp4', 'wiqdiiskbi.mp4', 'tsvhwitvah.mp4', 'gfcspejcib.mp4', 'chfkrpvgnz.mp4', 'ihgazewlbd.mp4', 'xppjhsqnnm.mp4', 'pkumyfdkga.mp4', 'kvqhkpkbwd.mp4', 'rkpkrpuwal.mp4', 'eclxonfxph.mp4', 'goegdmmyxk.mp4', 'nwhleyjguj.mp4', 'jegaokdbdb.mp4', 'zakfeyskak.mp4', 'crxnkfunvm.mp4', 'skblurqkbj.mp4', 'wzdnvgackt.mp4', 'xzvnnhzbqd.mp4', 'rozrjmrmeo.mp4', 'mrgmchwvfk.mp4', 'secfenlviu.mp4', 'aycjerwghk.mp4', 'ewoczpvuuc.mp4', 'cxwcpgspni.mp4', 'qabreprhxg.mp4', 'xpxqxdbjud.mp4', 'xgpicdcbrc.mp4', 'wqbzbxjndx.mp4', 'uyddeofvvz.mp4', 'pczqsicacb.mp4', 'tchdlkhcym.mp4', 'bvsnqubtjc.mp4'}, 'Fake': {'qihliclcso.mp4', 'ofeedkhgvm.mp4', 'oqkmvmkylo.mp4', 'bnwgnvnreu.mp4', 'anjgxkikea.mp4', 'rqzuikccfv.mp4', 'kwtkwmnapm.mp4', 'yjnpygwhsh.mp4', 'yoijornhmt.mp4', 'ulfziupnkp.mp4', 'lcmjyjdbqn.mp4', 'flxsxcgfkz.mp4', 'ebvvelqptf.mp4', 'cscqiumunp.mp4', 'fyswelbcdk.mp4', 'batfgxokwg.mp4', 'stpfxqeuiw.mp4', 'qtxorhdfos.mp4', 'yxqucilnlu.mp4', 'emognsfjum.mp4', 'qqbdbidpca.mp4', 'wgkeydcvej.mp4', 'fqruijjpfk.mp4', 'mozsyttixt.mp4', 'zekrcockwd.mp4', 'xptlhelsxw.mp4', 'hoeweunzhs.mp4', 'cxdibrhrwz.mp4', 'dgggkeswzb.mp4', 'vtrlyhhghn.mp4', 'wwvzjspizs.mp4', 'syjkxjekyf.mp4', 'urajpnzzvs.mp4', 'rqmwermthr.mp4', 'eqwkbdxtyk.mp4', 'vpknpyreao.mp4', 'icbqfvgfsm.mp4', 'trrodhsxof.mp4', 'iuqjoilxex.mp4', 'zuraepqglv.mp4', 'nulqhgmnir.mp4', 'qtkavxgnsw.mp4', 'ryocokscze.mp4', 'nkhvyiyfsk.mp4', 'jzkwdaddjj.mp4', 'caljwhewpb.mp4', 'wvtzzlcujg.mp4', 'joivxhqnxo.mp4', 'qtpjpxvhfg.mp4', 'vjqavaocrp.mp4'}}), ('dfdc_train_part_30', {'Real': {'cgbjqkpxvc.mp4', 'cjiefktauf.mp4', 'xoupnramxr.mp4', 'tcywfzbuke.mp4', 'upmsoebmpc.mp4', 'wkmdilzatq.mp4', 'meefpsrdxk.mp4', 'hesqgxgjch.mp4', 'vxvghzwwzk.mp4', 'nwqbjauaim.mp4', 'gihcxpfpxm.mp4', 'gknrewulox.mp4', 'icgxytmtaj.mp4', 'jxhfgcyked.mp4', 'hquxvwnigf.mp4', 'ouzkwlefbz.mp4', 'dpuirizhbk.mp4', 'kxipsndrne.mp4', 'fvqlbpgahd.mp4', 'irdpurucmt.mp4', 'eltotlxqoq.mp4', 'vjlzzqnjbb.mp4', 'rnwrvccbns.mp4', 'dxliakhips.mp4', 'lmslshymly.mp4', 'wdfeezhsnk.mp4', 'dfbgkamcnd.mp4', 'uzbjgegtje.mp4', 'zjwdrgxnzc.mp4', 'qkbsxifwre.mp4', 'khiigqoloz.mp4', 'mbljcbjpsf.mp4', 'pduhrlplwh.mp4', 'xlinawzewi.mp4', 'vzwpzlmtlm.mp4', 'vsvwrocgzc.mp4', 'wmojulzeul.mp4', 'cyzgavhyiv.mp4', 'ffwmtxznqn.mp4', 'oainrgzugl.mp4', 'fyzngynciq.mp4', 'rioyuibhhq.mp4', 'bisyqoikns.mp4', 'rymgqrxukx.mp4', 'bukofdgxss.mp4', 'icrsnwcjec.mp4', 'rcwqpluyia.mp4', 'kavhaaoziw.mp4', 'vieyvdrgix.mp4', 'pglazlvhuh.mp4'}, 'Fake': {'xmsxjmqojy.mp4', 'uuhjprorxb.mp4', 'slyephfbjy.mp4', 'sganfbijvm.mp4', 'ymyyxdqfwe.mp4', 'wqluwmwabk.mp4', 'bbkatcxqpi.mp4', 'wkfrqesjwp.mp4', 'dqeklvvgyj.mp4', 'rhnqxqvmzs.mp4', 'yprmkhffdi.mp4', 'klmbynpagk.mp4', 'vzakeziwka.mp4', 'wyujjgnzob.mp4', 'nixmbgkwlo.mp4', 'fbjnzbfwht.mp4', 'dxsjmrnlgt.mp4', 'qpfbybxerb.mp4', 'ttazkeufcv.mp4', 'dolxsahxwn.mp4', 'tzbvbyswxf.mp4', 'eflkohgemk.mp4', 'xwseajedfy.mp4', 'drdfoowoub.mp4', 'ranoqmqjyh.mp4', 'xrvemlykui.mp4', 'noitrwvpuf.mp4', 'tzqukzzdtl.mp4', 'piynpykxjn.mp4', 'uqdikoshmi.mp4', 'eredrhvjxe.mp4', 'egfnxjndxw.mp4', 'bvqachgtwq.mp4', 'tgalwbrxqb.mp4', 'infuizswzf.mp4', 'gqvssnodlz.mp4', 'wbakohwvam.mp4', 'vwsxbgnlwz.mp4', 'rwahqscbrs.mp4', 'aczrqatleo.mp4', 'wcryqnreov.mp4', 'rsgknvsisd.mp4', 'kmuzkpmeka.mp4', 'mrdwsmjyex.mp4', 'xlhrsefbpk.mp4', 'ggartvwnks.mp4', 'sebqdraffe.mp4', 'gfeysgojjj.mp4', 'smufipqjyy.mp4', 'tptgkfibny.mp4'}}), ('dfdc_train_part_31', {'Real': {'kuzkknhjjw.mp4', 'gxiynseggz.mp4', 'lmfsdfjcrx.mp4', 'pzxmziiyrk.mp4', 'frtcdhlsmj.mp4', 'hkosvtczoy.mp4', 'kanuqtrfoj.mp4', 'oryadcrsam.mp4', 'cifshfsxfi.mp4', 'ltpywknqaz.mp4', 'wqjwaosbxl.mp4', 'rskmlwpvfh.mp4', 'rwitpjbfko.mp4', 'lpxvbwaiwu.mp4', 'pgtzthiias.mp4', 'zoybyqsbad.mp4', 'vqnalrcskp.mp4', 'fkhiyzyndh.mp4', 'oxtdkvspjl.mp4', 'uueedptzma.mp4', 'rflvhdenli.mp4', 'dlyuvbycaf.mp4', 'zhvpotrxsq.mp4', 'rppvnvhlwc.mp4', 'ycsosobhoc.mp4', 'cqiktzymdu.mp4', 'iodykticnh.mp4', 'msdnruegfh.mp4', 'umayucewoi.mp4', 'jgrtpfnlks.mp4', 'ibxmrjdmpm.mp4', 'fbkpnjqfik.mp4', 'bpzxipkgvk.mp4', 'upbercvjsr.mp4', 'anzzyvnoqk.mp4', 'bpwjoacfxu.mp4', 'hkvsvxxade.mp4', 'lrknwcngdu.mp4', 'sfjxhbdesg.mp4', 'oawxtqolob.mp4', 'zeeoowztak.mp4', 'tivrxoldxt.mp4', 'rdkshykjpd.mp4', 'rtsuwgyvbo.mp4', 'fmprksrncj.mp4', 'mewobrfvrv.mp4', 'pypoimfydm.mp4', 'ucjqufyrhm.mp4', 'mtdawjxbgw.mp4', 'ucuoymuoyj.mp4'}, 'Fake': {'nbouxnabgq.mp4', 'zfwqmeqgky.mp4', 'ggfxkaqbvz.mp4', 'rikqcxzvhy.mp4', 'ifwldihtfm.mp4', 'snqppedaah.mp4', 'plnencmzwl.mp4', 'lgydpnaufg.mp4', 'ksppwzyefv.mp4', 'fntaqkkvtu.mp4', 'edkfnoqfsk.mp4', 'qoluylsxho.mp4', 'nrgdvuqltf.mp4', 'xxuywxxgdt.mp4', 'ocysplvoms.mp4', 'oowrksqjoy.mp4', 'jpljwdfhof.mp4', 'gcgtklypxv.mp4', 'jxjutaswiq.mp4', 'ksekxsnvou.mp4', 'gzaenvicht.mp4', 'bzxltcvyfu.mp4', 'tubsamespx.mp4', 'jusibutifg.mp4', 'iwepytttef.mp4', 'tmbcltbgmg.mp4', 'csyltbzcrg.mp4', 'bmuuutcuba.mp4', 'wrlvhykivf.mp4', 'sgadezemmc.mp4', 'iophwenimv.mp4', 'ojyrxbxgky.mp4', 'vwpwtblyah.mp4', 'xeffcvhich.mp4', 'gjllmtwpfe.mp4', 'aiyvsxcnlz.mp4', 'uwiwgklufd.mp4', 'zlvzvervvw.mp4', 'dwmqumqnjz.mp4', 'womqmrqprk.mp4', 'zajtjvrwqt.mp4', 'iptyeiuiwr.mp4', 'cbqgyvlyyh.mp4', 'vexkkinfoj.mp4', 'ppqtrzmrtg.mp4', 'xkiaznwsoo.mp4', 'lhmyakkzwr.mp4', 'vvlnyeqnha.mp4', 'rljtsqgrrv.mp4', 'cmndgoaepe.mp4'}}), ('dfdc_train_part_32', {'Real': {'cjiwsviedd.mp4', 'rjimoemmim.mp4', 'xdznjyebff.mp4', 'kynuygfmlh.mp4', 'ewepgwxnbc.mp4', 'uusnayebqq.mp4', 'sfzddvkenj.mp4', 'vfyqjtfudm.mp4', 'rfdfxeuebl.mp4', 'ytvnstdzze.mp4', 'berhtdrcya.mp4', 'oaynnmbsjo.mp4', 'vgivgyrijm.mp4', 'zpkwbipvem.mp4', 'vbcwkzcbcl.mp4', 'gdlmljpqio.mp4', 'phcsghljje.mp4', 'rvjjdvnjlw.mp4', 'jowcsetjnr.mp4', 'tffwojlksq.mp4', 'amzisjppsy.mp4', 'juvfdsrodw.mp4', 'hrgdcdpgow.mp4', 'bdnfczrxey.mp4', 'bihhlazttc.mp4', 'geozatjpcp.mp4', 'abpwapkxel.mp4', 'cxqnhvqxbg.mp4', 'lkvshairpp.mp4', 'urydyzuuiz.mp4', 'lokhfpyrvx.mp4', 'oibuofqnqx.mp4', 'kdwylpqkqb.mp4', 'zefsbbegjb.mp4', 'spdkvaocut.mp4', 'mzcwlmotfs.mp4', 'iueptmqaoi.mp4', 'ltzaxbchij.mp4', 'ftjlacrvwu.mp4', 'wlmvldkkym.mp4', 'laqlygroed.mp4', 'aiknwokflv.mp4', 'jrstleapwn.mp4', 'gnvvpnwfck.mp4', 'eqoccqvvtu.mp4', 'dtctoaxksk.mp4', 'dwbyetbebi.mp4', 'riskgfvhwi.mp4', 'vkztrlmcqy.mp4', 'ismoihrwjs.mp4'}, 'Fake': {'vnjxookilu.mp4', 'pouwoqmsxi.mp4', 'yihngrkmzb.mp4', 'eoiphherjq.mp4', 'xbwqdrmwln.mp4', 'hmjzcsmtvn.mp4', 'hramvxdwvj.mp4', 'lcmjchynim.mp4', 'jhxqukpbcs.mp4', 'pjjpymrtnt.mp4', 'ihdpulmsbe.mp4', 'gunqoeunxj.mp4', 'qxnfmledve.mp4', 'ztkvgnguzj.mp4', 'ddzblueuzp.mp4', 'wftahgwygi.mp4', 'upqbalnwcw.mp4', 'obwormrfus.mp4', 'fgmxzkzxhr.mp4', 'tedqbmfczn.mp4', 'fixeuqycrq.mp4', 'yamkdzjxfp.mp4', 'xnjpkvycba.mp4', 'wcctpsulrb.mp4', 'bwfuaxqmkt.mp4', 'nwvfmsjiap.mp4', 'euqgbqurns.mp4', 'ffwpiwqnmf.mp4', 'hmulruizbo.mp4', 'jfbwytvbwa.mp4', 'nbyeqsjbxp.mp4', 'uafrormjab.mp4', 'rfbdzbhfbk.mp4', 'ldojdgswqa.mp4', 'sztutlgfem.mp4', 'lkmzehsbos.mp4', 'bjwlufdvbc.mp4', 'kbxxmzmyio.mp4', 'bmbhcmbfor.mp4', 'aabmgfhcgg.mp4', 'lutqfzfrlj.mp4', 'axcwjuvwyu.mp4', 'ekndpgswqg.mp4', 'rhkkiauywh.mp4', 'csxdicxppc.mp4', 'jpuqnwtjvn.mp4', 'rrssrmsimg.mp4', 'vbotmfoynq.mp4', 'gnmkwiahyd.mp4', 'mzsgoseeti.mp4'}}), ('dfdc_train_part_33', {'Real': {'oeoklzfojq.mp4', 'vexxenktvx.mp4', 'ffvcpukfvb.mp4', 'bqzvpucnoz.mp4', 'mkpmimttil.mp4', 'pwqigiztxg.mp4', 'hqeaptsnho.mp4', 'npbymrlgis.mp4', 'vlyapolayz.mp4', 'concvocmmz.mp4', 'vypavhuqeh.mp4', 'vyuvcsjiwn.mp4', 'pnuvljnprr.mp4', 'ayserurddl.mp4', 'syqgirfopa.mp4', 'wxjjpajdod.mp4', 'hbyaseauom.mp4', 'ttujtsurby.mp4', 'fbqzjrziud.mp4', 'fpodzuuebt.mp4', 'uqpwibielr.mp4', 'xdmvimchwx.mp4', 'oslxrqchqp.mp4', 'kvrncaemvv.mp4', 'kfxhvujcjz.mp4', 'xnvblwqjqb.mp4', 'pspojyizal.mp4', 'nnnluqzfhr.mp4', 'axrvohycln.mp4', 'uhtrpqhgwy.mp4', 'dyzlcakqty.mp4', 'wbxofatybs.mp4', 'ubpbrbkmuz.mp4', 'bzvhvonbdu.mp4', 'pcjbefpcgk.mp4', 'pkeehogssf.mp4', 'gqemulfzdr.mp4', 'vodqladhoa.mp4', 'ektqvjydep.mp4', 'ryokxeplbx.mp4', 'etdglmsyin.mp4', 'xkxpxvbxil.mp4', 'eltffanmrz.mp4', 'pwssgblgzu.mp4', 'tolkqndwno.mp4', 'dydfvqqufi.mp4', 'kdaopdnhbv.mp4', 'lyrwlogfle.mp4', 'zeagjeexwd.mp4', 'djiunqrpsb.mp4'}, 'Fake': {'cogdchtkek.mp4', 'xjatrqlsfi.mp4', 'fvjzahyafa.mp4', 'vdfkpfxrxd.mp4', 'rckvbtjosu.mp4', 'zuktjnmpmt.mp4', 'wbgqgrdnru.mp4', 'hipsfncqwd.mp4', 'tkxpvcrhne.mp4', 'wemafqijor.mp4', 'mlthcffxdw.mp4', 'yqkmybbdlj.mp4', 'fjcodkulop.mp4', 'gukbgsqpxt.mp4', 'fqngkpzdyv.mp4', 'hnfqmsgvch.mp4', 'dubdchmosb.mp4', 'ylizslnwph.mp4', 'pkedupzgbm.mp4', 'mehnyvaxxy.mp4', 'rnrnnhcbpd.mp4', 'hecerpfjsy.mp4', 'bvcfduhsmp.mp4', 'ldonwzhrhg.mp4', 'vetlxcoypg.mp4', 'aabjfjbpir.mp4', 'knqgkhzeau.mp4', 'rqknwcdnsh.mp4', 'lqzbkveqra.mp4', 'pvdoujjofx.mp4', 'yqryuzpaff.mp4', 'igkghtbwgx.mp4', 'udvgmhbasx.mp4', 'avgtoksnru.mp4', 'azbmyuxayo.mp4', 'wvwzndwrnp.mp4', 'auvihbwrop.mp4', 'hbajmhveui.mp4', 'ugxnuzqple.mp4', 'uwhchfinak.mp4', 'zybzsqdomc.mp4', 'zkwfuokscu.mp4', 'fcvcuxtryi.mp4', 'kpinbeueci.mp4', 'vdhaiewyrl.mp4', 'timwdcsrwe.mp4', 'uejsvcmacb.mp4', 'pzrkuvruxc.mp4', 'xwpgvnpswk.mp4', 'sdiuyonxwr.mp4'}}), ('dfdc_train_part_34', {'Real': {'gncfjnpreo.mp4', 'lcdguqhxtb.mp4', 'uwufxaczqi.mp4', 'jswuqkcikl.mp4', 'sqmocpagkn.mp4', 'mkggrfrtiy.mp4', 'dflspovqos.mp4', 'pgmnnzwcuu.mp4', 'aktpkfrkkg.mp4', 'gjjthwadta.mp4', 'gyktewxcsb.mp4', 'arflkzattc.mp4', 'nevzumkxgv.mp4', 'sfbsckvyfc.mp4', 'imjfunevrp.mp4', 'ejvzniiwbq.mp4', 'lxsqpdmxli.mp4', 'cgsoqafcfn.mp4', 'uvqwmpfklm.mp4', 'jcyrgdqlyi.mp4', 'buznnntmnf.mp4', 'cxjumzfmqd.mp4', 'aewsbofgwl.mp4', 'eiismzeitf.mp4', 'uopfswyygk.mp4', 'iaqtariies.mp4', 'ewdcazacrh.mp4', 'mhcklyazrf.mp4', 'yvwraerzqk.mp4', 'plyqivfoeh.mp4', 'mulebpmvzo.mp4', 'nzqwrswqkc.mp4', 'abyrwifdfe.mp4', 'qxtoukhyts.mp4', 'tneevrdiwb.mp4', 'jmxbizzywt.mp4', 'ygxwrhaese.mp4', 'wyrmfcvxig.mp4', 'nlixkyvunj.mp4', 'zusqjsuizg.mp4', 'fokzwocift.mp4', 'eappwiyrnd.mp4', 'pqmolaziou.mp4', 'iwhzhemnul.mp4', 'lbqfkivkqr.mp4', 'psecynamaj.mp4', 'zzoimuggyc.mp4', 'wmkbgbvzdr.mp4', 'goqnmudces.mp4', 'baxefshuvs.mp4'}, 'Fake': {'ysvhtnedha.mp4', 'mtqemsusbc.mp4', 'htzhbeamrs.mp4', 'xztcnuoigs.mp4', 'vjlpspyfqg.mp4', 'gdnazxhqfl.mp4', 'ncbokabwxv.mp4', 'sgycbnsydz.mp4', 'pmvtmnlnnr.mp4', 'ammfmzaied.mp4', 'ranqxlzoqv.mp4', 'ohaizlyhlh.mp4', 'ruvnibkldo.mp4', 'rktfpkiqzq.mp4', 'wfdteinwrg.mp4', 'pabourmqww.mp4', 'tkowbcisjd.mp4', 'kcrnyvhcys.mp4', 'likanfmhkm.mp4', 'khjxzztgoc.mp4', 'plgeqfsvmq.mp4', 'xaedthtkkb.mp4', 'jerlmkdkxp.mp4', 'syzwnmstao.mp4', 'ylnxonqvoi.mp4', 'ejgwxdlttz.mp4', 'leyikhjkdl.mp4', 'lusmwexoxz.mp4', 'hfafmazgcg.mp4', 'wijsyrvfcn.mp4', 'ccbmthpups.mp4', 'oxdgfedaav.mp4', 'ghlanypjyl.mp4', 'cacijczweb.mp4', 'gqbtzlzkkb.mp4', 'mtwwhqlmvl.mp4', 'ipibsjqofq.mp4', 'jdfytlbevt.mp4', 'xjghkkvwuu.mp4', 'vvcoiixerm.mp4', 'zjfkdebpni.mp4', 'hbcbtqmbuf.mp4', 'eiahuhzvcx.mp4', 'blzkuhvnvp.mp4', 'fumvmiowtu.mp4', 'pdzrfhgvql.mp4', 'vmakwptcpn.mp4', 'njnswmorjb.mp4', 'piqpjvqlrn.mp4', 'luwfwwfolm.mp4'}}), ('dfdc_train_part_35', {'Real': {'osyklqiscv.mp4', 'cgqmayqnhz.mp4', 'pivumqlgyl.mp4', 'iddjmuszko.mp4', 'llxuxzxiiw.mp4', 'avkeqerpsc.mp4', 'akbyzqlris.mp4', 'mtvwmdmenk.mp4', 'clcjjbtmnm.mp4', 'vjkdbgpqnm.mp4', 'jibcwhgpup.mp4', 'ncoxkqthhw.mp4', 'nqzemwpwff.mp4', 'rlmzkecohf.mp4', 'ybwpqcefqd.mp4', 'fongivuyxd.mp4', 'ldnbyjrhwx.mp4', 'yyzrhpllyu.mp4', 'tdjrqrcrle.mp4', 'obfqinocan.mp4', 'tzcjlfnget.mp4', 'jmnyavrtau.mp4', 'tootprfpqg.mp4', 'ynrcgpktto.mp4', 'jvsngcdomj.mp4', 'kremyiqjdi.mp4', 'gakgqztklr.mp4', 'kxjdoagdqj.mp4', 'stdwultbku.mp4', 'ncmivzsycf.mp4', 'uzpioarfch.mp4', 'jqltenhqht.mp4', 'gzpyniwjiv.mp4', 'abklmthkbg.mp4', 'pjwhcrtjja.mp4', 'ciqabmwajp.mp4', 'omtlvmbtto.mp4', 'vxkhloixxn.mp4', 'wmbsdtznii.mp4', 'yxspebqcym.mp4', 'vckdweltri.mp4', 'glyttztdmw.mp4', 'acuhmmgmtx.mp4', 'wqqhjtkfwz.mp4', 'nsubyolzbh.mp4', 'kiinrooggn.mp4', 'hksptlvbwr.mp4', 'lfpgpeckzx.mp4', 'fgabpxldcq.mp4', 'yvzqezsrfe.mp4'}, 'Fake': {'avzfguclaf.mp4', 'cehchwzpfe.mp4', 'isysrgzwyg.mp4', 'exhofobrlg.mp4', 'nmkxdhmwaq.mp4', 'pzteeuvujy.mp4', 'mkrpxokppu.mp4', 'scvrvmrxrm.mp4', 'ecynynmmqc.mp4', 'thjyzdrlqo.mp4', 'pamsdbqrch.mp4', 'sheqedfnqf.mp4', 'jpkeysifbw.mp4', 'jtvvmhqhbp.mp4', 'magoolrtrs.mp4', 'qbtwwoiotm.mp4', 'uqohwjybkg.mp4', 'qtrzipcyga.mp4', 'rinfdxjoqu.mp4', 'znbhvtmrem.mp4', 'kezelmkykv.mp4', 'egtyqeijek.mp4', 'gzsqbybrmz.mp4', 'lxolgfxvfc.mp4', 'njshzxnawy.mp4', 'nogfpilfjg.mp4', 'jxiehkeknv.mp4', 'ivgvjfdrbd.mp4', 'mfvmyzvxtq.mp4', 'ofkcziraai.mp4', 'jvuyijxuas.mp4', 'ymtdzzysny.mp4', 'xykogatibm.mp4', 'xuhkgzaztc.mp4', 'swcnedwckl.mp4', 'pzfbwefhdc.mp4', 'ykopaoehpv.mp4', 'ldgkhykvif.mp4', 'duqjwtuahk.mp4', 'pzkrainssc.mp4', 'swsasxoatb.mp4', 'jbbiykbcvn.mp4', 'qoslholkxc.mp4', 'bvfqnxdqhw.mp4', 'zxutekhbcn.mp4', 'dlxltrvfmf.mp4', 'juqqzliyrk.mp4', 'lixlhvjwby.mp4', 'kskrctgahx.mp4', 'vuropgffsi.mp4'}}), ('dfdc_train_part_36', {'Real': {'dcjmwckfgf.mp4', 'agdevdgwsm.mp4', 'jshdgdhbek.mp4', 'djbimbpwbg.mp4', 'cxzdbwctfx.mp4', 'ramdkgiccm.mp4', 'dagcolpmki.mp4', 'qlkzcdofbw.mp4', 'wzrybcopcd.mp4', 'jivwoiqeyj.mp4', 'lxyckdarwa.mp4', 'yuzdamakoa.mp4', 'fibctjkhly.mp4', 'jqrfrqykue.mp4', 'zkzqeaagaa.mp4', 'uvenksrapv.mp4', 'rzxslqqecc.mp4', 'mlsrcayqar.mp4', 'nhdwrthria.mp4', 'pbduywizte.mp4', 'reyjdnlcej.mp4', 'ioawppxuxf.mp4', 'nqibmvlhsu.mp4', 'nnuwlchsxj.mp4', 'yfeppvfnbd.mp4', 'azhbacpvhg.mp4', 'kdnvfpobng.mp4', 'cyxhjuflrs.mp4', 'urfuhntprf.mp4', 'wbegnddgks.mp4', 'ouazajlgtk.mp4', 'emffqrjhyk.mp4', 'meaipafdql.mp4', 'aqhlpyacll.mp4', 'ahzfqirfkx.mp4', 'osgxvfnusa.mp4', 'swugkajjis.mp4', 'vhcrrcszbc.mp4', 'mqghvhewez.mp4', 'hfxmqrzdrp.mp4', 'zgyhttfzoz.mp4', 'khaeuyycza.mp4', 'rioxyowqkb.mp4', 'dzpychqarm.mp4', 'nvzuvfktkn.mp4', 'ofullbozco.mp4', 'xfihhsgkqx.mp4', 'gneeoltznu.mp4', 'qqcodichfr.mp4', 'zegionsphz.mp4'}, 'Fake': {'niozxpkvnn.mp4', 'ddteixybzf.mp4', 'sdfnakqxov.mp4', 'ktrrsqatcf.mp4', 'zlfbugvmmh.mp4', 'mouxgnmzmt.mp4', 'yzcmqukoek.mp4', 'kpxgkvzrag.mp4', 'qaoxmcakyq.mp4', 'xrqqjfjrxu.mp4', 'ybwkmchtjf.mp4', 'qacdnclndl.mp4', 'xlkdujikry.mp4', 'fjhappnjbd.mp4', 'srbddtbigw.mp4', 'xaqjebxshq.mp4', 'gvihoaswnr.mp4', 'pckjcqwfen.mp4', 'votatpsfzo.mp4', 'qctdmbxpkl.mp4', 'nrzrjlloaa.mp4', 'mkdknbyxdo.mp4', 'qckawgxxme.mp4', 'gafyfetmls.mp4', 'hkljzykenf.mp4', 'dcoyfnrpsm.mp4', 'fekbyyzjxi.mp4', 'judnahasmd.mp4', 'eelegoxjwv.mp4', 'efgvueaxxb.mp4', 'uagswfjjsm.mp4', 'pfqrgzszqf.mp4', 'yqxvagbqzw.mp4', 'xsdqbzvhgp.mp4', 'dnwhoboviz.mp4', 'hqnfmvrjlo.mp4', 'rilyevizdk.mp4', 'sdrexrgxdv.mp4', 'rjtsbdysdz.mp4', 'qrphrcohbk.mp4', 'cowmhzmvyg.mp4', 'wrcjeiljen.mp4', 'sqcryidszu.mp4', 'qsunabnqru.mp4', 'wnkyqhrmng.mp4', 'kglorexrch.mp4', 'zrglgcysxz.mp4', 'zvtupeotss.mp4', 'wtrooinibf.mp4', 'gawxncjdra.mp4'}}), ('dfdc_train_part_37', {'Real': {'bifaizxtsc.mp4', 'mhpmnbhyvk.mp4', 'wtvritaikp.mp4', 'kjnmsgtezt.mp4', 'twogaebjzx.mp4', 'yhriqeialm.mp4', 'ggbxcxlmpa.mp4', 'ktjsetopzq.mp4', 'qinaurlkvw.mp4', 'vidyizdisg.mp4', 'geuajeozuv.mp4', 'wiourzkzhl.mp4', 'xuxhyuyroq.mp4', 'pvrdcolevr.mp4', 'fylqtteoxp.mp4', 'refasbqxrh.mp4', 'fpynidpwoa.mp4', 'igcqzxjezw.mp4', 'tkozmpfutn.mp4', 'vkqcvtpefs.mp4', 'rfgkhremwh.mp4', 'gtempuluqe.mp4', 'arovusxbcb.mp4', 'hikjkaojdy.mp4', 'imzpztemle.mp4', 'ayhhqjvchn.mp4', 'hxorjqfecw.mp4', 'sioiqldyvy.mp4', 'xxnoxvcpxz.mp4', 'aqfnfsbqft.mp4', 'cpcnyqoevu.mp4', 'iqnvkkewxi.mp4', 'rbhcgtpcuu.mp4', 'wyeobynmkl.mp4', 'jnkdtmwlje.mp4', 'hzogjayovj.mp4', 'fpmgdktbyh.mp4', 'fmgloiqwnn.mp4', 'aqwziiggkr.mp4', 'hwhqtnxdsd.mp4', 'tcbkjjwzcr.mp4', 'xlncoajjum.mp4', 'gzjphqbump.mp4', 'jioxevwjwu.mp4', 'obhwstittv.mp4', 'zoqvryfubp.mp4', 'zmjksiqxuu.mp4', 'iidbhoxlpr.mp4', 'lxdloiaafo.mp4', 'yfilxwqpce.mp4'}, 'Fake': {'tqriwfsqnm.mp4', 'txqeizhvzf.mp4', 'gbycljawnz.mp4', 'nskodlffxd.mp4', 'dcrsugpfcv.mp4', 'lymgawkqzw.mp4', 'cdelzdhqpc.mp4', 'cqyowzdfdd.mp4', 'kdbmrgjgnk.mp4', 'yobblwxpsx.mp4', 'ayclhmjajg.mp4', 'mwopilvgux.mp4', 'tfvuuqqlkp.mp4', 'zgsuzugoxi.mp4', 'rhegyzoyet.mp4', 'eredlckdyf.mp4', 'cwvpjumhbg.mp4', 'zhiyefssqo.mp4', 'kuvibtcdkg.mp4', 'wbmxzgevzq.mp4', 'qzrsogvhcj.mp4', 'jpkmpxrpto.mp4', 'virufnfelm.mp4', 'bonanummuk.mp4', 'emmddtvyal.mp4', 'lpwuzhneuh.mp4', 'cykylxfjrb.mp4', 'xdvqcwtppr.mp4', 'fuxgucedwt.mp4', 'xvnxwemnyx.mp4', 'ygtcgdqdeo.mp4', 'jvomudwqga.mp4', 'eqzqwjmzmu.mp4', 'wlbvvldedb.mp4', 'cyhpyggvsq.mp4', 'ltgipmlojm.mp4', 'xscmmhinzu.mp4', 'xkdfchnwha.mp4', 'elfqgfzyid.mp4', 'cxxyvegmxm.mp4', 'nvsecbicpr.mp4', 'wqylqadaso.mp4', 'eaaysmdwlq.mp4', 'unbnujvson.mp4', 'rjzouvtgvg.mp4', 'olbwirykbf.mp4', 'mzqvbbrfxo.mp4', 'qmdvgkxpdg.mp4', 'byivdbmffg.mp4', 'yrzgpibjkt.mp4'}}), ('dfdc_train_part_38', {'Real': {'ivlxyjtbza.mp4', 'dpglsmiqwm.mp4', 'cmbrlniexh.mp4', 'uvnefxyqsy.mp4', 'aqozyybzlr.mp4', 'ezajsnknkc.mp4', 'kyvydsxjdx.mp4', 'pgfxdqdsdj.mp4', 'vlbomdvoja.mp4', 'gtpajvnljq.mp4', 'ydvkwvsdxq.mp4', 'shmrmyayzg.mp4', 'hfoioyeobe.mp4', 'crdhketdoh.mp4', 'uuwkcqqhku.mp4', 'aggbmxhrgs.mp4', 'kosvbdxsfy.mp4', 'jazrfmgzpy.mp4', 'pumddnsxwx.mp4', 'wgghzzunsp.mp4', 'vahicbizml.mp4', 'izhchgzacx.mp4', 'bqpwmmesgq.mp4', 'tavvipinca.mp4', 'kgacawfyvy.mp4', 'yiqtxlpcia.mp4', 'qhbbvqwrlf.mp4', 'gfpqtrphql.mp4', 'nvrjfquioy.mp4', 'vxxlutjivk.mp4', 'cnqwgagcgy.mp4', 'ugooshulwj.mp4', 'kvcwpzfstd.mp4', 'pqijsrwump.mp4', 'vdmbchexkc.mp4', 'mzfxcnpuxy.mp4', 'fcroeeiwbw.mp4', 'vbpdwvkvxs.mp4', 'rpcvgsuozm.mp4', 'upawlovoyb.mp4', 'ogyampufzj.mp4', 'hvqmkyrggf.mp4', 'ymbonknkzs.mp4', 'jfclkecjoj.mp4', 'fkpjpyhtax.mp4', 'hgsvltiixn.mp4', 'pnyifxtzny.mp4', 'yugpoqtwwf.mp4', 'eqhpdwysuw.mp4', 'qngveotoav.mp4'}, 'Fake': {'rpqglkacpf.mp4', 'brbajvtovp.mp4', 'lbjlvzpxkw.mp4', 'kawtsuffus.mp4', 'gwsygunrfd.mp4', 'krnjodwmsb.mp4', 'vdgaewfami.mp4', 'gzdsestvja.mp4', 'pumffnnouu.mp4', 'vencojpgda.mp4', 'rpchgqmxbm.mp4', 'qlwekbyqql.mp4', 'eqakmmwngj.mp4', 'zdbcmhhigk.mp4', 'zcmeubktra.mp4', 'rslyfjpqup.mp4', 'pjbdhdvkts.mp4', 'lxhhpbkpkb.mp4', 'ogfnbktupy.mp4', 'nnkymdgsrg.mp4', 'gvfvpjomcj.mp4', 'ekinylkxkt.mp4', 'sutpvknvml.mp4', 'lgksniqhis.mp4', 'vjrkvicvlg.mp4', 'lfdjsbmfhq.mp4', 'qkrpkmoigh.mp4', 'bodsawledj.mp4', 'ieffklubvw.mp4', 'bturisblmo.mp4', 'aqjjfkydvf.mp4', 'pgbbhqrosl.mp4', 'hvcxqgiwfe.mp4', 'fncxxdmkfx.mp4', 'slgylvmzba.mp4', 'xgaotwngok.mp4', 'lynxjxlcsl.mp4', 'mhkqwlfujs.mp4', 'waqkzzfbll.mp4', 'caypwrfwar.mp4', 'ftlfdigxjf.mp4', 'euydqohhqn.mp4', 'bpsqrrutff.mp4', 'mmlnibzrzq.mp4', 'uxxmmyruzq.mp4', 'iowiznmnnd.mp4', 'mqtswlzctb.mp4', 'jwuolcfxil.mp4', 'vdwzarbfro.mp4', 'jpiejubkdq.mp4'}}), ('dfdc_train_part_39', {'Real': {'wlookjipea.mp4', 'ugyeuuwkla.mp4', 'eabyiybnkn.mp4', 'jxuhwzpmfu.mp4', 'nmdkoichxj.mp4', 'lbjlsrqbbv.mp4', 'nneshdsxzg.mp4', 'szagmsazfa.mp4', 'nhmmllqntc.mp4', 'yuszeaayck.mp4', 'fchawobtti.mp4', 'ujjkzsdtiz.mp4', 'vntgzyrwvq.mp4', 'vyrkbvfpbd.mp4', 'pqcxyoffjh.mp4', 'bnwkhfneqp.mp4', 'yvyugtnzvk.mp4', 'vuccfkcimf.mp4', 'kgkacwnjlr.mp4', 'trkzaxcjdq.mp4', 'jidbmqevbi.mp4', 'lqeprskvea.mp4', 'vjokpmmkhe.mp4', 'vszibbcfgn.mp4', 'izoywnwvzc.mp4', 'zqcguuzurx.mp4', 'jlomryzlcu.mp4', 'zygukovcyn.mp4', 'ipvzfekfwu.mp4', 'ctfvpczuea.mp4', 'isgmhzcnsn.mp4', 'gplyturbmn.mp4', 'trolxesysi.mp4', 'mxsmrmjcsv.mp4', 'edldghszvx.mp4', 'xqavrcmpfc.mp4', 'hylzxlfyus.mp4', 'elbcgmkdrw.mp4', 'bfupvodqkz.mp4', 'hsubmoizkf.mp4', 'fbzztilvpn.mp4', 'moqrxmkqsw.mp4', 'iaggyguueu.mp4', 'dbckbkktch.mp4', 'lldrkbdavb.mp4', 'ouosgpaywa.mp4', 'tkgukulixj.mp4', 'tmxryudjcy.mp4', 'fwngrtvaee.mp4', 'pertjakiyi.mp4'}, 'Fake': {'glklbmhyzf.mp4', 'jlmqjvtale.mp4', 'vnvxuhubts.mp4', 'spyksrxwuh.mp4', 'vunzthkkza.mp4', 'lyjxdyybtj.mp4', 'tzwjmlybpn.mp4', 'sgzbxqhles.mp4', 'owwyxgoihe.mp4', 'hzgtrzyuld.mp4', 'ggfjeqqkve.mp4', 'krfikbkhck.mp4', 'nuumleudbr.mp4', 'azsongfrbo.mp4', 'anitiqaike.mp4', 'kwijuoikqk.mp4', 'ryeufmndck.mp4', 'zdbzspyrbo.mp4', 'svlrwdshik.mp4', 'yljxhuhnrl.mp4', 'jhccvzwonn.mp4', 'jzyejinoju.mp4', 'bmsxkitovr.mp4', 'xfrteolbdy.mp4', 'frmrtwfbmc.mp4', 'wvuckdwpfv.mp4', 'rneucagbvg.mp4', 'ahvnjazgls.mp4', 'krqweabkjx.mp4', 'kfooogqbym.mp4', 'aarsgjbafv.mp4', 'ylxbybggyq.mp4', 'yaikyjpifq.mp4', 'zgelpvbklv.mp4', 'yuprnhayoj.mp4', 'hazbvrlncf.mp4', 'xdmyqjlted.mp4', 'hrfweylnua.mp4', 'nagohhtzfk.mp4', 'dnaoszqxag.mp4', 'ltqdtclsds.mp4', 'jmctsixbhk.mp4', 'uotxbrzcmg.mp4', 'bolnqgimhd.mp4', 'sigkkykscq.mp4', 'jobjurhuvr.mp4', 'tcdjcvrumn.mp4', 'bruuugwvqy.mp4', 'tlzazugfnm.mp4', 'rfyzkkjnrz.mp4'}}), ('dfdc_train_part_4', {'Real': {'opwqlxzcaf.mp4', 'xjabnijtoe.mp4', 'kmyrnchata.mp4', 'lkgrqfcrps.mp4', 'bsjezfsydc.mp4', 'dxwvavgnsr.mp4', 'ckrafhjqpz.mp4', 'rrldnflyrx.mp4', 'qfhmrgssju.mp4', 'xuhcvxtzxd.mp4', 'smigbfmhew.mp4', 'imbhofyohf.mp4', 'bqiztwtgcu.mp4', 'fzegrgsdky.mp4', 'tjmppqyqzc.mp4', 'dmtsxclujy.mp4', 'pmciwmkszl.mp4', 'phtwqvezao.mp4', 'hvplvgwjzt.mp4', 'bgpoldvzrh.mp4', 'pgybuuxxip.mp4', 'unmfaaaeln.mp4', 'adgveaibmt.mp4', 'kbxmnovqbo.mp4', 'nnfwfojmri.mp4', 'jwjyxtjdvp.mp4', 'kgckxrwwut.mp4', 'avpxuvplbn.mp4', 'hvmcslpaeu.mp4', 'nvvghjfiqq.mp4', 'gasdqayvgc.mp4', 'nxosnovbjl.mp4', 'firlsjvtup.mp4', 'skkzgucmdv.mp4', 'szftsfmvsb.mp4', 'qkaafsvwxs.mp4', 'fszexmwczt.mp4', 'rbnfvqyses.mp4', 'uratvdiptg.mp4', 'byqugsmtxr.mp4', 'qlmxnhiwzk.mp4', 'kdvcexakou.mp4', 'xobjrvpdzt.mp4', 'gevbsktxjk.mp4', 'deoexpsdqf.mp4', 'mrkwwadnqs.mp4', 'nbmlalfmaj.mp4', 'hajgwuytzh.mp4', 'yfxvjewtjq.mp4', 'ufoipgblmn.mp4'}, 'Fake': {'vvdxmjouwe.mp4', 'kksqrskybv.mp4', 'uhghtrtwyg.mp4', 'ukpahpwqlr.mp4', 'cikqezajwn.mp4', 'dsjcxcmfgp.mp4', 'elnadljsko.mp4', 'bfhgudaysl.mp4', 'xkziknvgen.mp4', 'ectsztyumi.mp4', 'jjnzvsibrs.mp4', 'yzihlxibvv.mp4', 'ukkasncnkh.mp4', 'huqakotbhk.mp4', 'upqgpwzejd.mp4', 'vcfmumdmpt.mp4', 'fhgyeiuvmg.mp4', 'tqawtxllam.mp4', 'drouplvofs.mp4', 'pjdrtcyzce.mp4', 'gzwthckmpd.mp4', 'rqmdhgkyjc.mp4', 'auuxrdogjl.mp4', 'rcovjvmlcu.mp4', 'iijnzbjyls.mp4', 'lllnfswlxz.mp4', 'cffpcdxoyt.mp4', 'azivnorcbt.mp4', 'vzwxzyygdn.mp4', 'dfkaekrnfr.mp4', 'ezlehpbfya.mp4', 'lqqeejrhux.mp4', 'iylwgfyswr.mp4', 'kuokgeklnk.mp4', 'edmtrwmxkl.mp4', 'zcsrycydho.mp4', 'xiovxhjrtr.mp4', 'uhdqecemtc.mp4', 'ixmtjukguq.mp4', 'bnynincvkz.mp4', 'zhaiqernms.mp4', 'mrzqsitprj.mp4', 'ozxpgzwzbx.mp4', 'zynjzuvcpx.mp4', 'midpeunjaz.mp4', 'zlhjdxdvaw.mp4', 'bpttffvedn.mp4', 'oubatifbba.mp4', 'tohloefevs.mp4', 'hoihzcvsgv.mp4'}}), ('dfdc_train_part_40', {'Real': {'wbsaewrzpq.mp4', 'vxusutrmjr.mp4', 'qwchzldmrv.mp4', 'lwxnusafzk.mp4', 'vbrviucyqc.mp4', 'hkdpyhtqxm.mp4', 'cybvkcmdgl.mp4', 'vpjwhrkdkj.mp4', 'skakwwbjdm.mp4', 'sttoamngtq.mp4', 'bnimtitnnc.mp4', 'ibebxwclro.mp4', 'mvneuvwisv.mp4', 'ejtimuprkr.mp4', 'hunpbscjol.mp4', 'etjonsboxi.mp4', 'ortxvzoneb.mp4', 'gnytikpmnm.mp4', 'azkdupbivt.mp4', 'pngxwrscfv.mp4', 'efmtxmmbfk.mp4', 'siggrdjgwd.mp4', 'dxuxkyqhof.mp4', 'fwwitihjch.mp4', 'vlmkudpvpw.mp4', 'xolvnfinjt.mp4', 'yxqwbxjrtt.mp4', 'aoeuvrhatp.mp4', 'rpriyeauyn.mp4', 'odzdvdsuds.mp4', 'ohpfcuzddj.mp4', 'iqgfxqewgi.mp4', 'dgnzzvfujo.mp4', 'hjnjfrebfb.mp4', 'ojsuevypkx.mp4', 'oiobzkxhop.mp4', 'stnzxqrspy.mp4', 'ucfoqnytpf.mp4', 'cbbugjbzwq.mp4', 'qzgivlglua.mp4', 'bvbnqnfmed.mp4', 'yiafckaqsb.mp4', 'fbqrdsclny.mp4', 'jqrhbfryac.mp4', 'zadwecmqlx.mp4', 'rrmhobgxhe.mp4', 'hrtmclnwyq.mp4', 'tkygmnaifp.mp4', 'cjvauezybx.mp4', 'pnqrmirozd.mp4'}, 'Fake': {'lmyrbghnkp.mp4', 'ddblowwfcm.mp4', 'wblbqllxwq.mp4', 'hgzzpepxkv.mp4', 'nwqvacaoxx.mp4', 'najhikzjld.mp4', 'annxqhdget.mp4', 'jtlhnksetc.mp4', 'zngxfldaae.mp4', 'smpozqlbuo.mp4', 'chygufblpo.mp4', 'krjnlcjctk.mp4', 'gmmhjyxtsv.mp4', 'ffmpcikyaf.mp4', 'ondkkapdcb.mp4', 'iqxkenmlnj.mp4', 'fcagoxvfam.mp4', 'lsawyhvjfy.mp4', 'kdpzibspoe.mp4', 'htigwwgwkf.mp4', 'iodvtuacfh.mp4', 'myhoutffrl.mp4', 'iilzyabbzl.mp4', 'kdgqrczsax.mp4', 'cgomfzqjeu.mp4', 'fofqxuuryw.mp4', 'ukjlzxvlkz.mp4', 'xklnwrmaxq.mp4', 'lonuxpyene.mp4', 'npmvipqgsl.mp4', 'rhyxgxuwhd.mp4', 'ovxhrtuuhu.mp4', 'vcenwynstv.mp4', 'ffadtqptvw.mp4', 'infqarzfqf.mp4', 'asunvzmjhu.mp4', 'dhuvrjnggi.mp4', 'nddetnxxmi.mp4', 'reidnpqmqn.mp4', 'nkpkkkzsbg.mp4', 'wocxamvtsw.mp4', 'hsdyfidrxi.mp4', 'uyefddtyth.mp4', 'hpcnfqzlto.mp4', 'wlxnmrsihg.mp4', 'orqcakrxur.mp4', 'nwwrhedlhc.mp4', 'tjrbfcehzg.mp4', 'awstgmezgy.mp4', 'dqwaqerwma.mp4'}}), ('dfdc_train_part_41', {'Real': {'hhdzofpfgu.mp4', 'qdiclkoxze.mp4', 'pjbewiubum.mp4', 'vbywxlwjka.mp4', 'kytqjymits.mp4', 'qfjtmqetlk.mp4', 'owddhzjsto.mp4', 'sfjcqsxoxj.mp4', 'vabnxszwug.mp4', 'wlwdpfbdrg.mp4', 'thodjevvjy.mp4', 'skepxzvxnw.mp4', 'vrimykzxeg.mp4', 'hwjqfepxmx.mp4', 'txywmpduxj.mp4', 'nidvpqcuim.mp4', 'scxbdbgtkn.mp4', 'qyofhfaazs.mp4', 'cqntibhkbq.mp4', 'hkmapmksbu.mp4', 'htuxozplwj.mp4', 'mvreczmgks.mp4', 'zulfnbqcgb.mp4', 'cyxtasgppy.mp4', 'zefpvybkmp.mp4', 'xmsfoxihuk.mp4', 'ysqyvsuwkr.mp4', 'gxgxsrftqs.mp4', 'jdhrlhmndn.mp4', 'lgjmxefwpq.mp4', 'ryvspmfzyy.mp4', 'gjkltyiztd.mp4', 'sjvpgwrbmv.mp4', 'rlgumwinrx.mp4', 'oynkwsagfx.mp4', 'hxzhvrhlfs.mp4', 'wtzjtumkbz.mp4', 'rxdinxhihx.mp4', 'lpajeafiqi.mp4', 'taxjrcmkcz.mp4', 'coklfjtcyt.mp4', 'iramathzcf.mp4', 'uvubglruyj.mp4', 'dxdansstna.mp4', 'ykgfznxxut.mp4', 'zpyoehlzbn.mp4', 'vvqtglzcep.mp4', 'sokqvwhjwh.mp4', 'looavyfvgu.mp4', 'yiqdjbotyg.mp4'}, 'Fake': {'itfdmygyre.mp4', 'cmmqqqkpri.mp4', 'mexhppnbna.mp4', 'chnkxknmbq.mp4', 'dcnqtgonsk.mp4', 'qjastnhahm.mp4', 'paoknhqggv.mp4', 'qdqaqufmft.mp4', 'rcfqjdyrsl.mp4', 'qrwzemzyqa.mp4', 'jqyiwooilh.mp4', 'lysajzwqvt.mp4', 'fukjiykwxz.mp4', 'vzdmxnuhkz.mp4', 'xbyrobwpqh.mp4', 'xigedrtcuf.mp4', 'fjcyoixqau.mp4', 'lbsmijxkmt.mp4', 'ozwmzqdftr.mp4', 'ylkkuykoon.mp4', 'vuzvgxazcz.mp4', 'exxfhkgnvx.mp4', 'nvsgjptpyl.mp4', 'atabwvdlhh.mp4', 'dxmtotjlpy.mp4', 'ijblnijmpp.mp4', 'twondkoqsr.mp4', 'togyrprqnl.mp4', 'eztgdxslyf.mp4', 'ajpzditips.mp4', 'zsaeueutuh.mp4', 'cowxzlygfo.mp4', 'dcveredmux.mp4', 'onbgdxjkjx.mp4', 'ygtxrxoxdp.mp4', 'iencorrqjy.mp4', 'nwakxhfqhx.mp4', 'zgwcwubyih.mp4', 'vezmltphcx.mp4', 'edfmwxmirk.mp4', 'bwshqkblkm.mp4', 'dqxqmexekn.mp4', 'gemwaiueno.mp4', 'yofvgjzmcq.mp4', 'zfpwhrtinq.mp4', 'cqwpquwxid.mp4', 'hapbnzkyau.mp4', 'mfmdiclwce.mp4', 'btnbabtddl.mp4', 'oyxrfcrbjm.mp4'}}), ('dfdc_train_part_42', {'Real': {'djlubjyhsj.mp4', 'etlroolqer.mp4', 'riukrufpgh.mp4', 'jcdsliebdg.mp4', 'dnecilutfg.mp4', 'gbpymmkcbw.mp4', 'gcxexbsvot.mp4', 'xfxsfmwrtw.mp4', 'qwsgzllqxl.mp4', 'vbfxqmhmrs.mp4', 'wbxgbgzbrz.mp4', 'iqygzjmnpv.mp4', 'kqlxflempd.mp4', 'bdqdarvhiv.mp4', 'zmdzmbfneh.mp4', 'vxayjzhphh.mp4', 'scjdkezndi.mp4', 'kbdwxflsla.mp4', 'rfhhwnicyq.mp4', 'wychizeojz.mp4', 'aikcsvtwxj.mp4', 'dhcvupxnrj.mp4', 'obrmbvxnoc.mp4', 'ekutbiitqk.mp4', 'weswgpmomf.mp4', 'hmuurfnobk.mp4', 'gbbhyicorv.mp4', 'irkrdbjkkv.mp4', 'msaibijnay.mp4', 'fbfnlcqjjp.mp4', 'ygpgdfamrd.mp4', 'ncokiwnqdj.mp4', 'pqcuzuvuac.mp4', 'dhwvoebdjs.mp4', 'bmzywathcq.mp4', 'nkkwxbkdxc.mp4', 'satxxxlhjl.mp4', 'ekyycsaoqv.mp4', 'mmvheqsviw.mp4', 'plippwihgk.mp4', 'lveilcmehg.mp4', 'riiasslukr.mp4', 'sqlipvvjgu.mp4', 'wyhtcmefqt.mp4', 'qoywhyrcjw.mp4', 'pnwbmckzuh.mp4', 'wxavwmybea.mp4', 'liafkksaer.mp4', 'ulibdtoetp.mp4', 'wcqtnstwij.mp4'}, 'Fake': {'kxlpngcejr.mp4', 'dbahlxpfkm.mp4', 'egidkvnqlz.mp4', 'ookjtngnft.mp4', 'jvzdpyonga.mp4', 'xwemukdrzt.mp4', 'lgqfanavff.mp4', 'fsbtznktag.mp4', 'yevqwlmbku.mp4', 'vsafvjbumm.mp4', 'ucxowzeosz.mp4', 'bowsazznoh.mp4', 'xpbbnilrkn.mp4', 'lyfqsbnzuw.mp4', 'mvlljogbpa.mp4', 'ydinyksqdz.mp4', 'wwglepzxyi.mp4', 'nszhfynfla.mp4', 'bhzfcdzqar.mp4', 'ybrvzivria.mp4', 'caqwaugebu.mp4', 'oempdlzpgq.mp4', 'byxasxlnqy.mp4', 'nlaycddtsf.mp4', 'wsrpozorjv.mp4', 'ckechbyzit.mp4', 'kcnheferep.mp4', 'bdchfgyrzo.mp4', 'icxllszfib.mp4', 'xddeobvthp.mp4', 'jokxnelnfn.mp4', 'lzgpnzsilk.mp4', 'fiftvucvue.mp4', 'hrxijsbgns.mp4', 'zonlxcunos.mp4', 'wdmddrpxca.mp4', 'syzpgcndwj.mp4', 'tkxdnlvyzw.mp4', 'nlcmkmgnqk.mp4', 'opxfeymrwb.mp4', 'gfmeutlfzy.mp4', 'rxthiqvlgq.mp4', 'nrgkltaqrm.mp4', 'nrecykduyh.mp4', 'jwdsnktmhq.mp4', 'lrectrbffn.mp4', 'fljtrmcohq.mp4', 'ojyacvpwry.mp4', 'isixfyxvcp.mp4', 'pfhgchbjqg.mp4'}}), ('dfdc_train_part_43', {'Real': {'larwnfncyq.mp4', 'bkamlqslms.mp4', 'xnvvoscjjc.mp4', 'evzmijhthq.mp4', 'enkpwtwwnf.mp4', 'evypufjvtr.mp4', 'yraoqjfcmr.mp4', 'ivgbyeslaz.mp4', 'treklubxvy.mp4', 'qccyrzyylf.mp4', 'vjhhaopwjk.mp4', 'bqpueovmwa.mp4', 'mwoeriylvo.mp4', 'ajhmvnssbb.mp4', 'tacsodsdoo.mp4', 'ivexyynvqc.mp4', 'kdiszetioa.mp4', 'npcqxjndip.mp4', 'ddvknwrapr.mp4', 'kdxjncawfy.mp4', 'dsypvnksuc.mp4', 'qvnffjwzil.mp4', 'mycsljsdmu.mp4', 'abzkauwmbl.mp4', 'qyxidkesez.mp4', 'hshapbcail.mp4', 'srzrquplty.mp4', 'yctiinwdfy.mp4', 'rxcqczfxth.mp4', 'vyvakdelwu.mp4', 'mvsrhbeylb.mp4', 'acyvqflqkv.mp4', 'uddhsafcuq.mp4', 'xyhubhqgju.mp4', 'dywegzqyel.mp4', 'afcwvndury.mp4', 'nqrmezvxnm.mp4', 'ibxjbinwhk.mp4', 'myfxbrkrsw.mp4', 'nkhhjotauz.mp4', 'igiqjkzwbj.mp4', 'ezaaqjpswx.mp4', 'ggsffylodm.mp4', 'irerylmdmc.mp4', 'phiirijpsr.mp4', 'npermerlix.mp4', 'gpuciydhjt.mp4', 'smsiqaqyer.mp4', 'ayvnhxqifb.mp4', 'lvqxtzsnhy.mp4'}, 'Fake': {'hgqfoasyla.mp4', 'ashuwsyjoy.mp4', 'nuqocwxdpe.mp4', 'fxbtivvrpv.mp4', 'jfhtynnkrt.mp4', 'slrzqogyeq.mp4', 'vcqgfemqgt.mp4', 'sdyykysbml.mp4', 'hecofwjiux.mp4', 'hnjvdnygjm.mp4', 'bfhkzqdwbx.mp4', 'snliqflqyq.mp4', 'dzzbigqcpf.mp4', 'foiuifhdhs.mp4', 'qlkatwftet.mp4', 'yvmodxikld.mp4', 'ovduudukfn.mp4', 'jfywcnmzut.mp4', 'wvtkikkvdk.mp4', 'bfdgzjrnck.mp4', 'kxqndyqxsc.mp4', 'xraopsanrc.mp4', 'rggxmtabqi.mp4', 'sxgdjvfkgj.mp4', 'ewokvfyjsz.mp4', 'flpaebsyzf.mp4', 'bqcwckuzax.mp4', 'yyfmqzllbw.mp4', 'jsijpxmjir.mp4', 'hijoaaoakn.mp4', 'iesqelxvxo.mp4', 'rvcprdzvxx.mp4', 'trgixtifng.mp4', 'twwqomtcld.mp4', 'atrcstuvme.mp4', 'zdhvdwlisa.mp4', 'tzwrmkepyc.mp4', 'tiaatozsiv.mp4', 'lrdziwxgql.mp4', 'inwvkwgbae.mp4', 'hqpqwfnjwz.mp4', 'afgmszwvvg.mp4', 'ivjzfgjjmd.mp4', 'yqslfoohsi.mp4', 'atzvxcgfmy.mp4', 'ehxxnbbgbf.mp4', 'mfwbktpefb.mp4', 'tfmbfmwwyb.mp4', 'vvpwtduldi.mp4', 'hkcapfpydt.mp4'}}), ('dfdc_train_part_44', {'Real': {'wetxtmuqbk.mp4', 'qosynfrcih.mp4', 'osyfcyjccv.mp4', 'jkicnpuhvx.mp4', 'gnslcjmktc.mp4', 'nqwkmhbiuu.mp4', 'igxhynhfsr.mp4', 'aktdcwdclx.mp4', 'bzfwuhytjx.mp4', 'szrxkdmvfy.mp4', 'nowjdzuevg.mp4', 'fuobmswltj.mp4', 'auilwijuvo.mp4', 'yjfqckuyub.mp4', 'fqjbooptlq.mp4', 'ekreepcbid.mp4', 'uihhczxmqr.mp4', 'gphdyisiot.mp4', 'wsguuejitn.mp4', 'sxfkdrznan.mp4', 'kzqhzwolml.mp4', 'rjdnwvynxk.mp4', 'srrhsfcpcr.mp4', 'amkvbktnmb.mp4', 'dsveelyrgf.mp4', 'vwtbrtvsxh.mp4', 'cdrxdvdxwt.mp4', 'uwjbwegyfx.mp4', 'dadrotzwag.mp4', 'tdrraoezra.mp4', 'cblcntsvln.mp4', 'wfsvuyhlvt.mp4', 'iqpckowwia.mp4', 'llskrpcrys.mp4', 'mmfghjqmbv.mp4', 'qdhzxxckjo.mp4', 'qrjhrwibwc.mp4', 'zspnlauwnx.mp4', 'vrpaukzvai.mp4', 'ybxnmctbyf.mp4', 'zwaddsfokw.mp4', 'gfxkhsgbwm.mp4', 'fxmermngmn.mp4', 'kozpkldsby.mp4', 'jryzaxwhjq.mp4', 'ehobuslnal.mp4', 'bsovvblcxg.mp4', 'dmuhzrcbfa.mp4', 'oxkgjhjsly.mp4', 'luhlllcbij.mp4'}, 'Fake': {'qljnhratda.mp4', 'altfvrpmxe.mp4', 'tyakheorkb.mp4', 'phdfcdvyeh.mp4', 'mntxphtklp.mp4', 'nrgljucorv.mp4', 'btqktbhalb.mp4', 'pkjrfaanye.mp4', 'rqpqlyrren.mp4', 'ixfdzrarsa.mp4', 'pdotikoxhv.mp4', 'gjyxjhuniu.mp4', 'cqgsacster.mp4', 'cayliwbhpq.mp4', 'pijdcfzyqg.mp4', 'xvemlxvlzr.mp4', 'elbmrziana.mp4', 'qcmqhyrdff.mp4', 'svodvlwnpg.mp4', 'dilyraxdba.mp4', 'wegjhmzauw.mp4', 'pdlltmgala.mp4', 'pibrwzsawr.mp4', 'vtmcqtdsjs.mp4', 'zchaghhjto.mp4', 'fdiiiafqra.mp4', 'bemzjclvgu.mp4', 'jpgcajdzti.mp4', 'sluspabdog.mp4', 'dsilxejbkg.mp4', 'ucyuwurana.mp4', 'vpfryxbeqz.mp4', 'afpqokzmev.mp4', 'gwfzxvjjaw.mp4', 'rasmcvlsvz.mp4', 'mxmwjptprn.mp4', 'vvvuorcvfv.mp4', 'vuclirejpq.mp4', 'pfhhczoboq.mp4', 'tvizjprigb.mp4', 'fyyybigduf.mp4', 'qigskimisr.mp4', 'eiyhctwtne.mp4', 'genrhxayoj.mp4', 'yeuvkityyk.mp4', 'ypcqakjcqp.mp4', 'lhavhaqxti.mp4', 'hxyhoufgrm.mp4', 'oukvxhpuat.mp4', 'aavuzodiub.mp4'}}), ('dfdc_train_part_45', {'Real': {'ekxsduhvwh.mp4', 'djvbsnsiah.mp4', 'djlkkqmjkk.mp4', 'vdtmlbzhwi.mp4', 'jtkyoulizr.mp4', 'lnzizqodwj.mp4', 'pzjryvkrpk.mp4', 'xqmwbyopbp.mp4', 'varfagexso.mp4', 'gxxlbjuyza.mp4', 'kfhkmcvwvd.mp4', 'uuwidltakm.mp4', 'wtbxixcqwr.mp4', 'vjmafouyza.mp4', 'yehyyjdfte.mp4', 'trtxfafvta.mp4', 'uhynwthfhf.mp4', 'awsceniain.mp4', 'sjgkzwbfmz.mp4', 'onojshreyv.mp4', 'qivnumuetu.mp4', 'pyyxxpegwi.mp4', 'guemdthavy.mp4', 'bogcoldwxa.mp4', 'brvnvecdnm.mp4', 'fwisndrpzm.mp4', 'wwwhrimalk.mp4', 'ntcfyojagi.mp4', 'wnlnuotcpw.mp4', 'xdqrswutyx.mp4', 'imnyrjolno.mp4', 'bpkpvrqduq.mp4', 'wbgivbxtax.mp4', 'poangahcby.mp4', 'nhohwyteco.mp4', 'fvwhpsrmwx.mp4', 'yghxoihrle.mp4', 'opsswckvib.mp4', 'qiklmoeita.mp4', 'ctawiyhhzf.mp4', 'hohrvrekpk.mp4', 'aevxvajusj.mp4', 'ccevbixrwu.mp4', 'wvxlbegcgn.mp4', 'ihszkmcwvw.mp4', 'tsbsvwxfye.mp4', 'vzovudfimk.mp4', 'kypqqvwvvn.mp4', 'bvbgrnnbsi.mp4', 'txfozivwlq.mp4'}, 'Fake': {'jbysofevrm.mp4', 'lfnuajhyxy.mp4', 'pysjedccrf.mp4', 'bcoorvngcn.mp4', 'scbfkrlytb.mp4', 'ajmrksuirh.mp4', 'nnpmvozcmf.mp4', 'hnmefdzxxf.mp4', 'pcztahkayg.mp4', 'lievwdwxkb.mp4', 'edvtyrosef.mp4', 'hqftstuxzs.mp4', 'fpzpgbugxm.mp4', 'ehtdvrunlh.mp4', 'aexkdsocpo.mp4', 'vfiuieuoie.mp4', 'vtumllvkkq.mp4', 'vrrvajfayp.mp4', 'riizlqngim.mp4', 'bslvoeizbx.mp4', 'xzavftnhdl.mp4', 'tzkglkvofq.mp4', 'fepzrvdwje.mp4', 'qnonqqblue.mp4', 'tafbvqzrvm.mp4', 'ccdhupjnbm.mp4', 'cwwqaazswi.mp4', 'blbtxevriv.mp4', 'ncbempbsch.mp4', 'cgcfrcephg.mp4', 'xcikxizrej.mp4', 'smwpthfdcd.mp4', 'kxlprsoigl.mp4', 'rzfdmenmce.mp4', 'zxfqeurdjp.mp4', 'rqviqcsbzw.mp4', 'hawifsawjr.mp4', 'tqzgzujrij.mp4', 'kzqznorymf.mp4', 'uclzxnftij.mp4', 'xjwyksuopn.mp4', 'zlqgtpkchx.mp4', 'tldekrvqhs.mp4', 'ojzhlajkrh.mp4', 'mshfuaygyq.mp4', 'icsdvfdvix.mp4', 'ecsjyvknwr.mp4', 'rxfqtredtd.mp4', 'edryvpqidj.mp4', 'vhykpqniml.mp4'}}), ('dfdc_train_part_46', {'Real': {'zigbepfygf.mp4', 'gwqdrapybq.mp4', 'pyomnllkvj.mp4', 'womwjwyqzs.mp4', 'ragjclplkx.mp4', 'fnqrydakgc.mp4', 'mdsmgzaltc.mp4', 'opuhoerhxb.mp4', 'knjoasqzvt.mp4', 'nwoyzwczsf.mp4', 'bxqgvzamnx.mp4', 'ufunfswczg.mp4', 'jiugbwylsj.mp4', 'tfxdjbczua.mp4', 'ftfemkjnot.mp4', 'hblqwhprwy.mp4', 'zhftwvtutp.mp4', 'thlzaujkbk.mp4', 'thgdukjjbc.mp4', 'ulktozegxh.mp4', 'cddqkogvva.mp4', 'lucpbeexdk.mp4', 'phsausetmv.mp4', 'ctkwuprdsl.mp4', 'naaaxmbvqe.mp4', 'aigfuneurk.mp4', 'cgoqhidgvq.mp4', 'kiefgnkgxi.mp4', 'smwnoimfqu.mp4', 'uudhxrgrix.mp4', 'hbgdnkkbvi.mp4', 'qmaehrupub.mp4', 'zzrmokkxka.mp4', 'hdauuytvhx.mp4', 'axudxwpjpq.mp4', 'tkxblcleyd.mp4', 'bmgptqpfdt.mp4', 'vqspsdkblb.mp4', 'ignnnnpang.mp4', 'bzaqomdlim.mp4', 'ngzqnucpqt.mp4', 'zzpnyudlgp.mp4', 'thkdzpjesm.mp4', 'shhjiavlvw.mp4', 'jiivsvouxw.mp4', 'wgmlmeubsz.mp4', 'ckadtcipgr.mp4', 'urxifmrcll.mp4', 'mghspxtpac.mp4', 'hpcivouyku.mp4'}, 'Fake': {'enwhstvrpt.mp4', 'xffjesgeey.mp4', 'arfdnjtlop.mp4', 'wmdamjouqh.mp4', 'wqunkpcesq.mp4', 'vzxgmtvvwa.mp4', 'gvuknosmbn.mp4', 'wperksoyjd.mp4', 'twuetomiis.mp4', 'hwapuqrvfb.mp4', 'tjtjzhwfjp.mp4', 'roxuqecolx.mp4', 'ucwqruljku.mp4', 'hogyprobqu.mp4', 'ldffodtquh.mp4', 'bnrinrrsle.mp4', 'umoutofncx.mp4', 'ckfiodyxbq.mp4', 'fzdkapejcq.mp4', 'axopbbxwzr.mp4', 'sftvafvaxj.mp4', 'dhmovshgex.mp4', 'gpjfundste.mp4', 'iffowzafje.mp4', 'bebfstfcgp.mp4', 'lujjudnqwk.mp4', 'rgqcygqsjz.mp4', 'uybsejchpc.mp4', 'tktvlncybw.mp4', 'dghuodhtqi.mp4', 'bmijukkheo.mp4', 'zlqdcocjrc.mp4', 'umtxxlapaw.mp4', 'elyuapcyhc.mp4', 'xoiwuzyxbd.mp4', 'ydywdtsrtb.mp4', 'vsrmgtcogv.mp4', 'zrfodlxbcf.mp4', 'poyotaksrd.mp4', 'jkgbnwzqek.mp4', 'parroswabm.mp4', 'kscwlvoove.mp4', 'kvvbxazeln.mp4', 'rxkreikivx.mp4', 'txxevapkkh.mp4', 'maaltmrbpq.mp4', 'jkweqswkmp.mp4', 'msdtzpmmae.mp4', 'mnhbyoxjll.mp4', 'pzmoqduqjq.mp4'}}), ('dfdc_train_part_47', {'Real': {'wvlnveemuy.mp4', 'ucxnaqenaw.mp4', 'gtbjejzsaf.mp4', 'hdquimbepn.mp4', 'xsfvtcotaq.mp4', 'faygjfrrcq.mp4', 'dcwokudqws.mp4', 'pecbwoiwnf.mp4', 'dbqbwrcvjk.mp4', 'smplgjukxl.mp4', 'tgjeihxolq.mp4', 'uujtgpehhz.mp4', 'hgdjrqzwff.mp4', 'fltaysfwct.mp4', 'qivscggdxa.mp4', 'oacylwoldp.mp4', 'yzmlvibpcg.mp4', 'zmsahcjmuz.mp4', 'btgxrrldio.mp4', 'tazlckybzu.mp4', 'bjizwsyhld.mp4', 'gpsqelalbp.mp4', 'oyotxldqqo.mp4', 'jozfaxodnx.mp4', 'wyiajvmitt.mp4', 'sinfhganrv.mp4', 'kpcrdurodw.mp4', 'aizdhhesnq.mp4', 'occrrsyizc.mp4', 'varfxelcfa.mp4', 'alpmztosny.mp4', 'fsxwyhjxgo.mp4', 'zvvjlkjvyi.mp4', 'imtkdzkypf.mp4', 'sfzbjyskjx.mp4', 'fptqmjcpuo.mp4', 'eqtwkqxolz.mp4', 'ajbxbxcrdo.mp4', 'eqkybjnuea.mp4', 'hqnwdzttpm.mp4', 'rtphoescwz.mp4', 'jgudqdkfmv.mp4', 'eczcpjxzwv.mp4', 'fqeilecqej.mp4', 'pldgpdtzwo.mp4', 'ghurwsplvw.mp4', 'bmnpqrwnex.mp4', 'syueovtetw.mp4', 'cpucjmfawf.mp4', 'nyuklzgkcw.mp4'}, 'Fake': {'urpjyivumo.mp4', 'ckmahvimru.mp4', 'sowargwatp.mp4', 'wskvdyyjwy.mp4', 'dopyarkmwh.mp4', 'lcgsihcudt.mp4', 'weruepdgcd.mp4', 'shikzxipov.mp4', 'ktjoendyit.mp4', 'ipnuvehtbk.mp4', 'mbopvzlqyb.mp4', 'qdwuhbpvep.mp4', 'hnqkejilda.mp4', 'whtffdhnvo.mp4', 'fdvgiqipzx.mp4', 'jhihpqpkmb.mp4', 'cfmskgcrrm.mp4', 'ytmvmpzgvq.mp4', 'zwtoqsabjx.mp4', 'lwshsanvtw.mp4', 'xwkmqehfeg.mp4', 'derkcaxbhk.mp4', 'fckhrlmdps.mp4', 'albmkgvkhm.mp4', 'zzsxjtdivw.mp4', 'xiwintetuy.mp4', 'oittxxvlzx.mp4', 'ktzmeowvqp.mp4', 'jnxqztdgyp.mp4', 'scswhprxwj.mp4', 'sbaoikjlnk.mp4', 'gkitkfybav.mp4', 'rrfkxcvqvn.mp4', 'hczfyxtxnw.mp4', 'cgttzpagqf.mp4', 'lqvfubuvfz.mp4', 'mganwomkeh.mp4', 'uhwtmcssjh.mp4', 'ypwvvludad.mp4', 'vjlszitvfu.mp4', 'dhxmdqifot.mp4', 'zjzssdxwtf.mp4', 'vprbbqfhie.mp4', 'xkckjxpknj.mp4', 'tirjsoiyne.mp4', 'hewyozvcjs.mp4', 'vekowwvpdl.mp4', 'kfwgzwepuk.mp4', 'uvqfmpbxos.mp4', 'edpbqnwtho.mp4'}}), ('dfdc_train_part_48', {'Real': {'wuziejscwj.mp4', 'ffcommhoby.mp4', 'boopvichfi.mp4', 'rjzvgihmuu.mp4', 'nthlmvjxac.mp4', 'iwqcdlurfz.mp4', 'jilfwcuyrp.mp4', 'kifyfzqzjj.mp4', 'xxupwwukoh.mp4', 'gsxlolioxh.mp4', 'sfslnpbvtq.mp4', 'limkffcjki.mp4', 'alzbizkswy.mp4', 'paqcbtdulm.mp4', 'cedpyannqf.mp4', 'julfellhdf.mp4', 'akmkcxguii.mp4', 'sotclwmskg.mp4', 'joadtqvfwc.mp4', 'eqabuehals.mp4', 'shslgpeisw.mp4', 'ieplvzbyvl.mp4', 'bhpddnqauc.mp4', 'trvqryiuqr.mp4', 'qfzylqortq.mp4', 'nemzrqisrf.mp4', 'acesusftoa.mp4', 'scxrwnofhb.mp4', 'bfqlqydtam.mp4', 'ixiemiordj.mp4', 'nvkzpexyzg.mp4', 'axutpjywuu.mp4', 'yedrixstja.mp4', 'zfecmsiodq.mp4', 'uatsfwahwn.mp4', 'adtavmdgvg.mp4', 'cwxrlwltie.mp4', 'dpyjlbgxhv.mp4', 'qzucqrxmaj.mp4', 'silyuhawvq.mp4', 'xrugmaiubc.mp4', 'dvtfjdkanq.mp4', 'pyrhvfzopv.mp4', 'sswhgeqjrt.mp4', 'rszdvsayiv.mp4', 'aoqzxlwvmi.mp4', 'dgtdgrzifi.mp4', 'icwvmmmlpy.mp4', 'hpjecyfqrx.mp4', 'avjauiqsjy.mp4'}, 'Fake': {'udfmgkjhnq.mp4', 'fvvuzjbsqe.mp4', 'yyumjpupnm.mp4', 'fdibsyxhwu.mp4', 'oheaiioatv.mp4', 'omfvhpdvio.mp4', 'sxfxiyffyj.mp4', 'xphgsrhcev.mp4', 'kjtecpvuai.mp4', 'nigwtgamqq.mp4', 'kjvrzbfihr.mp4', 'qhlybfsdsr.mp4', 'kaffysxkxg.mp4', 'qfrsnwsqhh.mp4', 'ngbixvttnd.mp4', 'fcnosnknhr.mp4', 'awbjetawnf.mp4', 'ltigamxmii.mp4', 'slpnmekswx.mp4', 'vihekzssnq.mp4', 'llkiunqvzt.mp4', 'yelntvksvi.mp4', 'lpjusdgyqv.mp4', 'lollkigjpp.mp4', 'ygxudmryrm.mp4', 'eqxqgckeaa.mp4', 'ueshqvntrl.mp4', 'hauatxqcid.mp4', 'hbrkehqfqm.mp4', 'eghvuzdbpi.mp4', 'ujtagofmfe.mp4', 'rcgjaofhgt.mp4', 'kmarniljak.mp4', 'orhpztubzy.mp4', 'kpohueldae.mp4', 'bzkgdqauwi.mp4', 'oggjtmpnrb.mp4', 'avubtwxvrc.mp4', 'egcliesbel.mp4', 'yuypjkvzui.mp4', 'mnzqivjzco.mp4', 'xtvyjezbdc.mp4', 'jhfykjblun.mp4', 'kpavkhwehg.mp4', 'cobrcdtekr.mp4', 'tzgaghfpww.mp4', 'dpcahzyjmo.mp4', 'pnhxtiqyef.mp4', 'unmjjivnns.mp4', 'bqkmlqpaqw.mp4'}}), ('dfdc_train_part_49', {'Real': {'czixqjgyck.mp4', 'kfntzsnaeu.mp4', 'eliazncrwl.mp4', 'xzmplldajk.mp4', 'obutchbzkp.mp4', 'yyfknjxaey.mp4', 'hqgervpkkf.mp4', 'wxyjtncrax.mp4', 'wduchluqem.mp4', 'wupoiiknff.mp4', 'jidkzoagws.mp4', 'sefciimtoz.mp4', 'eboqtnoxkv.mp4', 'wdpsjixfue.mp4', 'mmhdcoqsve.mp4', 'unqatfflwv.mp4', 'xdxpdhcqdf.mp4', 'jfdujlungr.mp4', 'qeurndelvm.mp4', 'syhzdgxcne.mp4', 'fscyfygpyk.mp4', 'xjfourpghd.mp4', 'bjszzfmchp.mp4', 'bnsxuqhoei.mp4', 'ttobmbsfoo.mp4', 'tptrzibaxl.mp4', 'bhqcqwcise.mp4', 'ebuejzauxq.mp4', 'iidsevbnrs.mp4', 'okgoflrwph.mp4', 'bevjclbhuo.mp4', 'xnkfiyuzga.mp4', 'fwoclhwwjg.mp4', 'webyiqztha.mp4', 'wrcelewmpa.mp4', 'pmsccgvvut.mp4', 'ttshpcbltc.mp4', 'vsjhvwqkxq.mp4', 'kdjsvneqgy.mp4', 'yhcnxzcbds.mp4', 'nqtnlgswmi.mp4', 'rgksdbawuc.mp4', 'xeszqdbvwi.mp4', 'hkvfyeacje.mp4', 'ioujtlguyo.mp4', 'luyervyqfj.mp4', 'iyfdxpvkgk.mp4', 'xyioxposka.mp4', 'nzwqstlacm.mp4', 'slvfmkhsuf.mp4'}, 'Fake': {'fsdqterpek.mp4', 'bwaorjqqwn.mp4', 'accfrqkrni.mp4', 'rwbvuwcbql.mp4', 'bqouowbtrc.mp4', 'bsspfyrpnw.mp4', 'vwnbgvgzfc.mp4', 'qvqwftakqo.mp4', 'aozliqzela.mp4', 'ivlblicoqn.mp4', 'ltwofbmeuf.mp4', 'qhcrglyfcc.mp4', 'wvhdplgccl.mp4', 'wmgxnhiuvt.mp4', 'wlsoqzaqrs.mp4', 'sxbffmmoqo.mp4', 'yqlqxrjdby.mp4', 'qulhjxhrtj.mp4', 'gcpumdtqbw.mp4', 'mmqltllaqd.mp4', 'sacrjzfefm.mp4', 'gqbraaobou.mp4', 'souczoeetc.mp4', 'upwsvjdtgo.mp4', 'eghhfgzxme.mp4', 'lspcvuaorl.mp4', 'jcbljxsnkq.mp4', 'zmomraqohp.mp4', 'wgvgcrtcct.mp4', 'nfmkfgadlq.mp4', 'achekamhkd.mp4', 'wkenxmwkxc.mp4', 'fmchohvhsr.mp4', 'wbzzvjhdwy.mp4', 'suohrphvbe.mp4', 'nanixzycaw.mp4', 'bajfrpmupx.mp4', 'xbeagkwpft.mp4', 'xjhewcnmsr.mp4', 'dfolhoqttw.mp4', 'xejfttxqkz.mp4', 'mhplyirnlu.mp4', 'ivgaqlclhh.mp4', 'rfrcwmnpdk.mp4', 'fowsqtlwmo.mp4', 'mmkxshbgky.mp4', 'dbbefxhmfk.mp4', 'dnrydtpjus.mp4', 'jfxroglrst.mp4', 'uuscfojzrt.mp4'}}), ('dfdc_train_part_5', {'Real': {'dmwmhxvlfq.mp4', 'yvgnaxkajm.mp4', 'gbqmtnsweh.mp4', 'addknoverp.mp4', 'fsywibkykv.mp4', 'iavxqeuuxa.mp4', 'cisrxltwyh.mp4', 'sitvymbvfh.mp4', 'dxdboiwhoo.mp4', 'feubajatmw.mp4', 'eitfpxnzwo.mp4', 'balpoltqvn.mp4', 'wqtpgcfjlu.mp4', 'kepnpratvf.mp4', 'nralzvqicb.mp4', 'krifcuqyay.mp4', 'soiiwyzmfe.mp4', 'ifvbwbcnyj.mp4', 'omodwoqqhv.mp4', 'kjbjzswdsw.mp4', 'woytzlcssm.mp4', 'ufwsepxqbr.mp4', 'sgzdnmbopr.mp4', 'zhmaznszye.mp4', 'ztuezpjijn.mp4', 'ihwwpkzcdn.mp4', 'ohfokpxnqm.mp4', 'vrzpxnryrm.mp4', 'wgnujygkzy.mp4', 'czzfgvkhah.mp4', 'anikhdvdzo.mp4', 'ejdavxgdsf.mp4', 'hmnspetjoc.mp4', 'wwqptmclnt.mp4', 'eqgipviesf.mp4', 'fimhhyetym.mp4', 'ezuyqnjbwb.mp4', 'offktoxbmq.mp4', 'mppjpwwcom.mp4', 'tzablgewui.mp4', 'fmztdticln.mp4', 'ydbnctieuk.mp4', 'xajcrzlpft.mp4', 'jjgcpugjwy.mp4', 'qnzffjwxxy.mp4', 'zozjzdrvtp.mp4', 'zwrulgwqve.mp4', 'ehtmhdbslm.mp4', 'boumootsed.mp4', 'ilvmgunkie.mp4'}, 'Fake': {'ajtziexlkt.mp4', 'oxwfgxmggc.mp4', 'xbyivztfnr.mp4', 'dpioueayis.mp4', 'pncqrfxnmy.mp4', 'atnmhtfbyx.mp4', 'vqqwbdyxhp.mp4', 'xqdpvrggxz.mp4', 'xpptbnlvht.mp4', 'okarhweycf.mp4', 'nnamukhwmc.mp4', 'xxfytxbwbg.mp4', 'wqveaioeyc.mp4', 'xiwgdxzocf.mp4', 'kipsisnlxc.mp4', 'tgifrhctpt.mp4', 'upllirmhcd.mp4', 'sqkdajiohh.mp4', 'uxrjifrkkk.mp4', 'iqrafkqzwz.mp4', 'paflizqbgw.mp4', 'agldheqnhf.mp4', 'csribdbvgz.mp4', 'hvgvjintyv.mp4', 'qpduehyfqj.mp4', 'tbjyeamosz.mp4', 'nlakalpoce.mp4', 'lnwttwttcw.mp4', 'zthhinxvap.mp4', 'ztybjanabb.mp4', 'lzcfvpedir.mp4', 'ifjkbdsjpx.mp4', 'ggbutwtdet.mp4', 'ctmwfvnugu.mp4', 'tbxisuwppo.mp4', 'achcojqaas.mp4', 'flfdxtiiku.mp4', 'omgcydugep.mp4', 'vwcdgwdecc.mp4', 'wmguqjojif.mp4', 'jorwbhypws.mp4', 'imjoieseuw.mp4', 'ilitvuovjv.mp4', 'ogcktjzanx.mp4', 'rpfkoavwmf.mp4', 'iklstyjfln.mp4', 'llmlqisnfq.mp4', 'kjcstjpivk.mp4', 'erbkuqxdue.mp4', 'dkmybfdiif.mp4'}}), ('dfdc_train_part_6', {'Real': {'nojgizgrbw.mp4', 'zwhyceyddh.mp4', 'drjkkdbcvc.mp4', 'znsntylmoo.mp4', 'uisuxausdz.mp4', 'akcijmdkaq.mp4', 'sycfrgvkry.mp4', 'eaigdemyfo.mp4', 'feihhdwmcu.mp4', 'qwbpqfsdwy.mp4', 'qpadalellh.mp4', 'cuqmhymyxk.mp4', 'beueokqiuo.mp4', 'keikgjgled.mp4', 'ywvbdslsgu.mp4', 'vlpmiheura.mp4', 'brqcongpqi.mp4', 'drtulzvrde.mp4', 'eomsfwykap.mp4', 'usqwjtjrjg.mp4', 'myelaqodcy.mp4', 'csguabnacy.mp4', 'ylwljpzqhq.mp4', 'vwlhtziexs.mp4', 'jtmsdyckqs.mp4', 'pvrncpaovg.mp4', 'fzdwvvaqwg.mp4', 'augnkililg.mp4', 'mmwaomsqbo.mp4', 'vtcrsoekze.mp4', 'vgqnfhsxxs.mp4', 'rfahyynkuf.mp4', 'fgyrmqarez.mp4', 'nmrfqmhabc.mp4', 'edggkddtuv.mp4', 'ercgpntrbr.mp4', 'ibkgonjbjz.mp4', 'krgdrnmezx.mp4', 'terivbcgpp.mp4', 'pnashuxnit.mp4', 'trzrrqxqwl.mp4', 'tectojecvs.mp4', 'buesukpgjd.mp4', 'lzexzlshim.mp4', 'jvkjkrdeok.mp4', 'nanyjxjvlq.mp4', 'dxzccjuqnz.mp4', 'nnrndpakpn.mp4', 'bgebgmkxyc.mp4', 'vdmyzrdarn.mp4'}, 'Fake': {'wauznxenru.mp4', 'usemwbkwvz.mp4', 'qkqfljizts.mp4', 'ysfotvgdcm.mp4', 'qjdoyicbym.mp4', 'kfounuanuu.mp4', 'rafuugjdfn.mp4', 'pkudbxhyss.mp4', 'luwvlbioft.mp4', 'rblgnprkoy.mp4', 'hyorsobehy.mp4', 'srbrnievwy.mp4', 'eamrrztkth.mp4', 'xynzctcfqe.mp4', 'zbchhnvqno.mp4', 'lziifbwnue.mp4', 'jfqladzfeb.mp4', 'xeobqbqdnz.mp4', 'pqlrhqqvqr.mp4', 'xoftlalemo.mp4', 'mdshwrzfeu.mp4', 'cojdjqdmua.mp4', 'eqyjvkultg.mp4', 'ggspsadinj.mp4', 'vpskcoeyfw.mp4', 'sjntqkpgtu.mp4', 'ydfviiiuqs.mp4', 'fjxynzqzxc.mp4', 'ezpuvfxzir.mp4', 'lvximugjcn.mp4', 'mymhdntqyf.mp4', 'fpvlbcugwu.mp4', 'zzpdzuwhfp.mp4', 'rerrdqjdne.mp4', 'izqbaeadoh.mp4', 'dgpzwfwrst.mp4', 'vqepunqaie.mp4', 'idvystcrfi.mp4', 'rfmfbwqbvs.mp4', 'ffftvvszis.mp4', 'flsapfrhaz.mp4', 'ehcrtspwao.mp4', 'likyruhpjb.mp4', 'xehgproyja.mp4', 'adoegocfid.mp4', 'qjzfeknofb.mp4', 'qtemagwjla.mp4', 'gwblqipaxf.mp4', 'vqvvtoakps.mp4', 'cxmublbrkr.mp4'}}), ('dfdc_train_part_7', {'Real': {'idbaeatils.mp4', 'qlzdrhqjwa.mp4', 'ojgetwmygj.mp4', 'fksksiyyty.mp4', 'dyolakhvvw.mp4', 'aqmydibivi.mp4', 'juuxucpukk.mp4', 'gvicncmstz.mp4', 'wudkmejywf.mp4', 'yyaejjkbds.mp4', 'thrgahftid.mp4', 'hvnhuymltm.mp4', 'qskstyrigj.mp4', 'jtcdnrwmwn.mp4', 'zwtmeatpkq.mp4', 'fiiwjcnzff.mp4', 'pswxwumwvb.mp4', 'lejzouanmd.mp4', 'rqgzqwujgo.mp4', 'ucwwycqpeu.mp4', 'rmpvriplny.mp4', 'spyazeqqds.mp4', 'hkroqhedpr.mp4', 'opqeorqknk.mp4', 'mxxwxzeqib.mp4', 'ighgptshjh.mp4', 'zzhtdtgdur.mp4', 'tfqrimpcfz.mp4', 'frwpjswdnr.mp4', 'fwiyjcfwta.mp4', 'duufrtgxtq.mp4', 'mxrnlrylrq.mp4', 'dbnrpkiwjx.mp4', 'kguzqxckys.mp4', 'mkcmhdexey.mp4', 'qoihghfryp.mp4', 'rixipotxkt.mp4', 'vqybdfadtl.mp4', 'hkplvhwibp.mp4', 'yoosbxmtow.mp4', 'kkpgyhdvmb.mp4', 'ejwxolkwsr.mp4', 'sxhwdvetbh.mp4', 'vgxfdvtnic.mp4', 'mvmbdizipz.mp4', 'titmflflrv.mp4', 'leospsirmn.mp4', 'nsfnxqvgxn.mp4', 'cwbubjzysv.mp4', 'jcsqrhfgso.mp4'}, 'Fake': {'pijnbsnxnd.mp4', 'iqvnqsjhvo.mp4', 'vaybapwjtm.mp4', 'xoodxratdi.mp4', 'phipmxzwuq.mp4', 'hasaeibrjl.mp4', 'wfnlaftfac.mp4', 'ydarronbwj.mp4', 'xicyzykqmv.mp4', 'clzdeecpqt.mp4', 'cwvvrbcchf.mp4', 'xtutjndgjm.mp4', 'jfzlnqyraa.mp4', 'cczisiwrmd.mp4', 'hwikdqslop.mp4', 'sldravrmgd.mp4', 'azqmircfhx.mp4', 'drxfbynzji.mp4', 'zyycuwdkyn.mp4', 'rcggtytdrw.mp4', 'evqxazxbnh.mp4', 'eqjfsyfohu.mp4', 'vdvmegmkoh.mp4', 'coahxknxuy.mp4', 'benxwujzwl.mp4', 'bwzpknlhhm.mp4', 'wqubhvdext.mp4', 'jjgqdqwcmq.mp4', 'suxevtqmyb.mp4', 'dkpomvbzfh.mp4', 'ypjthlvxsd.mp4', 'cbxbnwfjxx.mp4', 'kqeaqekvbb.mp4', 'taiosvirky.mp4', 'qquuumylek.mp4', 'kxserhilpo.mp4', 'rqllfvkred.mp4', 'ecfydhcubl.mp4', 'eokzbwqpqm.mp4', 'rqmglaheji.mp4', 'mlnazyfrhq.mp4', 'kliwzsvdyd.mp4', 'pgymnjffbq.mp4', 'ynzgdmtfkr.mp4', 'gbxjqabfkd.mp4', 'gjvjnmoabk.mp4', 'xojuahsfdv.mp4', 'nazagsglnq.mp4', 'jjqfisjkki.mp4', 'xdopouptfu.mp4'}}), ('dfdc_train_part_8', {'Real': {'vtwngbsosg.mp4', 'fqygsfvmhu.mp4', 'txowuqeova.mp4', 'vmsikphyuw.mp4', 'ikssyqwtzq.mp4', 'skgrxxxbmj.mp4', 'ngmwybhzoc.mp4', 'sjbsyezxrn.mp4', 'fvccajstsd.mp4', 'jbroqppyxm.mp4', 'sbfqskzcxw.mp4', 'agaxevrqio.mp4', 'wlxatkenif.mp4', 'nxtvazbmrk.mp4', 'ysabskzckv.mp4', 'cyvovfharx.mp4', 'nmjrbfvzkt.mp4', 'hqdnnmxlwi.mp4', 'mcngzvrtwp.mp4', 'gqeemfybkh.mp4', 'ftmvqcinzq.mp4', 'hlcqjuwpsd.mp4', 'fapkfiroqk.mp4', 'oatemsgkua.mp4', 'xoowpymrmj.mp4', 'qhwxovphvx.mp4', 'fcylgaelfy.mp4', 'xdyddccmse.mp4', 'faxfqltkyl.mp4', 'jxmkxhlphh.mp4', 'haiejrdivd.mp4', 'wswdtdiadq.mp4', 'lbwvzecphf.mp4', 'jeunztbgqk.mp4', 'tkhttgergf.mp4', 'mkkgfwwylk.mp4', 'ckroyyhczi.mp4', 'olyyoxoylf.mp4', 'hjexrxrwwq.mp4', 'iyvcndziss.mp4', 'bjlxpejqcy.mp4', 'pvbgxkkcat.mp4', 'psbmqhbixe.mp4', 'xhywuayloi.mp4', 'uslscwulok.mp4', 'epqksomnzt.mp4', 'wpdkwjcjjn.mp4', 'yzilccrwcj.mp4', 'ioqacgyrwh.mp4', 'etkxpolkef.mp4'}, 'Fake': {'ryezakpmly.mp4', 'nopvkzzcqp.mp4', 'igidlhoyij.mp4', 'xqgtmxrcbl.mp4', 'wmqnaqxyuo.mp4', 'qrinvxwnxz.mp4', 'wydbwjnxak.mp4', 'ydpqykkqkg.mp4', 'qagonymubk.mp4', 'zgcwolwyol.mp4', 'etemzfgvac.mp4', 'vvppqwsgru.mp4', 'nvlebxsvek.mp4', 'javdjdbfhf.mp4', 'jtohddoqan.mp4', 'czyjcdszlf.mp4', 'whzqvqmwbz.mp4', 'oiiuowhunk.mp4', 'zqthbrqavf.mp4', 'udwttqzpjs.mp4', 'hmmgmekvtn.mp4', 'xaeiqjajxf.mp4', 'clcdbvvcrw.mp4', 'szixccrsku.mp4', 'ldfrouxwls.mp4', 'jdlfqkppgz.mp4', 'mathczokbt.mp4', 'aedxxcqpqk.mp4', 'vysgznzxyi.mp4', 'viycilvxhq.mp4', 'zoytoxsliu.mp4', 'ztyamjnzyk.mp4', 'xffqakkyjz.mp4', 'nufwktfmfq.mp4', 'dklrmxxxbg.mp4', 'rqczidbofz.mp4', 'dmojakcdxx.mp4', 'mvkhbeiskl.mp4', 'ahsdvvcjjo.mp4', 'qpqrgfytup.mp4', 'asegzhcfvb.mp4', 'sjsnmrpohp.mp4', 'mtdylbjsxb.mp4', 'npfibhksla.mp4', 'jwqhmvfdhr.mp4', 'wthxksfpti.mp4', 'cfnmdyofmf.mp4', 'sgdeperrpi.mp4', 'bqbaucwxvo.mp4', 'uauvrioftl.mp4'}}), ('dfdc_train_part_9', {'Real': {'gtxprkivjy.mp4', 'lsaiadoutq.mp4', 'kwxgiifbqt.mp4', 'tvrwjmjeyn.mp4', 'lrttgphoxk.mp4', 'hprjimqfvg.mp4', 'mwyczmwyyg.mp4', 'hrvqzjmsxh.mp4', 'bilylzpjwj.mp4', 'spznzscvui.mp4', 'vdrmxusitt.mp4', 'agbgwqacac.mp4', 'hvqbywtguq.mp4', 'ngljxaopeb.mp4', 'vnvhqupmzl.mp4', 'todxkniupi.mp4', 'urpdwjsjkf.mp4', 'fbuqknpnpx.mp4', 'xrsxkkqxzw.mp4', 'sggoinedya.mp4', 'fuodxwoanw.mp4', 'zvtqhjmvqd.mp4', 'ftjmklmrft.mp4', 'bmgmlkikqi.mp4', 'ljzhzvrvhj.mp4', 'shoklqfuil.mp4', 'vzvtdriwmv.mp4', 'gzzvhopbqc.mp4', 'zqwyggtgfc.mp4', 'uzcfalpfss.mp4', 'klmqspxbxv.mp4', 'jjufjipkit.mp4', 'bvxxbmxjun.mp4', 'juspfcwdxi.mp4', 'ltkcnavlsq.mp4', 'jwiybvglul.mp4', 'thaionimas.mp4', 'gncpxzkcca.mp4', 'ymsxaemyex.mp4', 'odijdzsvce.mp4', 'tpogqctbge.mp4', 'pxsxcohmkm.mp4', 'hsvcukeefb.mp4', 'qqxbgedxdk.mp4', 'rffttupbkx.mp4', 'cmqfqmivto.mp4', 'xckfdjolom.mp4', 'npajtovoyr.mp4', 'zqfntxsnna.mp4', 'zyizxcfaru.mp4'}, 'Fake': {'bjkzojznqa.mp4', 'wzhyrcskbg.mp4', 'qslukqcaaf.mp4', 'lzrttsdusf.mp4', 'ugegbxipye.mp4', 'kpumnbeqnh.mp4', 'crlbsvunnh.mp4', 'opgxyhkslj.mp4', 'nlbpcsrtac.mp4', 'qztqimgtgz.mp4', 'rlespxvibl.mp4', 'yrihnhjrjs.mp4', 'omqmuozzld.mp4', 'nfbrnndrlx.mp4', 'kivkgrmdjt.mp4', 'ctnyuikpfa.mp4', 'tpyrrrcugn.mp4', 'azhrvjvptq.mp4', 'dtdeapijco.mp4', 'izpncyqwqu.mp4', 'gkusdnnvha.mp4', 'faalgsowou.mp4', 'sfhkdfvfkc.mp4', 'gdnwijvryh.mp4', 'qbpaxeuhzz.mp4', 'uukgsmowac.mp4', 'kuhopynref.mp4', 'mpjumjlgsu.mp4', 'udxtaaipdt.mp4', 'tfdzfcjmzv.mp4', 'uxurjsxund.mp4', 'ampiisxhzf.mp4', 'kcfwyjxykj.mp4', 'vflgvlkmfl.mp4', 'ilvwzfluvs.mp4', 'oufhhjxfhq.mp4', 'uyiyxrnyee.mp4', 'buhqsrexai.mp4', 'jfpglxltpd.mp4', 'ydqeopjemz.mp4', 'ozafahgexq.mp4', 'vooyswwqmd.mp4', 'ubsmsgyakt.mp4', 'phxchcvfpd.mp4', 'vajouqpugm.mp4', 'jywvvyypwb.mp4', 'oaedytdvph.mp4', 'xohvzwxcfs.mp4', 'ecatbfciue.mp4', 'crpixkdmav.mp4'}})])"
      ]
     },
     "execution_count": 138,
     "metadata": {},
     "output_type": "execute_result"
    }
   ],
   "source": [
    "final_data.items()"
   ]
  },
  {
   "cell_type": "code",
   "execution_count": 139,
   "metadata": {},
   "outputs": [],
   "source": [
    "# import shutil\n",
    "# real_path = 'C:\\\\Users\\\\Pruthivi\\\\Desktop\\\\2_Avyakt\\\\Baselines - Copy\\\\Data_face\\\\Real'\n",
    "# fake_path = 'C:\\\\Users\\\\Pruthivi\\\\Desktop\\\\2_Avyakt\\\\Baselines - Copy\\\\Data_face\\\\Fake'\n",
    "# full_data_path = 'C:\\\\Users\\\\Pruthivi\\\\Desktop\\\\2_Avyakt\\\\Baselines - Copy\\\\temp'\n",
    "\n",
    "# for fol in final_data.keys():\n",
    "#     temp = final_data[fol]\n",
    "#     for r_ in temp['Real']:\n",
    "#         shutil.move(os.path.join(full_data_path, r_.split('.')[0]), real_path)\n",
    "#     for f_ in temp['Fake']:\n",
    "#         shutil.move(os.path.join(full_data_path, f_.split('.')[0]), fake_path)"
   ]
  },
  {
   "cell_type": "code",
   "execution_count": 3,
   "metadata": {},
   "outputs": [],
   "source": [
    "#Making Dataset from here\n",
    "Real_path = 'F:\\\\Face_Data\\\\Real'\n",
    "Fake_path = 'F:\\\\Face_Data\\\\Fake'"
   ]
  },
  {
   "cell_type": "code",
   "execution_count": 4,
   "metadata": {},
   "outputs": [
    {
     "name": "stdout",
     "output_type": "stream",
     "text": [
      "F:\\Face_Data\\Real\n",
      "F:\\Face_Data\\Fake\n"
     ]
    }
   ],
   "source": [
    "print(Real_path)\n",
    "print(Fake_path)"
   ]
  },
  {
   "cell_type": "code",
   "execution_count": 9,
   "metadata": {
    "id": "7snlYoW5FD-b"
   },
   "outputs": [
    {
     "data": {
      "application/vnd.jupyter.widget-view+json": {
       "model_id": "5ec487bc409a4f428afb20d039e4779a",
       "version_major": 2,
       "version_minor": 0
      },
      "text/plain": [
       "HBox(children=(HTML(value=''), FloatProgress(value=0.0, max=2500.0), HTML(value='')))"
      ]
     },
     "metadata": {},
     "output_type": "display_data"
    },
    {
     "name": "stdout",
     "output_type": "stream",
     "text": [
      "\n"
     ]
    }
   ],
   "source": [
    "import cv2\n",
    "data_X = list()\n",
    "data_y = list()\n",
    "# real_data_X = list()\n",
    "# real_data_y = list()\n",
    "num1 = 256\n",
    "num2 = 256\n",
    "for fold in tq.tqdm(os.listdir(Real_path)):\n",
    "  new_path = os.path.join(Real_path, fold)\n",
    "  c = 0\n",
    "#   print(len(os.listdir(new_path)))\n",
    "  for frames in os.listdir(new_path):\n",
    "    if('_' in frames):\n",
    "        continue\n",
    "    if(c == 32):\n",
    "        break\n",
    "    c = c + 1\n",
    "    #print('Frame {}'.format(frames))\n",
    "    path_a = os.path.join(new_path,frames)\n",
    "    img = cv2.imread(path_a)\n",
    "    new_img = cv2.resize(img, (num2, num1))\n",
    "    data_X.append(new_img)\n",
    "    data_y.append(1)\n",
    "#     print(len(real_data_y))\n",
    "  #print(fold)"
   ]
  },
  {
   "cell_type": "code",
   "execution_count": 10,
   "metadata": {
    "id": "jzM_KZXvFD-b"
   },
   "outputs": [
    {
     "data": {
      "application/vnd.jupyter.widget-view+json": {
       "model_id": "c77b61cb0fbe46ca953b47efaab5101f",
       "version_major": 2,
       "version_minor": 0
      },
      "text/plain": [
       "HBox(children=(HTML(value=''), FloatProgress(value=0.0, max=2500.0), HTML(value='')))"
      ]
     },
     "metadata": {},
     "output_type": "display_data"
    },
    {
     "name": "stdout",
     "output_type": "stream",
     "text": [
      "\n"
     ]
    }
   ],
   "source": [
    "import cv2\n",
    "# fake_data_X = list()\n",
    "# fake_data_y = list()\n",
    "num1 = 256\n",
    "num2 = 256\n",
    "for fold in tq.tqdm(os.listdir(Fake_path)):\n",
    "  new_path = os.path.join(Fake_path, fold)\n",
    "  c = 0\n",
    "#   print(len(os.listdir(new_path)))\n",
    "  for frames in os.listdir(new_path):\n",
    "    if('_' in frames):\n",
    "        continue\n",
    "    if c == 32:\n",
    "        break\n",
    "    c = c + 1\n",
    "    #print('Frame {}'.format(frames))\n",
    "    path_a = os.path.join(new_path,frames)\n",
    "    img = cv2.imread(path_a)\n",
    "    new_img = cv2.resize(img, (num2, num1))\n",
    "    data_X.append(new_img)\n",
    "    data_y.append(0)\n",
    "#     print(len(fake_data_y))\n",
    "  #print(fold)"
   ]
  },
  {
   "cell_type": "code",
   "execution_count": null,
   "metadata": {
    "id": "utU0NTfHFD-c"
   },
   "outputs": [],
   "source": [
    "# np.array(data_X).shape, np.array(data_X).shape"
   ]
  },
  {
   "cell_type": "code",
   "execution_count": 97,
   "metadata": {
    "id": "yflHIt7JFD-c"
   },
   "outputs": [],
   "source": [
    "# X = np.concatenate((real_data_X, fake_data_X))\n",
    "# y = np.concatenate((real_data_y, fake_data_y))"
   ]
  },
  {
   "cell_type": "code",
   "execution_count": 11,
   "metadata": {},
   "outputs": [],
   "source": [
    "#Finally save the Numpy array Preprocessed \n",
    "# np.save('X_Full.npy',np.array(data_X))\n",
    "# np.save('y_Full.npy',np.array(data_y))"
   ]
  }
 ],
 "metadata": {
  "colab": {
   "collapsed_sections": [],
   "name": "Preprocessing",
   "provenance": []
  },
  "kernelspec": {
   "display_name": "Python 3",
   "language": "python",
   "name": "python3"
  },
  "language_info": {
   "codemirror_mode": {
    "name": "ipython",
    "version": 3
   },
   "file_extension": ".py",
   "mimetype": "text/x-python",
   "name": "python",
   "nbconvert_exporter": "python",
   "pygments_lexer": "ipython3",
   "version": "3.8.5"
  }
 },
 "nbformat": 4,
 "nbformat_minor": 1
}
